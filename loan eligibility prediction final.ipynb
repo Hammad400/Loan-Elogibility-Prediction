{
 "cells": [
  {
   "cell_type": "markdown",
   "id": "august-compound",
   "metadata": {},
   "source": [
    "<h1 style=\"color:green\" align=\"center\">Loan eligibility prediction</h1>"
   ]
  },
  {
   "cell_type": "markdown",
   "id": "generous-tackle",
   "metadata": {},
   "source": [
    "<h3 style=\"color:purple\"> problem statement:</h3>\n",
    "\n",
    "Dream Housing Finance company deals in all home loans. They have a presence across all urban, semi-urban, and rural areas. Customer-first applies for a home loan after that company validates the customer eligibility for a loan.\n",
    "\n",
    "The company wants to automate the loan eligibility process (real-time) based on customer detail provided while filling the online application form. These details are Gender, Marital Status, Education, Number of Dependents, Income, Loan Amount, Credit History, and others. To automate this process, they have given a problem to identify the customer's segments, those are eligible for loan amount so that they can specifically target these customers. Here they have provided a partial data set.\n",
    "\n",
    "<a href=\"https://www.kaggle.com/vikasukani/loan-eligible-dataset\">Dataset on kaggle</a>\n",
    "\n",
    "<img src=\"loan_prediction.JPG\" >\n"
   ]
  },
  {
   "cell_type": "markdown",
   "id": "forty-liver",
   "metadata": {},
   "source": [
    "#### importing libraries"
   ]
  },
  {
   "cell_type": "code",
   "execution_count": 1,
   "id": "intensive-format",
   "metadata": {},
   "outputs": [],
   "source": [
    "import pandas as pd\n",
    "import matplotlib.pyplot as plt\n",
    "import seaborn as sns\n",
    "import numpy as np"
   ]
  },
  {
   "cell_type": "code",
   "execution_count": 2,
   "id": "available-emerald",
   "metadata": {},
   "outputs": [],
   "source": [
    "from sklearn.model_selection import cross_val_score\n",
    "from sklearn.tree import DecisionTreeClassifier\n",
    "from sklearn.linear_model import LogisticRegression\n",
    "from sklearn.ensemble import RandomForestClassifier\n",
    "from sklearn.svm import SVC\n",
    "from sklearn.model_selection import train_test_split\n",
    "from sklearn import metrics\n",
    "import pickle"
   ]
  },
  {
   "cell_type": "markdown",
   "id": "western-institution",
   "metadata": {},
   "source": [
    "#### loading dataset from csv file"
   ]
  },
  {
   "cell_type": "code",
   "execution_count": 3,
   "id": "tight-bunny",
   "metadata": {},
   "outputs": [
    {
     "data": {
      "text/html": [
       "<div>\n",
       "<style scoped>\n",
       "    .dataframe tbody tr th:only-of-type {\n",
       "        vertical-align: middle;\n",
       "    }\n",
       "\n",
       "    .dataframe tbody tr th {\n",
       "        vertical-align: top;\n",
       "    }\n",
       "\n",
       "    .dataframe thead th {\n",
       "        text-align: right;\n",
       "    }\n",
       "</style>\n",
       "<table border=\"1\" class=\"dataframe\">\n",
       "  <thead>\n",
       "    <tr style=\"text-align: right;\">\n",
       "      <th></th>\n",
       "      <th>Loan_ID</th>\n",
       "      <th>Gender</th>\n",
       "      <th>Married</th>\n",
       "      <th>Dependents</th>\n",
       "      <th>Education</th>\n",
       "      <th>Self_Employed</th>\n",
       "      <th>ApplicantIncome</th>\n",
       "      <th>CoapplicantIncome</th>\n",
       "      <th>LoanAmount</th>\n",
       "      <th>Loan_Amount_Term</th>\n",
       "      <th>Credit_History</th>\n",
       "      <th>Property_Area</th>\n",
       "      <th>Loan_Status</th>\n",
       "    </tr>\n",
       "  </thead>\n",
       "  <tbody>\n",
       "    <tr>\n",
       "      <th>0</th>\n",
       "      <td>LP001002</td>\n",
       "      <td>Male</td>\n",
       "      <td>No</td>\n",
       "      <td>0</td>\n",
       "      <td>Graduate</td>\n",
       "      <td>No</td>\n",
       "      <td>5849</td>\n",
       "      <td>0.0</td>\n",
       "      <td>NaN</td>\n",
       "      <td>360.0</td>\n",
       "      <td>1.0</td>\n",
       "      <td>Urban</td>\n",
       "      <td>Y</td>\n",
       "    </tr>\n",
       "    <tr>\n",
       "      <th>1</th>\n",
       "      <td>LP001003</td>\n",
       "      <td>Male</td>\n",
       "      <td>Yes</td>\n",
       "      <td>1</td>\n",
       "      <td>Graduate</td>\n",
       "      <td>No</td>\n",
       "      <td>4583</td>\n",
       "      <td>1508.0</td>\n",
       "      <td>128.0</td>\n",
       "      <td>360.0</td>\n",
       "      <td>1.0</td>\n",
       "      <td>Rural</td>\n",
       "      <td>N</td>\n",
       "    </tr>\n",
       "    <tr>\n",
       "      <th>2</th>\n",
       "      <td>LP001005</td>\n",
       "      <td>Male</td>\n",
       "      <td>Yes</td>\n",
       "      <td>0</td>\n",
       "      <td>Graduate</td>\n",
       "      <td>Yes</td>\n",
       "      <td>3000</td>\n",
       "      <td>0.0</td>\n",
       "      <td>66.0</td>\n",
       "      <td>360.0</td>\n",
       "      <td>1.0</td>\n",
       "      <td>Urban</td>\n",
       "      <td>Y</td>\n",
       "    </tr>\n",
       "    <tr>\n",
       "      <th>3</th>\n",
       "      <td>LP001006</td>\n",
       "      <td>Male</td>\n",
       "      <td>Yes</td>\n",
       "      <td>0</td>\n",
       "      <td>Not Graduate</td>\n",
       "      <td>No</td>\n",
       "      <td>2583</td>\n",
       "      <td>2358.0</td>\n",
       "      <td>120.0</td>\n",
       "      <td>360.0</td>\n",
       "      <td>1.0</td>\n",
       "      <td>Urban</td>\n",
       "      <td>Y</td>\n",
       "    </tr>\n",
       "    <tr>\n",
       "      <th>4</th>\n",
       "      <td>LP001008</td>\n",
       "      <td>Male</td>\n",
       "      <td>No</td>\n",
       "      <td>0</td>\n",
       "      <td>Graduate</td>\n",
       "      <td>No</td>\n",
       "      <td>6000</td>\n",
       "      <td>0.0</td>\n",
       "      <td>141.0</td>\n",
       "      <td>360.0</td>\n",
       "      <td>1.0</td>\n",
       "      <td>Urban</td>\n",
       "      <td>Y</td>\n",
       "    </tr>\n",
       "  </tbody>\n",
       "</table>\n",
       "</div>"
      ],
      "text/plain": [
       "    Loan_ID Gender Married Dependents     Education Self_Employed  \\\n",
       "0  LP001002   Male      No          0      Graduate            No   \n",
       "1  LP001003   Male     Yes          1      Graduate            No   \n",
       "2  LP001005   Male     Yes          0      Graduate           Yes   \n",
       "3  LP001006   Male     Yes          0  Not Graduate            No   \n",
       "4  LP001008   Male      No          0      Graduate            No   \n",
       "\n",
       "   ApplicantIncome  CoapplicantIncome  LoanAmount  Loan_Amount_Term  \\\n",
       "0             5849                0.0         NaN             360.0   \n",
       "1             4583             1508.0       128.0             360.0   \n",
       "2             3000                0.0        66.0             360.0   \n",
       "3             2583             2358.0       120.0             360.0   \n",
       "4             6000                0.0       141.0             360.0   \n",
       "\n",
       "   Credit_History Property_Area Loan_Status  \n",
       "0             1.0         Urban           Y  \n",
       "1             1.0         Rural           N  \n",
       "2             1.0         Urban           Y  \n",
       "3             1.0         Urban           Y  \n",
       "4             1.0         Urban           Y  "
      ]
     },
     "execution_count": 3,
     "metadata": {},
     "output_type": "execute_result"
    }
   ],
   "source": [
    "# train dateset\n",
    "train=pd.read_csv(r'E:\\step to ML\\DataSets\\Loan eligibility for home\\loan-train.csv')\n",
    "train.head()"
   ]
  },
  {
   "cell_type": "code",
   "execution_count": 5,
   "id": "rational-activation",
   "metadata": {},
   "outputs": [
    {
     "data": {
      "text/html": [
       "<div>\n",
       "<style scoped>\n",
       "    .dataframe tbody tr th:only-of-type {\n",
       "        vertical-align: middle;\n",
       "    }\n",
       "\n",
       "    .dataframe tbody tr th {\n",
       "        vertical-align: top;\n",
       "    }\n",
       "\n",
       "    .dataframe thead th {\n",
       "        text-align: right;\n",
       "    }\n",
       "</style>\n",
       "<table border=\"1\" class=\"dataframe\">\n",
       "  <thead>\n",
       "    <tr style=\"text-align: right;\">\n",
       "      <th></th>\n",
       "      <th>Loan_ID</th>\n",
       "      <th>Gender</th>\n",
       "      <th>Married</th>\n",
       "      <th>Dependents</th>\n",
       "      <th>Education</th>\n",
       "      <th>Self_Employed</th>\n",
       "      <th>ApplicantIncome</th>\n",
       "      <th>CoapplicantIncome</th>\n",
       "      <th>LoanAmount</th>\n",
       "      <th>Loan_Amount_Term</th>\n",
       "      <th>Credit_History</th>\n",
       "      <th>Property_Area</th>\n",
       "    </tr>\n",
       "  </thead>\n",
       "  <tbody>\n",
       "    <tr>\n",
       "      <th>0</th>\n",
       "      <td>LP001015</td>\n",
       "      <td>Male</td>\n",
       "      <td>Yes</td>\n",
       "      <td>0</td>\n",
       "      <td>Graduate</td>\n",
       "      <td>No</td>\n",
       "      <td>5720</td>\n",
       "      <td>0</td>\n",
       "      <td>110.0</td>\n",
       "      <td>360.0</td>\n",
       "      <td>1.0</td>\n",
       "      <td>Urban</td>\n",
       "    </tr>\n",
       "    <tr>\n",
       "      <th>1</th>\n",
       "      <td>LP001022</td>\n",
       "      <td>Male</td>\n",
       "      <td>Yes</td>\n",
       "      <td>1</td>\n",
       "      <td>Graduate</td>\n",
       "      <td>No</td>\n",
       "      <td>3076</td>\n",
       "      <td>1500</td>\n",
       "      <td>126.0</td>\n",
       "      <td>360.0</td>\n",
       "      <td>1.0</td>\n",
       "      <td>Urban</td>\n",
       "    </tr>\n",
       "    <tr>\n",
       "      <th>2</th>\n",
       "      <td>LP001031</td>\n",
       "      <td>Male</td>\n",
       "      <td>Yes</td>\n",
       "      <td>2</td>\n",
       "      <td>Graduate</td>\n",
       "      <td>No</td>\n",
       "      <td>5000</td>\n",
       "      <td>1800</td>\n",
       "      <td>208.0</td>\n",
       "      <td>360.0</td>\n",
       "      <td>1.0</td>\n",
       "      <td>Urban</td>\n",
       "    </tr>\n",
       "    <tr>\n",
       "      <th>3</th>\n",
       "      <td>LP001035</td>\n",
       "      <td>Male</td>\n",
       "      <td>Yes</td>\n",
       "      <td>2</td>\n",
       "      <td>Graduate</td>\n",
       "      <td>No</td>\n",
       "      <td>2340</td>\n",
       "      <td>2546</td>\n",
       "      <td>100.0</td>\n",
       "      <td>360.0</td>\n",
       "      <td>NaN</td>\n",
       "      <td>Urban</td>\n",
       "    </tr>\n",
       "    <tr>\n",
       "      <th>4</th>\n",
       "      <td>LP001051</td>\n",
       "      <td>Male</td>\n",
       "      <td>No</td>\n",
       "      <td>0</td>\n",
       "      <td>Not Graduate</td>\n",
       "      <td>No</td>\n",
       "      <td>3276</td>\n",
       "      <td>0</td>\n",
       "      <td>78.0</td>\n",
       "      <td>360.0</td>\n",
       "      <td>1.0</td>\n",
       "      <td>Urban</td>\n",
       "    </tr>\n",
       "  </tbody>\n",
       "</table>\n",
       "</div>"
      ],
      "text/plain": [
       "    Loan_ID Gender Married Dependents     Education Self_Employed  \\\n",
       "0  LP001015   Male     Yes          0      Graduate            No   \n",
       "1  LP001022   Male     Yes          1      Graduate            No   \n",
       "2  LP001031   Male     Yes          2      Graduate            No   \n",
       "3  LP001035   Male     Yes          2      Graduate            No   \n",
       "4  LP001051   Male      No          0  Not Graduate            No   \n",
       "\n",
       "   ApplicantIncome  CoapplicantIncome  LoanAmount  Loan_Amount_Term  \\\n",
       "0             5720                  0       110.0             360.0   \n",
       "1             3076               1500       126.0             360.0   \n",
       "2             5000               1800       208.0             360.0   \n",
       "3             2340               2546       100.0             360.0   \n",
       "4             3276                  0        78.0             360.0   \n",
       "\n",
       "   Credit_History Property_Area  \n",
       "0             1.0         Urban  \n",
       "1             1.0         Urban  \n",
       "2             1.0         Urban  \n",
       "3             NaN         Urban  \n",
       "4             1.0         Urban  "
      ]
     },
     "execution_count": 5,
     "metadata": {},
     "output_type": "execute_result"
    }
   ],
   "source": [
    "# test dataset\n",
    "test=pd.read_csv(r'E:\\step to ML\\DataSets\\Loan eligibility for home\\loan-test.csv')\n",
    "test.head()"
   ]
  },
  {
   "cell_type": "markdown",
   "id": "guilty-spank",
   "metadata": {},
   "source": [
    "#### exploring dataset"
   ]
  },
  {
   "cell_type": "code",
   "execution_count": 6,
   "id": "genuine-necklace",
   "metadata": {},
   "outputs": [
    {
     "data": {
      "text/plain": [
       "(614, 13)"
      ]
     },
     "execution_count": 6,
     "metadata": {},
     "output_type": "execute_result"
    }
   ],
   "source": [
    "train.shape"
   ]
  },
  {
   "cell_type": "code",
   "execution_count": 7,
   "id": "insured-chance",
   "metadata": {},
   "outputs": [
    {
     "data": {
      "text/plain": [
       "Index(['Loan_ID', 'Gender', 'Married', 'Dependents', 'Education',\n",
       "       'Self_Employed', 'ApplicantIncome', 'CoapplicantIncome', 'LoanAmount',\n",
       "       'Loan_Amount_Term', 'Credit_History', 'Property_Area', 'Loan_Status'],\n",
       "      dtype='object')"
      ]
     },
     "execution_count": 7,
     "metadata": {},
     "output_type": "execute_result"
    }
   ],
   "source": [
    "train.columns"
   ]
  },
  {
   "cell_type": "code",
   "execution_count": 20,
   "id": "academic-joint",
   "metadata": {},
   "outputs": [
    {
     "data": {
      "text/plain": [
       "13"
      ]
     },
     "execution_count": 20,
     "metadata": {},
     "output_type": "execute_result"
    }
   ],
   "source": [
    "len(train.columns)"
   ]
  },
  {
   "cell_type": "code",
   "execution_count": 21,
   "id": "studied-eclipse",
   "metadata": {},
   "outputs": [
    {
     "data": {
      "text/plain": [
       "(367, 12)"
      ]
     },
     "execution_count": 21,
     "metadata": {},
     "output_type": "execute_result"
    }
   ],
   "source": [
    "test.shape"
   ]
  },
  {
   "cell_type": "markdown",
   "id": "accepted-fifteen",
   "metadata": {},
   "source": [
    "#### checking for null values"
   ]
  },
  {
   "cell_type": "code",
   "execution_count": 8,
   "id": "white-richardson",
   "metadata": {},
   "outputs": [
    {
     "data": {
      "text/plain": [
       "Loan_ID               0\n",
       "Gender               13\n",
       "Married               3\n",
       "Dependents           15\n",
       "Education             0\n",
       "Self_Employed        32\n",
       "ApplicantIncome       0\n",
       "CoapplicantIncome     0\n",
       "LoanAmount           22\n",
       "Loan_Amount_Term     14\n",
       "Credit_History       50\n",
       "Property_Area         0\n",
       "Loan_Status           0\n",
       "dtype: int64"
      ]
     },
     "execution_count": 8,
     "metadata": {},
     "output_type": "execute_result"
    }
   ],
   "source": [
    "train.isnull().sum()"
   ]
  },
  {
   "cell_type": "code",
   "execution_count": 9,
   "id": "boring-hungarian",
   "metadata": {},
   "outputs": [
    {
     "data": {
      "text/plain": [
       "Loan_ID               0\n",
       "Gender               11\n",
       "Married               0\n",
       "Dependents           10\n",
       "Education             0\n",
       "Self_Employed        23\n",
       "ApplicantIncome       0\n",
       "CoapplicantIncome     0\n",
       "LoanAmount            5\n",
       "Loan_Amount_Term      6\n",
       "Credit_History       29\n",
       "Property_Area         0\n",
       "dtype: int64"
      ]
     },
     "execution_count": 9,
     "metadata": {},
     "output_type": "execute_result"
    }
   ],
   "source": [
    "test.isnull().sum()"
   ]
  },
  {
   "cell_type": "code",
   "execution_count": 10,
   "id": "smaller-mumbai",
   "metadata": {},
   "outputs": [],
   "source": [
    "def make_dataframe_for_nan(df):\n",
    "    nan_features=[]\n",
    "    nan_rows_feature=[]\n",
    "    perc_nan_rows=[]\n",
    "    rounded_perc_nan_rows=[]\n",
    "    for feature in df.columns:\n",
    "        if (df[feature].isnull().sum())>0:\n",
    "            nan_rows=df[feature].isnull().sum()\n",
    "            nan_rows_per=nan_rows/len(df)*100\n",
    "            rounded_nan_rows_per=np.round(nan_rows_per)\n",
    "            nan_features.append(feature)\n",
    "            nan_rows_feature.append(nan_rows)\n",
    "            perc_nan_rows.append(nan_rows_per)\n",
    "            rounded_perc_nan_rows.append(rounded_nan_rows_per)\n",
    "    nan= pd.DataFrame(list(zip(nan_features,nan_rows_feature,perc_nan_rows,rounded_perc_nan_rows)),columns =['feature Name','no of nan rows','percentage of nan rows','rounded percentage of nan rows'])\n",
    "    nan.index = nan.index + 1\n",
    "    return nan"
   ]
  },
  {
   "cell_type": "code",
   "execution_count": 25,
   "id": "rocky-armstrong",
   "metadata": {},
   "outputs": [
    {
     "data": {
      "text/html": [
       "<div>\n",
       "<style scoped>\n",
       "    .dataframe tbody tr th:only-of-type {\n",
       "        vertical-align: middle;\n",
       "    }\n",
       "\n",
       "    .dataframe tbody tr th {\n",
       "        vertical-align: top;\n",
       "    }\n",
       "\n",
       "    .dataframe thead th {\n",
       "        text-align: right;\n",
       "    }\n",
       "</style>\n",
       "<table border=\"1\" class=\"dataframe\">\n",
       "  <thead>\n",
       "    <tr style=\"text-align: right;\">\n",
       "      <th></th>\n",
       "      <th>feature Name</th>\n",
       "      <th>no of nan rows</th>\n",
       "      <th>percentage of nan rows</th>\n",
       "      <th>rounded percentage of nan rows</th>\n",
       "    </tr>\n",
       "  </thead>\n",
       "  <tbody>\n",
       "    <tr>\n",
       "      <th>1</th>\n",
       "      <td>Gender</td>\n",
       "      <td>13</td>\n",
       "      <td>2.117264</td>\n",
       "      <td>2.0</td>\n",
       "    </tr>\n",
       "    <tr>\n",
       "      <th>2</th>\n",
       "      <td>Married</td>\n",
       "      <td>3</td>\n",
       "      <td>0.488599</td>\n",
       "      <td>0.0</td>\n",
       "    </tr>\n",
       "    <tr>\n",
       "      <th>3</th>\n",
       "      <td>Dependents</td>\n",
       "      <td>15</td>\n",
       "      <td>2.442997</td>\n",
       "      <td>2.0</td>\n",
       "    </tr>\n",
       "    <tr>\n",
       "      <th>4</th>\n",
       "      <td>Self_Employed</td>\n",
       "      <td>32</td>\n",
       "      <td>5.211726</td>\n",
       "      <td>5.0</td>\n",
       "    </tr>\n",
       "    <tr>\n",
       "      <th>5</th>\n",
       "      <td>LoanAmount</td>\n",
       "      <td>22</td>\n",
       "      <td>3.583062</td>\n",
       "      <td>4.0</td>\n",
       "    </tr>\n",
       "    <tr>\n",
       "      <th>6</th>\n",
       "      <td>Loan_Amount_Term</td>\n",
       "      <td>14</td>\n",
       "      <td>2.280130</td>\n",
       "      <td>2.0</td>\n",
       "    </tr>\n",
       "    <tr>\n",
       "      <th>7</th>\n",
       "      <td>Credit_History</td>\n",
       "      <td>50</td>\n",
       "      <td>8.143322</td>\n",
       "      <td>8.0</td>\n",
       "    </tr>\n",
       "  </tbody>\n",
       "</table>\n",
       "</div>"
      ],
      "text/plain": [
       "       feature Name  no of nan rows  percentage of nan rows  \\\n",
       "1            Gender              13                2.117264   \n",
       "2           Married               3                0.488599   \n",
       "3        Dependents              15                2.442997   \n",
       "4     Self_Employed              32                5.211726   \n",
       "5        LoanAmount              22                3.583062   \n",
       "6  Loan_Amount_Term              14                2.280130   \n",
       "7    Credit_History              50                8.143322   \n",
       "\n",
       "   rounded percentage of nan rows  \n",
       "1                             2.0  \n",
       "2                             0.0  \n",
       "3                             2.0  \n",
       "4                             5.0  \n",
       "5                             4.0  \n",
       "6                             2.0  \n",
       "7                             8.0  "
      ]
     },
     "execution_count": 25,
     "metadata": {},
     "output_type": "execute_result"
    }
   ],
   "source": [
    "nan_dataframe=make_dataframe_for_nan(train)\n",
    "nan_dataframe"
   ]
  },
  {
   "cell_type": "code",
   "execution_count": 11,
   "id": "polyphonic-bailey",
   "metadata": {},
   "outputs": [],
   "source": [
    "def list_of_high_nan_features(df):\n",
    "    high_null_features=[]\n",
    "    for feature in df.columns:\n",
    "        nan=df[feature].isnull().sum()\n",
    "        per_nan=nan/len(df)*100\n",
    "        if per_nan>=40:\n",
    "            high_null_features.append(feature)\n",
    "    if len(high_null_features)==0:\n",
    "        print(\"there is no  high null feature in dataframe\")\n",
    "        return []\n",
    "    else:\n",
    "        return high_null_features"
   ]
  },
  {
   "cell_type": "code",
   "execution_count": 12,
   "id": "commercial-family",
   "metadata": {},
   "outputs": [
    {
     "name": "stdout",
     "output_type": "stream",
     "text": [
      "there is no  high null feature in dataframe\n"
     ]
    },
    {
     "data": {
      "text/plain": [
       "[]"
      ]
     },
     "execution_count": 12,
     "metadata": {},
     "output_type": "execute_result"
    }
   ],
   "source": [
    "high_nan_features=list_of_high_nan_features(train)\n",
    "high_nan_features"
   ]
  },
  {
   "cell_type": "markdown",
   "id": "viral-nebraska",
   "metadata": {},
   "source": [
    "#### categorical features"
   ]
  },
  {
   "cell_type": "code",
   "execution_count": 13,
   "id": "julian-decrease",
   "metadata": {},
   "outputs": [
    {
     "name": "stdout",
     "output_type": "stream",
     "text": [
      "Gender ['Male' 'Female' nan]\n",
      "Married ['No' 'Yes' nan]\n",
      "Dependents ['0' '1' '2' '3+' nan]\n",
      "Education ['Graduate' 'Not Graduate']\n",
      "Self_Employed ['No' 'Yes' nan]\n",
      "Credit_History [ 1.  0. nan]\n",
      "Property_Area ['Urban' 'Rural' 'Semiurban']\n",
      "Loan_Status ['Y' 'N']\n"
     ]
    }
   ],
   "source": [
    "for feature in train.columns:\n",
    "    if len(train[feature].unique())<10:\n",
    "        print(feature,train[feature].unique())"
   ]
  },
  {
   "cell_type": "code",
   "execution_count": 14,
   "id": "guilty-company",
   "metadata": {},
   "outputs": [
    {
     "data": {
      "text/plain": [
       "['Gender',\n",
       " 'Married',\n",
       " 'Dependents',\n",
       " 'Education',\n",
       " 'Self_Employed',\n",
       " 'Credit_History',\n",
       " 'Property_Area',\n",
       " 'Loan_Status']"
      ]
     },
     "execution_count": 14,
     "metadata": {},
     "output_type": "execute_result"
    }
   ],
   "source": [
    "catag_features=[feature for feature in train.columns if len(train[feature].unique())<10]\n",
    "catag_features"
   ]
  },
  {
   "cell_type": "code",
   "execution_count": 15,
   "id": "executed-auditor",
   "metadata": {},
   "outputs": [
    {
     "data": {
      "text/plain": [
       "8"
      ]
     },
     "execution_count": 15,
     "metadata": {},
     "output_type": "execute_result"
    }
   ],
   "source": [
    "len(catag_features)"
   ]
  },
  {
   "cell_type": "markdown",
   "id": "plastic-miniature",
   "metadata": {},
   "source": [
    "#### numerical features"
   ]
  },
  {
   "cell_type": "code",
   "execution_count": 16,
   "id": "perfect-panama",
   "metadata": {},
   "outputs": [
    {
     "data": {
      "text/plain": [
       "['ApplicantIncome', 'CoapplicantIncome', 'LoanAmount', 'Loan_Amount_Term']"
      ]
     },
     "execution_count": 16,
     "metadata": {},
     "output_type": "execute_result"
    }
   ],
   "source": [
    "quant_features=[feature for feature in train.columns if (train[feature].dtype!='O' and len(train[feature].unique())>10)]\n",
    "quant_features"
   ]
  },
  {
   "cell_type": "code",
   "execution_count": 17,
   "id": "allied-great",
   "metadata": {},
   "outputs": [
    {
     "data": {
      "text/plain": [
       "4"
      ]
     },
     "execution_count": 17,
     "metadata": {},
     "output_type": "execute_result"
    }
   ],
   "source": [
    "len(quant_features)"
   ]
  },
  {
   "cell_type": "code",
   "execution_count": 18,
   "id": "connected-locking",
   "metadata": {},
   "outputs": [
    {
     "data": {
      "text/plain": [
       "['Loan_ID']"
      ]
     },
     "execution_count": 18,
     "metadata": {},
     "output_type": "execute_result"
    }
   ],
   "source": [
    "large_catagary_features=[feature for feature in train.columns if (train[feature].dtype=='O' and len(train[feature].unique())>10)]\n",
    "large_catagary_features"
   ]
  },
  {
   "cell_type": "markdown",
   "id": "usual-crawford",
   "metadata": {},
   "source": [
    "##### replace values of yes and no with 1 and 0"
   ]
  },
  {
   "cell_type": "code",
   "execution_count": 19,
   "id": "familiar-walter",
   "metadata": {},
   "outputs": [
    {
     "data": {
      "text/plain": [
       "array(['Y', 'N'], dtype=object)"
      ]
     },
     "execution_count": 19,
     "metadata": {},
     "output_type": "execute_result"
    }
   ],
   "source": [
    "train['Loan_Status'].unique()"
   ]
  },
  {
   "cell_type": "code",
   "execution_count": 20,
   "id": "correct-collapse",
   "metadata": {},
   "outputs": [
    {
     "data": {
      "text/plain": [
       "0      1\n",
       "1      0\n",
       "2      1\n",
       "3      1\n",
       "4      1\n",
       "      ..\n",
       "609    1\n",
       "610    1\n",
       "611    1\n",
       "612    1\n",
       "613    0\n",
       "Name: Loan_Status, Length: 614, dtype: int64"
      ]
     },
     "execution_count": 20,
     "metadata": {},
     "output_type": "execute_result"
    }
   ],
   "source": [
    "train['Loan_Status']=train['Loan_Status'].replace(['Y', 'N'],[1,0])\n",
    "train['Loan_Status']"
   ]
  },
  {
   "cell_type": "markdown",
   "id": "binding-surface",
   "metadata": {},
   "source": [
    "### Exploratory data analysis"
   ]
  },
  {
   "cell_type": "code",
   "execution_count": 21,
   "id": "incredible-sydney",
   "metadata": {},
   "outputs": [
    {
     "data": {
      "image/png": "[encoded data removed]",
      "text/plain": [
       "<Figure size 432x288 with 1 Axes>"
      ]
     },
     "metadata": {
      "needs_background": "light"
     },
     "output_type": "display_data"
    },
    {
     "data": {
      "image/png": "[encoded data removed]",
      "text/plain": [
       "<Figure size 432x288 with 1 Axes>"
      ]
     },
     "metadata": {
      "needs_background": "light"
     },
     "output_type": "display_data"
    },
    {
     "data": {
      "image/png": "[encoded data removed]",
      "text/plain": [
       "<Figure size 432x288 with 1 Axes>"
      ]
     },
     "metadata": {
      "needs_background": "light"
     },
     "output_type": "display_data"
    },
    {
     "data": {
      "image/png": "[encoded data removed]",
      "text/plain": [
       "<Figure size 432x288 with 1 Axes>"
      ]
     },
     "metadata": {
      "needs_background": "light"
     },
     "output_type": "display_data"
    },
    {
     "data": {
      "image/png": "[encoded data removed]",
      "text/plain": [
       "<Figure size 432x288 with 1 Axes>"
      ]
     },
     "metadata": {
      "needs_background": "light"
     },
     "output_type": "display_data"
    },
    {
     "data": {
      "image/png": "[encoded data removed]",
      "text/plain": [
       "<Figure size 432x288 with 1 Axes>"
      ]
     },
     "metadata": {
      "needs_background": "light"
     },
     "output_type": "display_data"
    },
    {
     "data": {
      "image/png": "[encoded data removed]",
      "text/plain": [
       "<Figure size 432x288 with 1 Axes>"
      ]
     },
     "metadata": {
      "needs_background": "light"
     },
     "output_type": "display_data"
    },
    {
     "data": {
      "image/png": "[encoded data removed]",
      "text/plain": [
       "<Figure size 432x288 with 1 Axes>"
      ]
     },
     "metadata": {
      "needs_background": "light"
     },
     "output_type": "display_data"
    }
   ],
   "source": [
    "for feature in train.columns:\n",
    "    if len(train[feature].unique())<10:\n",
    "        sns.countplot(x=feature,data=train)\n",
    "        plt.show()"
   ]
  },
  {
   "cell_type": "code",
   "execution_count": 37,
   "id": "massive-intranet",
   "metadata": {},
   "outputs": [
    {
     "data": {
      "image/png": "[encoded data removed]",
      "text/plain": [
       "<Figure size 432x288 with 1 Axes>"
      ]
     },
     "metadata": {
      "needs_background": "light"
     },
     "output_type": "display_data"
    },
    {
     "data": {
      "image/png": "[encoded data removed]",
      "text/plain": [
       "<Figure size 432x288 with 1 Axes>"
      ]
     },
     "metadata": {
      "needs_background": "light"
     },
     "output_type": "display_data"
    },
    {
     "data": {
      "image/png": "[encoded data removed]",
      "text/plain": [
       "<Figure size 432x288 with 1 Axes>"
      ]
     },
     "metadata": {
      "needs_background": "light"
     },
     "output_type": "display_data"
    },
    {
     "data": {
      "image/png": "[encoded data removed]",
      "text/plain": [
       "<Figure size 432x288 with 1 Axes>"
      ]
     },
     "metadata": {
      "needs_background": "light"
     },
     "output_type": "display_data"
    },
    {
     "data": {
      "image/png": "[encoded data removed]",
      "text/plain": [
       "<Figure size 432x288 with 1 Axes>"
      ]
     },
     "metadata": {
      "needs_background": "light"
     },
     "output_type": "display_data"
    },
    {
     "data": {
      "image/png": "[encoded data removed]",
      "text/plain": [
       "<Figure size 432x288 with 1 Axes>"
      ]
     },
     "metadata": {
      "needs_background": "light"
     },
     "output_type": "display_data"
    },
    {
     "data": {
      "image/png": "[encoded data removed]",
      "text/plain": [
       "<Figure size 432x288 with 1 Axes>"
      ]
     },
     "metadata": {
      "needs_background": "light"
     },
     "output_type": "display_data"
    },
    {
     "data": {
      "image/png": "[encoded data removed]",
      "text/plain": [
       "<Figure size 432x288 with 1 Axes>"
      ]
     },
     "metadata": {
      "needs_background": "light"
     },
     "output_type": "display_data"
    }
   ],
   "source": [
    "for feature in train.columns:\n",
    "    if len(train[feature].unique())<10:\n",
    "        sns.countplot(x=feature,data=train,hue='Loan_Status')\n",
    "        plt.show()"
   ]
  },
  {
   "cell_type": "code",
   "execution_count": 38,
   "id": "affiliated-lincoln",
   "metadata": {},
   "outputs": [
    {
     "name": "stdout",
     "output_type": "stream",
     "text": [
      "0.6932515337423313\n",
      "0.6696428571428571\n"
     ]
    },
    {
     "data": {
      "image/png": "[encoded data removed]",
      "text/plain": [
       "<Figure size 432x288 with 1 Axes>"
      ]
     },
     "metadata": {
      "needs_background": "light"
     },
     "output_type": "display_data"
    },
    {
     "name": "stdout",
     "output_type": "stream",
     "text": [
      "0.6291079812206573\n",
      "0.7160804020100503\n"
     ]
    },
    {
     "data": {
      "image/png": "[encoded data removed]",
      "text/plain": [
       "<Figure size 432x288 with 1 Axes>"
      ]
     },
     "metadata": {
      "needs_background": "light"
     },
     "output_type": "display_data"
    },
    {
     "name": "stdout",
     "output_type": "stream",
     "text": [
      "0.6898550724637681\n",
      "0.6470588235294118\n"
     ]
    },
    {
     "data": {
      "image/png": "[encoded data removed]",
      "text/plain": [
       "<Figure size 432x288 with 1 Axes>"
      ]
     },
     "metadata": {
      "needs_background": "light"
     },
     "output_type": "display_data"
    },
    {
     "name": "stdout",
     "output_type": "stream",
     "text": [
      "0.7083333333333334\n",
      "0.6119402985074627\n"
     ]
    },
    {
     "data": {
      "image/png": "[encoded data removed]",
      "text/plain": [
       "<Figure size 432x288 with 1 Axes>"
      ]
     },
     "metadata": {
      "needs_background": "light"
     },
     "output_type": "display_data"
    },
    {
     "name": "stdout",
     "output_type": "stream",
     "text": [
      "0.686\n",
      "0.6829268292682927\n"
     ]
    },
    {
     "data": {
      "image/png": "[encoded data removed]",
      "text/plain": [
       "<Figure size 432x288 with 1 Axes>"
      ]
     },
     "metadata": {
      "needs_background": "light"
     },
     "output_type": "display_data"
    },
    {
     "name": "stdout",
     "output_type": "stream",
     "text": [
      "0.7957894736842105\n",
      "0.07865168539325842\n"
     ]
    },
    {
     "data": {
      "image/png": "[encoded data removed]",
      "text/plain": [
       "<Figure size 432x288 with 1 Axes>"
      ]
     },
     "metadata": {
      "needs_background": "light"
     },
     "output_type": "display_data"
    },
    {
     "name": "stdout",
     "output_type": "stream",
     "text": [
      "0.6584158415841584\n",
      "0.6145251396648045\n"
     ]
    },
    {
     "data": {
      "image/png": "[encoded data removed]",
      "text/plain": [
       "<Figure size 432x288 with 1 Axes>"
      ]
     },
     "metadata": {
      "needs_background": "light"
     },
     "output_type": "display_data"
    },
    {
     "name": "stdout",
     "output_type": "stream",
     "text": [
      "1.0\n",
      "0.0\n"
     ]
    },
    {
     "data": {
      "image/png": "[encoded data removed]",
      "text/plain": [
       "<Figure size 432x288 with 1 Axes>"
      ]
     },
     "metadata": {
      "needs_background": "light"
     },
     "output_type": "display_data"
    }
   ],
   "source": [
    "for feature in train.columns:\n",
    "    if len(train[feature].unique())<10:\n",
    "        print(train['Loan_Status'][train[feature]==train[feature].unique()[0]].mean())\n",
    "        print(train['Loan_Status'][train[feature]==train[feature].unique()[1]].mean())\n",
    "        sns.barplot(x=feature,y='Loan_Status',data=train)\n",
    "        plt.show()"
   ]
  },
  {
   "cell_type": "code",
   "execution_count": 39,
   "id": "usual-morris",
   "metadata": {},
   "outputs": [
    {
     "data": {
      "image/png": "[encoded data removed]",
      "text/plain": [
       "<Figure size 432x288 with 1 Axes>"
      ]
     },
     "metadata": {
      "needs_background": "light"
     },
     "output_type": "display_data"
    },
    {
     "data": {
      "image/png": "[encoded data removed]",
      "text/plain": [
       "<Figure size 432x288 with 1 Axes>"
      ]
     },
     "metadata": {
      "needs_background": "light"
     },
     "output_type": "display_data"
    },
    {
     "data": {
      "image/png": "[encoded data removed]",
      "text/plain": [
       "<Figure size 432x288 with 1 Axes>"
      ]
     },
     "metadata": {
      "needs_background": "light"
     },
     "output_type": "display_data"
    },
    {
     "data": {
      "image/png": "[encoded data removed]",
      "text/plain": [
       "<Figure size 432x288 with 1 Axes>"
      ]
     },
     "metadata": {
      "needs_background": "light"
     },
     "output_type": "display_data"
    }
   ],
   "source": [
    "for feature in train.columns:\n",
    "    if (train[feature].dtype!='O' and len(train[feature].unique())>10):\n",
    "        sns.histplot(train[feature])\n",
    "        plt.show()"
   ]
  },
  {
   "cell_type": "code",
   "execution_count": 40,
   "id": "backed-square",
   "metadata": {},
   "outputs": [],
   "source": [
    "# sns.heatmap(train[quant_features].corr(),annot=True)  "
   ]
  },
  {
   "cell_type": "code",
   "execution_count": 41,
   "id": "egyptian-necklace",
   "metadata": {},
   "outputs": [
    {
     "data": {
      "text/html": [
       "<div>\n",
       "<style scoped>\n",
       "    .dataframe tbody tr th:only-of-type {\n",
       "        vertical-align: middle;\n",
       "    }\n",
       "\n",
       "    .dataframe tbody tr th {\n",
       "        vertical-align: top;\n",
       "    }\n",
       "\n",
       "    .dataframe thead th {\n",
       "        text-align: right;\n",
       "    }\n",
       "</style>\n",
       "<table border=\"1\" class=\"dataframe\">\n",
       "  <thead>\n",
       "    <tr style=\"text-align: right;\">\n",
       "      <th></th>\n",
       "      <th>ApplicantIncome</th>\n",
       "      <th>CoapplicantIncome</th>\n",
       "      <th>LoanAmount</th>\n",
       "      <th>Loan_Amount_Term</th>\n",
       "    </tr>\n",
       "    <tr>\n",
       "      <th>Loan_Status</th>\n",
       "      <th></th>\n",
       "      <th></th>\n",
       "      <th></th>\n",
       "      <th></th>\n",
       "    </tr>\n",
       "  </thead>\n",
       "  <tbody>\n",
       "    <tr>\n",
       "      <th>0</th>\n",
       "      <td>5446.078125</td>\n",
       "      <td>1877.807292</td>\n",
       "      <td>151.220994</td>\n",
       "      <td>344.064516</td>\n",
       "    </tr>\n",
       "    <tr>\n",
       "      <th>1</th>\n",
       "      <td>5384.068720</td>\n",
       "      <td>1504.516398</td>\n",
       "      <td>144.294404</td>\n",
       "      <td>341.072464</td>\n",
       "    </tr>\n",
       "  </tbody>\n",
       "</table>\n",
       "</div>"
      ],
      "text/plain": [
       "             ApplicantIncome  CoapplicantIncome  LoanAmount  Loan_Amount_Term\n",
       "Loan_Status                                                                  \n",
       "0                5446.078125        1877.807292  151.220994        344.064516\n",
       "1                5384.068720        1504.516398  144.294404        341.072464"
      ]
     },
     "execution_count": 41,
     "metadata": {},
     "output_type": "execute_result"
    }
   ],
   "source": [
    "x=pd.pivot_table(train,index='Loan_Status',values=quant_features)\n",
    "x"
   ]
  },
  {
   "cell_type": "markdown",
   "id": "dependent-infrastructure",
   "metadata": {},
   "source": [
    "### feature engineering"
   ]
  },
  {
   "cell_type": "code",
   "execution_count": 42,
   "id": "premium-horse",
   "metadata": {},
   "outputs": [],
   "source": [
    "Loan_Id=test['Loan_ID']"
   ]
  },
  {
   "cell_type": "code",
   "execution_count": 43,
   "id": "double-amino",
   "metadata": {},
   "outputs": [
    {
     "data": {
      "text/plain": [
       "(981, 13)"
      ]
     },
     "execution_count": 43,
     "metadata": {},
     "output_type": "execute_result"
    }
   ],
   "source": [
    "df=pd.concat([train,test],axis=0).reset_index(drop=True)\n",
    "df.shape"
   ]
  },
  {
   "cell_type": "code",
   "execution_count": 44,
   "id": "streaming-fellow",
   "metadata": {},
   "outputs": [
    {
     "data": {
      "text/plain": [
       "Loan_ID                0\n",
       "Gender                24\n",
       "Married                3\n",
       "Dependents            25\n",
       "Education              0\n",
       "Self_Employed         55\n",
       "ApplicantIncome        0\n",
       "CoapplicantIncome      0\n",
       "LoanAmount            27\n",
       "Loan_Amount_Term      20\n",
       "Credit_History        79\n",
       "Property_Area          0\n",
       "Loan_Status          367\n",
       "dtype: int64"
      ]
     },
     "execution_count": 44,
     "metadata": {},
     "output_type": "execute_result"
    }
   ],
   "source": [
    "df.isnull().sum()"
   ]
  },
  {
   "cell_type": "code",
   "execution_count": 45,
   "id": "invalid-drama",
   "metadata": {},
   "outputs": [
    {
     "data": {
      "text/html": [
       "<div>\n",
       "<style scoped>\n",
       "    .dataframe tbody tr th:only-of-type {\n",
       "        vertical-align: middle;\n",
       "    }\n",
       "\n",
       "    .dataframe tbody tr th {\n",
       "        vertical-align: top;\n",
       "    }\n",
       "\n",
       "    .dataframe thead th {\n",
       "        text-align: right;\n",
       "    }\n",
       "</style>\n",
       "<table border=\"1\" class=\"dataframe\">\n",
       "  <thead>\n",
       "    <tr style=\"text-align: right;\">\n",
       "      <th></th>\n",
       "      <th>feature Name</th>\n",
       "      <th>no of nan rows</th>\n",
       "      <th>percentage of nan rows</th>\n",
       "      <th>rounded percentage of nan rows</th>\n",
       "    </tr>\n",
       "  </thead>\n",
       "  <tbody>\n",
       "    <tr>\n",
       "      <th>1</th>\n",
       "      <td>Gender</td>\n",
       "      <td>24</td>\n",
       "      <td>2.446483</td>\n",
       "      <td>2.0</td>\n",
       "    </tr>\n",
       "    <tr>\n",
       "      <th>2</th>\n",
       "      <td>Married</td>\n",
       "      <td>3</td>\n",
       "      <td>0.305810</td>\n",
       "      <td>0.0</td>\n",
       "    </tr>\n",
       "    <tr>\n",
       "      <th>3</th>\n",
       "      <td>Dependents</td>\n",
       "      <td>25</td>\n",
       "      <td>2.548420</td>\n",
       "      <td>3.0</td>\n",
       "    </tr>\n",
       "    <tr>\n",
       "      <th>4</th>\n",
       "      <td>Self_Employed</td>\n",
       "      <td>55</td>\n",
       "      <td>5.606524</td>\n",
       "      <td>6.0</td>\n",
       "    </tr>\n",
       "    <tr>\n",
       "      <th>5</th>\n",
       "      <td>LoanAmount</td>\n",
       "      <td>27</td>\n",
       "      <td>2.752294</td>\n",
       "      <td>3.0</td>\n",
       "    </tr>\n",
       "    <tr>\n",
       "      <th>6</th>\n",
       "      <td>Loan_Amount_Term</td>\n",
       "      <td>20</td>\n",
       "      <td>2.038736</td>\n",
       "      <td>2.0</td>\n",
       "    </tr>\n",
       "    <tr>\n",
       "      <th>7</th>\n",
       "      <td>Credit_History</td>\n",
       "      <td>79</td>\n",
       "      <td>8.053007</td>\n",
       "      <td>8.0</td>\n",
       "    </tr>\n",
       "    <tr>\n",
       "      <th>8</th>\n",
       "      <td>Loan_Status</td>\n",
       "      <td>367</td>\n",
       "      <td>37.410805</td>\n",
       "      <td>37.0</td>\n",
       "    </tr>\n",
       "  </tbody>\n",
       "</table>\n",
       "</div>"
      ],
      "text/plain": [
       "       feature Name  no of nan rows  percentage of nan rows  \\\n",
       "1            Gender              24                2.446483   \n",
       "2           Married               3                0.305810   \n",
       "3        Dependents              25                2.548420   \n",
       "4     Self_Employed              55                5.606524   \n",
       "5        LoanAmount              27                2.752294   \n",
       "6  Loan_Amount_Term              20                2.038736   \n",
       "7    Credit_History              79                8.053007   \n",
       "8       Loan_Status             367               37.410805   \n",
       "\n",
       "   rounded percentage of nan rows  \n",
       "1                             2.0  \n",
       "2                             0.0  \n",
       "3                             3.0  \n",
       "4                             6.0  \n",
       "5                             3.0  \n",
       "6                             2.0  \n",
       "7                             8.0  \n",
       "8                            37.0  "
      ]
     },
     "execution_count": 45,
     "metadata": {},
     "output_type": "execute_result"
    }
   ],
   "source": [
    "df_nan=make_dataframe_for_nan(df)\n",
    "df_nan"
   ]
  },
  {
   "cell_type": "code",
   "execution_count": 46,
   "id": "former-topic",
   "metadata": {},
   "outputs": [
    {
     "name": "stdout",
     "output_type": "stream",
     "text": [
      "there is no  high null feature in dataframe\n"
     ]
    },
    {
     "data": {
      "text/plain": [
       "[]"
      ]
     },
     "execution_count": 46,
     "metadata": {},
     "output_type": "execute_result"
    }
   ],
   "source": [
    "high_nan_features=list_of_high_nan_features(df)\n",
    "high_nan_features"
   ]
  },
  {
   "cell_type": "markdown",
   "id": "regulation-shirt",
   "metadata": {},
   "source": [
    "### visulization of that how many rows droppeed"
   ]
  },
  {
   "cell_type": "code",
   "execution_count": 47,
   "id": "saving-mailing",
   "metadata": {},
   "outputs": [
    {
     "data": {
      "text/plain": [
       "(981, 13)"
      ]
     },
     "execution_count": 47,
     "metadata": {},
     "output_type": "execute_result"
    }
   ],
   "source": [
    "df.shape"
   ]
  },
  {
   "cell_type": "code",
   "execution_count": 48,
   "id": "leading-gateway",
   "metadata": {},
   "outputs": [
    {
     "data": {
      "text/plain": [
       "(480, 13)"
      ]
     },
     "execution_count": 48,
     "metadata": {},
     "output_type": "execute_result"
    }
   ],
   "source": [
    "df.dropna().shape"
   ]
  },
  {
   "cell_type": "code",
   "execution_count": 49,
   "id": "earlier-judge",
   "metadata": {},
   "outputs": [
    {
     "name": "stdout",
     "output_type": "stream",
     "text": [
      "21.610601427115185\n"
     ]
    }
   ],
   "source": [
    "non_null_rows_per=df.iloc[:,:12].dropna().shape[0]/len(df)*100\n",
    "null_rows_per=100-non_null_rows_per\n",
    "print(null_rows_per)"
   ]
  },
  {
   "cell_type": "code",
   "execution_count": 50,
   "id": "dimensional-detroit",
   "metadata": {},
   "outputs": [
    {
     "data": {
      "image/png": "[encoded data removed]",
      "text/plain": [
       "<Figure size 432x288 with 1 Axes>"
      ]
     },
     "metadata": {},
     "output_type": "display_data"
    }
   ],
   "source": [
    "exp_vals=[non_null_rows_per,null_rows_per]\n",
    "exp_labels=['percentage of un dropped rows','percentage of dropped rows']\n",
    "plt.pie(exp_vals,labels=exp_labels)\n",
    "plt.show()"
   ]
  },
  {
   "cell_type": "markdown",
   "id": "eight-forge",
   "metadata": {},
   "source": [
    "### first way :drop all null values"
   ]
  },
  {
   "cell_type": "code",
   "execution_count": 51,
   "id": "latter-witch",
   "metadata": {},
   "outputs": [],
   "source": [
    "# df=df.dropna()\n",
    "# print('shape after dropping ',df.shape)"
   ]
  },
  {
   "cell_type": "markdown",
   "id": "given-correspondence",
   "metadata": {},
   "source": [
    "### 2nd:way fill with zero"
   ]
  },
  {
   "cell_type": "code",
   "execution_count": 52,
   "id": "precise-worship",
   "metadata": {},
   "outputs": [],
   "source": [
    "# df=df.fillna(0)"
   ]
  },
  {
   "cell_type": "markdown",
   "id": "chronic-hungary",
   "metadata": {},
   "source": [
    "### 3rd way: fiill null_values with mode of that feature"
   ]
  },
  {
   "cell_type": "code",
   "execution_count": 53,
   "id": "powerful-election",
   "metadata": {},
   "outputs": [],
   "source": [
    "# for feature in df.columns:\n",
    "#     if df[feature].isnull().sum()>0:\n",
    "#         df[feature]=df[feature].fillna(df[feature].mode()[0])"
   ]
  },
  {
   "cell_type": "markdown",
   "id": "sudden-prophet",
   "metadata": {},
   "source": [
    "### 4rd way"
   ]
  },
  {
   "cell_type": "code",
   "execution_count": 54,
   "id": "medium-effectiveness",
   "metadata": {},
   "outputs": [
    {
     "data": {
      "text/plain": [
       "['Gender',\n",
       " 'Married',\n",
       " 'Dependents',\n",
       " 'Education',\n",
       " 'Self_Employed',\n",
       " 'Credit_History',\n",
       " 'Property_Area',\n",
       " 'Loan_Status']"
      ]
     },
     "execution_count": 54,
     "metadata": {},
     "output_type": "execute_result"
    }
   ],
   "source": [
    "catag_features"
   ]
  },
  {
   "cell_type": "code",
   "execution_count": 55,
   "id": "german-rebecca",
   "metadata": {},
   "outputs": [
    {
     "data": {
      "text/plain": [
       "Gender             24\n",
       "Married             3\n",
       "Dependents         25\n",
       "Education           0\n",
       "Self_Employed      55\n",
       "Credit_History     79\n",
       "Property_Area       0\n",
       "Loan_Status       367\n",
       "dtype: int64"
      ]
     },
     "execution_count": 55,
     "metadata": {},
     "output_type": "execute_result"
    }
   ],
   "source": [
    "df[catag_features].isnull().sum()"
   ]
  },
  {
   "cell_type": "code",
   "execution_count": 56,
   "id": "solved-approach",
   "metadata": {},
   "outputs": [],
   "source": [
    "for feature in catag_features:\n",
    "    if df[feature].isnull().sum()>0:\n",
    "        df[feature]=df[feature].fillna(df[feature].mode()[0])"
   ]
  },
  {
   "cell_type": "markdown",
   "id": "centered-radio",
   "metadata": {},
   "source": [
    "### 4th way"
   ]
  },
  {
   "cell_type": "code",
   "execution_count": 57,
   "id": "guilty-candle",
   "metadata": {},
   "outputs": [],
   "source": [
    "# do above manually for every feature"
   ]
  },
  {
   "cell_type": "markdown",
   "id": "selective-bosnia",
   "metadata": {},
   "source": [
    "### 5th way"
   ]
  },
  {
   "cell_type": "code",
   "execution_count": 58,
   "id": "plastic-henry",
   "metadata": {},
   "outputs": [
    {
     "data": {
      "text/plain": [
       "142.51153039832286"
      ]
     },
     "execution_count": 58,
     "metadata": {},
     "output_type": "execute_result"
    }
   ],
   "source": [
    "df['LoanAmount'].mean()"
   ]
  },
  {
   "cell_type": "code",
   "execution_count": 59,
   "id": "vulnerable-challenge",
   "metadata": {},
   "outputs": [],
   "source": [
    "df['LoanAmount']=df['LoanAmount'].fillna(df['LoanAmount'].mean())"
   ]
  },
  {
   "cell_type": "code",
   "execution_count": 60,
   "id": "focused-things",
   "metadata": {},
   "outputs": [
    {
     "data": {
      "text/plain": [
       "342.2018730489074"
      ]
     },
     "execution_count": 60,
     "metadata": {},
     "output_type": "execute_result"
    }
   ],
   "source": [
    "df['Loan_Amount_Term'].mean()"
   ]
  },
  {
   "cell_type": "code",
   "execution_count": 61,
   "id": "requested-permission",
   "metadata": {},
   "outputs": [],
   "source": [
    "df['Loan_Amount_Term']=df['Loan_Amount_Term'].fillna(df['Loan_Amount_Term'].mean())"
   ]
  },
  {
   "cell_type": "markdown",
   "id": "ignored-jungle",
   "metadata": {},
   "source": [
    "### 6th way:"
   ]
  },
  {
   "cell_type": "code",
   "execution_count": 62,
   "id": "trained-teach",
   "metadata": {},
   "outputs": [
    {
     "data": {
      "text/plain": [
       "128.0"
      ]
     },
     "execution_count": 62,
     "metadata": {},
     "output_type": "execute_result"
    }
   ],
   "source": [
    "df['LoanAmount'].median()"
   ]
  },
  {
   "cell_type": "code",
   "execution_count": 63,
   "id": "needed-feature",
   "metadata": {},
   "outputs": [
    {
     "data": {
      "text/plain": [
       "360.0"
      ]
     },
     "execution_count": 63,
     "metadata": {},
     "output_type": "execute_result"
    }
   ],
   "source": [
    "df['Loan_Amount_Term'].median()"
   ]
  },
  {
   "cell_type": "code",
   "execution_count": 64,
   "id": "ultimate-malawi",
   "metadata": {},
   "outputs": [],
   "source": [
    "df['LoanAmount']=df['LoanAmount'].fillna(df['LoanAmount'].median())"
   ]
  },
  {
   "cell_type": "code",
   "execution_count": 65,
   "id": "manual-threat",
   "metadata": {},
   "outputs": [],
   "source": [
    "df['Loan_Amount_Term']=df['Loan_Amount_Term'].fillna(df['Loan_Amount_Term'].median())"
   ]
  },
  {
   "cell_type": "markdown",
   "id": "expensive-split",
   "metadata": {},
   "source": [
    "### 7th way:complex fill"
   ]
  },
  {
   "cell_type": "code",
   "execution_count": 66,
   "id": "historical-happening",
   "metadata": {},
   "outputs": [
    {
     "data": {
      "image/png": "[encoded data removed]",
      "text/plain": [
       "<Figure size 432x288 with 1 Axes>"
      ]
     },
     "metadata": {
      "needs_background": "light"
     },
     "output_type": "display_data"
    },
    {
     "data": {
      "image/png": "[encoded data removed]",
      "text/plain": [
       "<Figure size 432x288 with 1 Axes>"
      ]
     },
     "metadata": {
      "needs_background": "light"
     },
     "output_type": "display_data"
    },
    {
     "data": {
      "image/png": "[encoded data removed]",
      "text/plain": [
       "<Figure size 432x288 with 1 Axes>"
      ]
     },
     "metadata": {
      "needs_background": "light"
     },
     "output_type": "display_data"
    },
    {
     "data": {
      "image/png": "[encoded data removed]",
      "text/plain": [
       "<Figure size 432x288 with 1 Axes>"
      ]
     },
     "metadata": {
      "needs_background": "light"
     },
     "output_type": "display_data"
    },
    {
     "data": {
      "image/png": "[encoded data removed]",
      "text/plain": [
       "<Figure size 432x288 with 1 Axes>"
      ]
     },
     "metadata": {
      "needs_background": "light"
     },
     "output_type": "display_data"
    },
    {
     "data": {
      "image/png": "[encoded data removed]",
      "text/plain": [
       "<Figure size 432x288 with 1 Axes>"
      ]
     },
     "metadata": {
      "needs_background": "light"
     },
     "output_type": "display_data"
    },
    {
     "data": {
      "image/png": "[encoded data removed]",
      "text/plain": [
       "<Figure size 432x288 with 1 Axes>"
      ]
     },
     "metadata": {
      "needs_background": "light"
     },
     "output_type": "display_data"
    },
    {
     "data": {
      "image/png": "[encoded data removed]",
      "text/plain": [
       "<Figure size 432x288 with 1 Axes>"
      ]
     },
     "metadata": {
      "needs_background": "light"
     },
     "output_type": "display_data"
    }
   ],
   "source": [
    "for feature in catag_features:\n",
    "    sns.boxplot(x=feature,y='LoanAmount',data=df)\n",
    "    plt.show()  "
   ]
  },
  {
   "cell_type": "code",
   "execution_count": 67,
   "id": "steady-restaurant",
   "metadata": {},
   "outputs": [],
   "source": [
    "### un_completed"
   ]
  },
  {
   "cell_type": "code",
   "execution_count": 68,
   "id": "graphic-coach",
   "metadata": {},
   "outputs": [
    {
     "data": {
      "text/plain": [
       "Loan_ID              0\n",
       "Gender               0\n",
       "Married              0\n",
       "Dependents           0\n",
       "Education            0\n",
       "Self_Employed        0\n",
       "ApplicantIncome      0\n",
       "CoapplicantIncome    0\n",
       "LoanAmount           0\n",
       "Loan_Amount_Term     0\n",
       "Credit_History       0\n",
       "Property_Area        0\n",
       "Loan_Status          0\n",
       "dtype: int64"
      ]
     },
     "execution_count": 68,
     "metadata": {},
     "output_type": "execute_result"
    }
   ],
   "source": [
    "df.isnull().sum()"
   ]
  },
  {
   "cell_type": "markdown",
   "id": "certified-beverage",
   "metadata": {},
   "source": [
    "### feature transformation:"
   ]
  },
  {
   "cell_type": "code",
   "execution_count": 69,
   "id": "sitting-edgar",
   "metadata": {},
   "outputs": [
    {
     "data": {
      "text/plain": [
       "['ApplicantIncome', 'CoapplicantIncome', 'LoanAmount', 'Loan_Amount_Term']"
      ]
     },
     "execution_count": 69,
     "metadata": {},
     "output_type": "execute_result"
    }
   ],
   "source": [
    "quant_features"
   ]
  },
  {
   "cell_type": "code",
   "execution_count": 70,
   "id": "affected-columbus",
   "metadata": {},
   "outputs": [
    {
     "name": "stdout",
     "output_type": "stream",
     "text": [
      "Skew ofApplicantIncome is:7.086961153594506\n"
     ]
    },
    {
     "data": {
      "image/png": "[encoded data removed]",
      "text/plain": [
       "<Figure size 432x288 with 1 Axes>"
      ]
     },
     "metadata": {
      "needs_background": "light"
     },
     "output_type": "display_data"
    },
    {
     "name": "stdout",
     "output_type": "stream",
     "text": [
      "Skew ofCoapplicantIncome is:6.844108581480271\n"
     ]
    },
    {
     "data": {
      "image/png": "[encoded data removed]",
      "text/plain": [
       "<Figure size 432x288 with 1 Axes>"
      ]
     },
     "metadata": {
      "needs_background": "light"
     },
     "output_type": "display_data"
    },
    {
     "name": "stdout",
     "output_type": "stream",
     "text": [
      "Skew ofLoanAmount is:2.752054617168129\n"
     ]
    },
    {
     "data": {
      "image/png": "[encoded data removed]",
      "text/plain": [
       "<Figure size 432x288 with 1 Axes>"
      ]
     },
     "metadata": {
      "needs_background": "light"
     },
     "output_type": "display_data"
    },
    {
     "name": "stdout",
     "output_type": "stream",
     "text": [
      "Skew ofLoan_Amount_Term is:-2.502958777682449\n"
     ]
    },
    {
     "data": {
      "image/png": "[encoded data removed]",
      "text/plain": [
       "<Figure size 432x288 with 1 Axes>"
      ]
     },
     "metadata": {
      "needs_background": "light"
     },
     "output_type": "display_data"
    }
   ],
   "source": [
    "for feature in quant_features:\n",
    "    skew=df[feature].skew()\n",
    "    print(f'Skew of{feature} is:{skew}')\n",
    "    sns.histplot(df[feature],kde='True')\n",
    "    plt.show()   "
   ]
  },
  {
   "cell_type": "markdown",
   "id": "certain-berry",
   "metadata": {},
   "source": [
    "### ApplicantIncome"
   ]
  },
  {
   "cell_type": "code",
   "execution_count": 71,
   "id": "julian-nicholas",
   "metadata": {},
   "outputs": [
    {
     "name": "stderr",
     "output_type": "stream",
     "text": [
      "c:\\users\\sk\\appdata\\local\\programs\\python\\python39\\lib\\site-packages\\pandas\\core\\arraylike.py:358: RuntimeWarning: divide by zero encountered in log\n",
      "  result = getattr(ufunc, method)(*inputs, **kwargs)\n"
     ]
    },
    {
     "data": {
      "text/plain": [
       "nan"
      ]
     },
     "execution_count": 71,
     "metadata": {},
     "output_type": "execute_result"
    }
   ],
   "source": [
    "df['log_ApplicantIncome']=np.log(df['ApplicantIncome'])\n",
    "df['log_ApplicantIncome'].skew()"
   ]
  },
  {
   "cell_type": "code",
   "execution_count": 72,
   "id": "polished-leather",
   "metadata": {},
   "outputs": [
    {
     "data": {
      "text/plain": [
       "3.043175507935635"
      ]
     },
     "execution_count": 72,
     "metadata": {},
     "output_type": "execute_result"
    },
    {
     "data": {
      "image/png": "[encoded data removed]",
      "text/plain": [
       "<Figure size 432x288 with 1 Axes>"
      ]
     },
     "metadata": {
      "needs_background": "light"
     },
     "output_type": "display_data"
    }
   ],
   "source": [
    "df['sq_ApplicantIncome']=df['ApplicantIncome']**(1/2)\n",
    "sns.histplot(df['sq_ApplicantIncome'],kde='True')\n",
    "df['sq_ApplicantIncome'].skew()"
   ]
  },
  {
   "cell_type": "code",
   "execution_count": 73,
   "id": "plastic-isolation",
   "metadata": {},
   "outputs": [
    {
     "data": {
      "text/plain": [
       "2.1863591838696665"
      ]
     },
     "execution_count": 73,
     "metadata": {},
     "output_type": "execute_result"
    },
    {
     "data": {
      "image/png": "[encoded data removed]",
      "text/plain": [
       "<Figure size 432x288 with 1 Axes>"
      ]
     },
     "metadata": {
      "needs_background": "light"
     },
     "output_type": "display_data"
    }
   ],
   "source": [
    "df['exp_ApplicantIncome']=df['ApplicantIncome']**(1/2.7)\n",
    "sns.histplot(df['exp_ApplicantIncome'],kde='True')\n",
    "df['exp_ApplicantIncome'].skew()"
   ]
  },
  {
   "cell_type": "code",
   "execution_count": 74,
   "id": "anonymous-sampling",
   "metadata": {},
   "outputs": [
    {
     "name": "stdout",
     "output_type": "stream",
     "text": [
      "skew 0.37333764973949285\n"
     ]
    },
    {
     "data": {
      "text/plain": [
       "<AxesSubplot:xlabel='ApplicantIncome_YJ', ylabel='Count'>"
      ]
     },
     "execution_count": 74,
     "metadata": {},
     "output_type": "execute_result"
    },
    {
     "data": {
      "image/png": "[encoded data removed]",
      "text/plain": [
       "<Figure size 432x288 with 1 Axes>"
      ]
     },
     "metadata": {
      "needs_background": "light"
     },
     "output_type": "display_data"
    }
   ],
   "source": [
    "import scipy.stats as stat\n",
    "from sklearn.preprocessing import PowerTransformer\n",
    "pt = PowerTransformer()\n",
    "ptdata=pd.DataFrame(pt.fit_transform(df['ApplicantIncome'].values.reshape(-1,1)),columns=['ApplicantIncome_YJ']) ### need to understand code\n",
    "print('skew',ptdata['ApplicantIncome_YJ'].skew())\n",
    "sns.histplot(ptdata['ApplicantIncome_YJ'],kde='True')"
   ]
  },
  {
   "cell_type": "code",
   "execution_count": 75,
   "id": "arbitrary-proposal",
   "metadata": {},
   "outputs": [],
   "source": [
    "df['ApplicantIncome_tranformed']=ptdata['ApplicantIncome_YJ']"
   ]
  },
  {
   "cell_type": "code",
   "execution_count": 76,
   "id": "resistant-float",
   "metadata": {},
   "outputs": [],
   "source": [
    "df.drop(labels = ['log_ApplicantIncome', 'sq_ApplicantIncome','exp_ApplicantIncome'], axis = 1, inplace = True)"
   ]
  },
  {
   "cell_type": "code",
   "execution_count": 77,
   "id": "creative-answer",
   "metadata": {},
   "outputs": [
    {
     "data": {
      "text/plain": [
       "(-7.183683050552863, 5.534979158059303)"
      ]
     },
     "execution_count": 77,
     "metadata": {},
     "output_type": "execute_result"
    }
   ],
   "source": [
    "df['ApplicantIncome_tranformed'].min(),df['ApplicantIncome_tranformed'].max()"
   ]
  },
  {
   "cell_type": "code",
   "execution_count": 78,
   "id": "polish-sucking",
   "metadata": {},
   "outputs": [],
   "source": [
    "df.drop(labels = [\"ApplicantIncome\"], axis = 1, inplace = True) #drop actual Fare feature from the dataset"
   ]
  },
  {
   "cell_type": "markdown",
   "id": "intermediate-cargo",
   "metadata": {},
   "source": [
    "### CoapplicantIncome"
   ]
  },
  {
   "cell_type": "code",
   "execution_count": 79,
   "id": "injured-jacket",
   "metadata": {},
   "outputs": [
    {
     "data": {
      "text/plain": [
       "6.844108581480271"
      ]
     },
     "execution_count": 79,
     "metadata": {},
     "output_type": "execute_result"
    }
   ],
   "source": [
    "df['CoapplicantIncome'].skew()"
   ]
  },
  {
   "cell_type": "code",
   "execution_count": 80,
   "id": "backed-protection",
   "metadata": {},
   "outputs": [
    {
     "name": "stderr",
     "output_type": "stream",
     "text": [
      "c:\\users\\sk\\appdata\\local\\programs\\python\\python39\\lib\\site-packages\\pandas\\core\\arraylike.py:358: RuntimeWarning: divide by zero encountered in log\n",
      "  result = getattr(ufunc, method)(*inputs, **kwargs)\n"
     ]
    },
    {
     "data": {
      "text/plain": [
       "nan"
      ]
     },
     "execution_count": 80,
     "metadata": {},
     "output_type": "execute_result"
    }
   ],
   "source": [
    "df['log_CoapplicantIncome']=np.log(df['CoapplicantIncome'])\n",
    "df['log_CoapplicantIncome'].skew()"
   ]
  },
  {
   "cell_type": "code",
   "execution_count": 81,
   "id": "immediate-median",
   "metadata": {},
   "outputs": [
    {
     "data": {
      "text/plain": [
       "0.8586067507480066"
      ]
     },
     "execution_count": 81,
     "metadata": {},
     "output_type": "execute_result"
    },
    {
     "data": {
      "image/png": "[encoded data removed]",
      "text/plain": [
       "<Figure size 432x288 with 1 Axes>"
      ]
     },
     "metadata": {
      "needs_background": "light"
     },
     "output_type": "display_data"
    }
   ],
   "source": [
    "df['sq_CoapplicantIncome']=df['CoapplicantIncome']**(1/2)\n",
    "sns.histplot(df['sq_CoapplicantIncome'],kde='True')\n",
    "df['sq_CoapplicantIncome'].skew()"
   ]
  },
  {
   "cell_type": "code",
   "execution_count": 82,
   "id": "studied-matter",
   "metadata": {},
   "outputs": [
    {
     "data": {
      "text/plain": [
       "0.2709097756846954"
      ]
     },
     "execution_count": 82,
     "metadata": {},
     "output_type": "execute_result"
    },
    {
     "data": {
      "image/png": "[encoded data removed]",
      "text/plain": [
       "<Figure size 432x288 with 1 Axes>"
      ]
     },
     "metadata": {
      "needs_background": "light"
     },
     "output_type": "display_data"
    }
   ],
   "source": [
    "df['exp_CoapplicantIncome']=df['CoapplicantIncome']**(1/2.7)\n",
    "sns.histplot(df['exp_CoapplicantIncome'],kde='True')\n",
    "df['exp_CoapplicantIncome'].skew()"
   ]
  },
  {
   "cell_type": "code",
   "execution_count": 83,
   "id": "reflected-terry",
   "metadata": {},
   "outputs": [
    {
     "name": "stdout",
     "output_type": "stream",
     "text": [
      "skew -0.1665200126717774\n"
     ]
    },
    {
     "data": {
      "text/plain": [
       "<AxesSubplot:xlabel='CoapplicantIncome_YJ', ylabel='Count'>"
      ]
     },
     "execution_count": 83,
     "metadata": {},
     "output_type": "execute_result"
    },
    {
     "data": {
      "image/png": "[encoded data removed]",
      "text/plain": [
       "<Figure size 432x288 with 1 Axes>"
      ]
     },
     "metadata": {
      "needs_background": "light"
     },
     "output_type": "display_data"
    }
   ],
   "source": [
    "import scipy.stats as stat\n",
    "from sklearn.preprocessing import PowerTransformer\n",
    "pt = PowerTransformer()\n",
    "ptdata=pd.DataFrame(pt.fit_transform(df['CoapplicantIncome'].values.reshape(-1,1)),columns=['CoapplicantIncome_YJ']) ### need to understand code\n",
    "print('skew',ptdata['CoapplicantIncome_YJ'].skew())\n",
    "sns.histplot(ptdata['CoapplicantIncome_YJ'],kde='True')"
   ]
  },
  {
   "cell_type": "code",
   "execution_count": 84,
   "id": "seven-carol",
   "metadata": {},
   "outputs": [],
   "source": [
    "df['CoapplicantIncome_tranformed']=ptdata['CoapplicantIncome_YJ']"
   ]
  },
  {
   "cell_type": "code",
   "execution_count": 85,
   "id": "legitimate-payment",
   "metadata": {},
   "outputs": [],
   "source": [
    "df.drop(labels = ['log_CoapplicantIncome',\n",
    "       'sq_CoapplicantIncome',\n",
    "       'CoapplicantIncome_tranformed'], axis = 1, inplace = True)"
   ]
  },
  {
   "cell_type": "code",
   "execution_count": 86,
   "id": "dressed-pizza",
   "metadata": {},
   "outputs": [
    {
     "data": {
      "text/plain": [
       "(0.0, 51.408408622412566)"
      ]
     },
     "execution_count": 86,
     "metadata": {},
     "output_type": "execute_result"
    }
   ],
   "source": [
    "df['exp_CoapplicantIncome'].min(),df['exp_CoapplicantIncome'].max()"
   ]
  },
  {
   "cell_type": "code",
   "execution_count": 87,
   "id": "contained-population",
   "metadata": {},
   "outputs": [],
   "source": [
    "df.drop(labels = [\"CoapplicantIncome\"], axis = 1, inplace = True) #drop actual Fare feature from the dataset"
   ]
  },
  {
   "cell_type": "markdown",
   "id": "living-crime",
   "metadata": {},
   "source": [
    "### LoanAmount"
   ]
  },
  {
   "cell_type": "code",
   "execution_count": 88,
   "id": "frequent-ottawa",
   "metadata": {},
   "outputs": [
    {
     "data": {
      "text/plain": [
       "2.752054617168129"
      ]
     },
     "execution_count": 88,
     "metadata": {},
     "output_type": "execute_result"
    }
   ],
   "source": [
    "df['LoanAmount'].skew()"
   ]
  },
  {
   "cell_type": "code",
   "execution_count": 89,
   "id": "august-incident",
   "metadata": {},
   "outputs": [
    {
     "data": {
      "text/plain": [
       "-0.21502897075612312"
      ]
     },
     "execution_count": 89,
     "metadata": {},
     "output_type": "execute_result"
    },
    {
     "data": {
      "image/png": "[encoded data removed]",
      "text/plain": [
       "<Figure size 432x288 with 1 Axes>"
      ]
     },
     "metadata": {
      "needs_background": "light"
     },
     "output_type": "display_data"
    }
   ],
   "source": [
    "df['log_LoanAmount']=np.log(df['LoanAmount'])\n",
    "sns.histplot(df['log_LoanAmount'],kde='True')\n",
    "df['log_LoanAmount'].skew()"
   ]
  },
  {
   "cell_type": "code",
   "execution_count": 90,
   "id": "satellite-sympathy",
   "metadata": {},
   "outputs": [
    {
     "data": {
      "text/plain": [
       "1.2693726241712515"
      ]
     },
     "execution_count": 90,
     "metadata": {},
     "output_type": "execute_result"
    },
    {
     "data": {
      "image/png": "[encoded data removed]",
      "text/plain": [
       "<Figure size 432x288 with 1 Axes>"
      ]
     },
     "metadata": {
      "needs_background": "light"
     },
     "output_type": "display_data"
    }
   ],
   "source": [
    "df['sq_LoanAmount']=df['LoanAmount']**(1/2)\n",
    "sns.histplot(df['sq_LoanAmount'],kde='True')\n",
    "df['sq_LoanAmount'].skew()"
   ]
  },
  {
   "cell_type": "code",
   "execution_count": 91,
   "id": "living-voltage",
   "metadata": {},
   "outputs": [
    {
     "data": {
      "text/plain": [
       "0.8970330415645208"
      ]
     },
     "execution_count": 91,
     "metadata": {},
     "output_type": "execute_result"
    },
    {
     "data": {
      "image/png": "[encoded data removed]",
      "text/plain": [
       "<Figure size 432x288 with 1 Axes>"
      ]
     },
     "metadata": {
      "needs_background": "light"
     },
     "output_type": "display_data"
    }
   ],
   "source": [
    "df['exp_LoanAmount']=df['LoanAmount']**(1/2.7)\n",
    "sns.histplot(df['exp_LoanAmount'],kde='True')\n",
    "df['exp_LoanAmount'].skew()"
   ]
  },
  {
   "cell_type": "code",
   "execution_count": 92,
   "id": "other-amber",
   "metadata": {},
   "outputs": [
    {
     "name": "stdout",
     "output_type": "stream",
     "text": [
      "skew 0.023915588597691537\n"
     ]
    },
    {
     "data": {
      "text/plain": [
       "<AxesSubplot:xlabel='LoanAmount_YJ', ylabel='Count'>"
      ]
     },
     "execution_count": 92,
     "metadata": {},
     "output_type": "execute_result"
    },
    {
     "data": {
      "image/png": "[encoded data removed]",
      "text/plain": [
       "<Figure size 432x288 with 1 Axes>"
      ]
     },
     "metadata": {
      "needs_background": "light"
     },
     "output_type": "display_data"
    }
   ],
   "source": [
    "import scipy.stats as stat\n",
    "from sklearn.preprocessing import PowerTransformer\n",
    "pt = PowerTransformer()\n",
    "ptdata=pd.DataFrame(pt.fit_transform(df['LoanAmount'].values.reshape(-1,1)),columns=['LoanAmount_YJ']) ### need to understand code\n",
    "print('skew',ptdata['LoanAmount_YJ'].skew())\n",
    "sns.histplot(ptdata['LoanAmount_YJ'],kde='True')"
   ]
  },
  {
   "cell_type": "code",
   "execution_count": 93,
   "id": "outdoor-gilbert",
   "metadata": {},
   "outputs": [],
   "source": [
    "df['LoanAmount_tranformed']=ptdata['LoanAmount_YJ']"
   ]
  },
  {
   "cell_type": "code",
   "execution_count": 94,
   "id": "circular-governor",
   "metadata": {},
   "outputs": [
    {
     "data": {
      "text/plain": [
       "Index(['Loan_ID', 'Gender', 'Married', 'Dependents', 'Education',\n",
       "       'Self_Employed', 'LoanAmount', 'Loan_Amount_Term', 'Credit_History',\n",
       "       'Property_Area', 'Loan_Status', 'ApplicantIncome_tranformed',\n",
       "       'exp_CoapplicantIncome', 'log_LoanAmount', 'sq_LoanAmount',\n",
       "       'exp_LoanAmount', 'LoanAmount_tranformed'],\n",
       "      dtype='object')"
      ]
     },
     "execution_count": 94,
     "metadata": {},
     "output_type": "execute_result"
    }
   ],
   "source": [
    "df.columns"
   ]
  },
  {
   "cell_type": "code",
   "execution_count": 95,
   "id": "moral-cisco",
   "metadata": {},
   "outputs": [],
   "source": [
    "df.drop(labels = ['log_LoanAmount',\n",
    "       'sq_LoanAmount', 'exp_LoanAmount'], axis = 1, inplace = True)"
   ]
  },
  {
   "cell_type": "code",
   "execution_count": 96,
   "id": "technical-family",
   "metadata": {},
   "outputs": [
    {
     "data": {
      "text/plain": [
       "(-5.106183868616452, 3.858244605855702)"
      ]
     },
     "execution_count": 96,
     "metadata": {},
     "output_type": "execute_result"
    }
   ],
   "source": [
    "df['LoanAmount_tranformed'].min(),df['LoanAmount_tranformed'].max()"
   ]
  },
  {
   "cell_type": "code",
   "execution_count": 97,
   "id": "boxed-reporter",
   "metadata": {},
   "outputs": [],
   "source": [
    "df.drop(labels = [\"LoanAmount\"], axis = 1, inplace = True) #drop actual Fare feature from the dataset"
   ]
  },
  {
   "cell_type": "markdown",
   "id": "specific-civilian",
   "metadata": {},
   "source": [
    "### loan amount term"
   ]
  },
  {
   "cell_type": "code",
   "execution_count": 98,
   "id": "lonely-force",
   "metadata": {},
   "outputs": [
    {
     "data": {
      "text/plain": [
       "-2.502958777682449"
      ]
     },
     "execution_count": 98,
     "metadata": {},
     "output_type": "execute_result"
    }
   ],
   "source": [
    "df['Loan_Amount_Term'].skew()"
   ]
  },
  {
   "cell_type": "code",
   "execution_count": 99,
   "id": "designing-robertson",
   "metadata": {},
   "outputs": [
    {
     "data": {
      "text/plain": [
       "-5.718018228736006"
      ]
     },
     "execution_count": 99,
     "metadata": {},
     "output_type": "execute_result"
    },
    {
     "data": {
      "image/png": "[encoded data removed]",
      "text/plain": [
       "<Figure size 432x288 with 1 Axes>"
      ]
     },
     "metadata": {
      "needs_background": "light"
     },
     "output_type": "display_data"
    }
   ],
   "source": [
    "df['log_Loan_Amount_Term']=np.log(df['Loan_Amount_Term'])\n",
    "sns.histplot(df['log_Loan_Amount_Term'],kde='True')\n",
    "df['log_Loan_Amount_Term'].skew()"
   ]
  },
  {
   "cell_type": "code",
   "execution_count": 100,
   "id": "hollywood-vocabulary",
   "metadata": {},
   "outputs": [
    {
     "data": {
      "text/plain": [
       "-3.4213020891417063"
      ]
     },
     "execution_count": 100,
     "metadata": {},
     "output_type": "execute_result"
    },
    {
     "data": {
      "image/png": "[encoded data removed]",
      "text/plain": [
       "<Figure size 432x288 with 1 Axes>"
      ]
     },
     "metadata": {
      "needs_background": "light"
     },
     "output_type": "display_data"
    }
   ],
   "source": [
    "df['sq_Loan_Amount_Term']=df['Loan_Amount_Term']**(1/2)\n",
    "sns.histplot(df['sq_Loan_Amount_Term'],kde='True')\n",
    "df['sq_Loan_Amount_Term'].skew()"
   ]
  },
  {
   "cell_type": "code",
   "execution_count": 101,
   "id": "israeli-warrior",
   "metadata": {},
   "outputs": [
    {
     "data": {
      "text/plain": [
       "-3.8030773178480626"
      ]
     },
     "execution_count": 101,
     "metadata": {},
     "output_type": "execute_result"
    },
    {
     "data": {
      "image/png": "[encoded data removed]",
      "text/plain": [
       "<Figure size 432x288 with 1 Axes>"
      ]
     },
     "metadata": {
      "needs_background": "light"
     },
     "output_type": "display_data"
    }
   ],
   "source": [
    "df['exp_Loan_Amount_Term']=df['Loan_Amount_Term']**(1/2.7)\n",
    "sns.histplot(df['exp_Loan_Amount_Term'],kde='True')\n",
    "df['exp_Loan_Amount_Term'].skew()"
   ]
  },
  {
   "cell_type": "code",
   "execution_count": 102,
   "id": "representative-bahrain",
   "metadata": {},
   "outputs": [
    {
     "name": "stdout",
     "output_type": "stream",
     "text": [
      "skew 0.36307393591940146\n"
     ]
    },
    {
     "data": {
      "text/plain": [
       "<AxesSubplot:xlabel='Loan_Amount_Term_YJ', ylabel='Count'>"
      ]
     },
     "execution_count": 102,
     "metadata": {},
     "output_type": "execute_result"
    },
    {
     "data": {
      "image/png": "[encoded data removed]",
      "text/plain": [
       "<Figure size 432x288 with 1 Axes>"
      ]
     },
     "metadata": {
      "needs_background": "light"
     },
     "output_type": "display_data"
    }
   ],
   "source": [
    "import scipy.stats as stat\n",
    "from sklearn.preprocessing import PowerTransformer\n",
    "pt = PowerTransformer()\n",
    "ptdata=pd.DataFrame(pt.fit_transform(df['Loan_Amount_Term'].values.reshape(-1,1)),columns=['Loan_Amount_Term_YJ']) ### need to understand code\n",
    "print('skew',ptdata['Loan_Amount_Term_YJ'].skew())\n",
    "sns.histplot(ptdata['Loan_Amount_Term_YJ'],kde='True')"
   ]
  },
  {
   "cell_type": "code",
   "execution_count": 103,
   "id": "registered-wedding",
   "metadata": {},
   "outputs": [],
   "source": [
    "df['Loan_Amount_Term_tranformed']=ptdata['Loan_Amount_Term_YJ']"
   ]
  },
  {
   "cell_type": "code",
   "execution_count": 104,
   "id": "artificial-testing",
   "metadata": {},
   "outputs": [],
   "source": [
    "df.drop(labels = ['log_Loan_Amount_Term', 'sq_Loan_Amount_Term',\n",
    "       'exp_Loan_Amount_Term'], axis = 1, inplace = True)"
   ]
  },
  {
   "cell_type": "code",
   "execution_count": 105,
   "id": "popular-service",
   "metadata": {},
   "outputs": [
    {
     "data": {
      "text/plain": [
       "(-2.7054631180923114, 3.858244605855702)"
      ]
     },
     "execution_count": 105,
     "metadata": {},
     "output_type": "execute_result"
    }
   ],
   "source": [
    "df['Loan_Amount_Term_tranformed'].min(),df['LoanAmount_tranformed'].max()"
   ]
  },
  {
   "cell_type": "code",
   "execution_count": 106,
   "id": "royal-inquiry",
   "metadata": {},
   "outputs": [],
   "source": [
    "df.drop(labels = [\"Loan_Amount_Term\"], axis = 1, inplace = True) #drop actual Fare feature from the dataset"
   ]
  },
  {
   "cell_type": "markdown",
   "id": "statewide-segment",
   "metadata": {},
   "source": [
    "### one hot encoding"
   ]
  },
  {
   "cell_type": "markdown",
   "id": "tight-significance",
   "metadata": {},
   "source": [
    "***converting catagarical data into 0 and 1***"
   ]
  },
  {
   "cell_type": "code",
   "execution_count": 107,
   "id": "thick-hanging",
   "metadata": {},
   "outputs": [
    {
     "data": {
      "text/plain": [
       "['Credit_History',\n",
       " 'Loan_Status',\n",
       " 'ApplicantIncome_tranformed',\n",
       " 'exp_CoapplicantIncome',\n",
       " 'LoanAmount_tranformed',\n",
       " 'Loan_Amount_Term_tranformed']"
      ]
     },
     "execution_count": 107,
     "metadata": {},
     "output_type": "execute_result"
    }
   ],
   "source": [
    "num_features=[feature for feature in df.columns if df[feature].dtypes != 'O']\n",
    "num_features"
   ]
  },
  {
   "cell_type": "code",
   "execution_count": 108,
   "id": "national-november",
   "metadata": {},
   "outputs": [
    {
     "data": {
      "text/plain": [
       "6"
      ]
     },
     "execution_count": 108,
     "metadata": {},
     "output_type": "execute_result"
    }
   ],
   "source": [
    "len(num_features)"
   ]
  },
  {
   "cell_type": "code",
   "execution_count": 109,
   "id": "administrative-intranet",
   "metadata": {},
   "outputs": [
    {
     "data": {
      "text/plain": [
       "['Loan_ID',\n",
       " 'Gender',\n",
       " 'Married',\n",
       " 'Dependents',\n",
       " 'Education',\n",
       " 'Self_Employed',\n",
       " 'Property_Area']"
      ]
     },
     "execution_count": 109,
     "metadata": {},
     "output_type": "execute_result"
    }
   ],
   "source": [
    "non_num_features = [feature for feature in df.columns if df[feature].dtypes == 'O']\n",
    "non_num_features"
   ]
  },
  {
   "cell_type": "markdown",
   "id": "opposed-success",
   "metadata": {},
   "source": [
    "##### gender"
   ]
  },
  {
   "cell_type": "code",
   "execution_count": 110,
   "id": "violent-payment",
   "metadata": {},
   "outputs": [],
   "source": [
    "df=pd.get_dummies(df, columns = [\"Gender\"],drop_first=True, prefix=\"G\")"
   ]
  },
  {
   "cell_type": "code",
   "execution_count": 111,
   "id": "liable-letters",
   "metadata": {},
   "outputs": [],
   "source": [
    "df=pd.get_dummies(df, columns = [\"Married\"],drop_first=True, prefix=\"M\")"
   ]
  },
  {
   "cell_type": "code",
   "execution_count": 112,
   "id": "gentle-cargo",
   "metadata": {},
   "outputs": [],
   "source": [
    "df=pd.get_dummies(df, columns = ['Dependents'],drop_first=True, prefix=\"Dep\")"
   ]
  },
  {
   "cell_type": "code",
   "execution_count": 113,
   "id": "velvet-humidity",
   "metadata": {},
   "outputs": [],
   "source": [
    "df=pd.get_dummies(df, columns = [\"Education\"],drop_first=True, prefix=\"Edu\")"
   ]
  },
  {
   "cell_type": "code",
   "execution_count": 114,
   "id": "civic-vault",
   "metadata": {},
   "outputs": [],
   "source": [
    "df=pd.get_dummies(df, columns = [\"Self_Employed\"],drop_first=True, prefix=\"S_emp\")"
   ]
  },
  {
   "cell_type": "code",
   "execution_count": 115,
   "id": "outdoor-deposit",
   "metadata": {},
   "outputs": [],
   "source": [
    "df=pd.get_dummies(df, columns = [\"Property_Area\"],drop_first=True, prefix=\"p_area\")"
   ]
  },
  {
   "cell_type": "code",
   "execution_count": 116,
   "id": "lovely-thriller",
   "metadata": {},
   "outputs": [],
   "source": [
    "df.drop(['Loan_ID'],axis=1,inplace = True)"
   ]
  },
  {
   "cell_type": "code",
   "execution_count": 117,
   "id": "characteristic-termination",
   "metadata": {},
   "outputs": [
    {
     "data": {
      "text/plain": [
       "(981, 15)"
      ]
     },
     "execution_count": 117,
     "metadata": {},
     "output_type": "execute_result"
    }
   ],
   "source": [
    "df.shape"
   ]
  },
  {
   "cell_type": "code",
   "execution_count": 118,
   "id": "joint-rochester",
   "metadata": {},
   "outputs": [
    {
     "data": {
      "text/html": [
       "<div>\n",
       "<style scoped>\n",
       "    .dataframe tbody tr th:only-of-type {\n",
       "        vertical-align: middle;\n",
       "    }\n",
       "\n",
       "    .dataframe tbody tr th {\n",
       "        vertical-align: top;\n",
       "    }\n",
       "\n",
       "    .dataframe thead th {\n",
       "        text-align: right;\n",
       "    }\n",
       "</style>\n",
       "<table border=\"1\" class=\"dataframe\">\n",
       "  <thead>\n",
       "    <tr style=\"text-align: right;\">\n",
       "      <th></th>\n",
       "      <th>Credit_History</th>\n",
       "      <th>Loan_Status</th>\n",
       "      <th>ApplicantIncome_tranformed</th>\n",
       "      <th>exp_CoapplicantIncome</th>\n",
       "      <th>LoanAmount_tranformed</th>\n",
       "      <th>Loan_Amount_Term_tranformed</th>\n",
       "      <th>G_Male</th>\n",
       "      <th>M_Yes</th>\n",
       "      <th>Dep_1</th>\n",
       "      <th>Dep_2</th>\n",
       "      <th>Dep_3+</th>\n",
       "      <th>Edu_Not Graduate</th>\n",
       "      <th>S_emp_Yes</th>\n",
       "      <th>p_area_Semiurban</th>\n",
       "      <th>p_area_Urban</th>\n",
       "    </tr>\n",
       "  </thead>\n",
       "  <tbody>\n",
       "    <tr>\n",
       "      <th>0</th>\n",
       "      <td>1.0</td>\n",
       "      <td>1.0</td>\n",
       "      <td>0.508348</td>\n",
       "      <td>0.000000</td>\n",
       "      <td>0.220665</td>\n",
       "      <td>0.185238</td>\n",
       "      <td>1</td>\n",
       "      <td>0</td>\n",
       "      <td>0</td>\n",
       "      <td>0</td>\n",
       "      <td>0</td>\n",
       "      <td>0</td>\n",
       "      <td>0</td>\n",
       "      <td>0</td>\n",
       "      <td>1</td>\n",
       "    </tr>\n",
       "    <tr>\n",
       "      <th>1</th>\n",
       "      <td>1.0</td>\n",
       "      <td>0.0</td>\n",
       "      <td>0.132815</td>\n",
       "      <td>15.037848</td>\n",
       "      <td>-0.010657</td>\n",
       "      <td>0.185238</td>\n",
       "      <td>1</td>\n",
       "      <td>1</td>\n",
       "      <td>1</td>\n",
       "      <td>0</td>\n",
       "      <td>0</td>\n",
       "      <td>0</td>\n",
       "      <td>0</td>\n",
       "      <td>0</td>\n",
       "      <td>0</td>\n",
       "    </tr>\n",
       "    <tr>\n",
       "      <th>2</th>\n",
       "      <td>1.0</td>\n",
       "      <td>1.0</td>\n",
       "      <td>-0.488419</td>\n",
       "      <td>0.000000</td>\n",
       "      <td>-1.397638</td>\n",
       "      <td>0.185238</td>\n",
       "      <td>1</td>\n",
       "      <td>1</td>\n",
       "      <td>0</td>\n",
       "      <td>0</td>\n",
       "      <td>0</td>\n",
       "      <td>0</td>\n",
       "      <td>1</td>\n",
       "      <td>0</td>\n",
       "      <td>1</td>\n",
       "    </tr>\n",
       "    <tr>\n",
       "      <th>3</th>\n",
       "      <td>1.0</td>\n",
       "      <td>1.0</td>\n",
       "      <td>-0.698749</td>\n",
       "      <td>17.745584</td>\n",
       "      <td>-0.148814</td>\n",
       "      <td>0.185238</td>\n",
       "      <td>1</td>\n",
       "      <td>1</td>\n",
       "      <td>0</td>\n",
       "      <td>0</td>\n",
       "      <td>0</td>\n",
       "      <td>1</td>\n",
       "      <td>0</td>\n",
       "      <td>0</td>\n",
       "      <td>1</td>\n",
       "    </tr>\n",
       "    <tr>\n",
       "      <th>4</th>\n",
       "      <td>1.0</td>\n",
       "      <td>1.0</td>\n",
       "      <td>0.548373</td>\n",
       "      <td>0.000000</td>\n",
       "      <td>0.197617</td>\n",
       "      <td>0.185238</td>\n",
       "      <td>1</td>\n",
       "      <td>0</td>\n",
       "      <td>0</td>\n",
       "      <td>0</td>\n",
       "      <td>0</td>\n",
       "      <td>0</td>\n",
       "      <td>0</td>\n",
       "      <td>0</td>\n",
       "      <td>1</td>\n",
       "    </tr>\n",
       "    <tr>\n",
       "      <th>...</th>\n",
       "      <td>...</td>\n",
       "      <td>...</td>\n",
       "      <td>...</td>\n",
       "      <td>...</td>\n",
       "      <td>...</td>\n",
       "      <td>...</td>\n",
       "      <td>...</td>\n",
       "      <td>...</td>\n",
       "      <td>...</td>\n",
       "      <td>...</td>\n",
       "      <td>...</td>\n",
       "      <td>...</td>\n",
       "      <td>...</td>\n",
       "      <td>...</td>\n",
       "      <td>...</td>\n",
       "    </tr>\n",
       "    <tr>\n",
       "      <th>976</th>\n",
       "      <td>1.0</td>\n",
       "      <td>1.0</td>\n",
       "      <td>-0.067557</td>\n",
       "      <td>15.980411</td>\n",
       "      <td>-0.276897</td>\n",
       "      <td>0.185238</td>\n",
       "      <td>1</td>\n",
       "      <td>1</td>\n",
       "      <td>0</td>\n",
       "      <td>0</td>\n",
       "      <td>1</td>\n",
       "      <td>1</td>\n",
       "      <td>1</td>\n",
       "      <td>0</td>\n",
       "      <td>1</td>\n",
       "    </tr>\n",
       "    <tr>\n",
       "      <th>977</th>\n",
       "      <td>1.0</td>\n",
       "      <td>1.0</td>\n",
       "      <td>-0.013303</td>\n",
       "      <td>11.370902</td>\n",
       "      <td>-0.239568</td>\n",
       "      <td>0.185238</td>\n",
       "      <td>1</td>\n",
       "      <td>1</td>\n",
       "      <td>0</td>\n",
       "      <td>0</td>\n",
       "      <td>0</td>\n",
       "      <td>0</td>\n",
       "      <td>0</td>\n",
       "      <td>0</td>\n",
       "      <td>1</td>\n",
       "    </tr>\n",
       "    <tr>\n",
       "      <th>978</th>\n",
       "      <td>1.0</td>\n",
       "      <td>1.0</td>\n",
       "      <td>-0.374015</td>\n",
       "      <td>16.673998</td>\n",
       "      <td>-0.044429</td>\n",
       "      <td>0.185238</td>\n",
       "      <td>1</td>\n",
       "      <td>0</td>\n",
       "      <td>0</td>\n",
       "      <td>0</td>\n",
       "      <td>0</td>\n",
       "      <td>0</td>\n",
       "      <td>0</td>\n",
       "      <td>1</td>\n",
       "      <td>0</td>\n",
       "    </tr>\n",
       "    <tr>\n",
       "      <th>979</th>\n",
       "      <td>1.0</td>\n",
       "      <td>1.0</td>\n",
       "      <td>0.265348</td>\n",
       "      <td>17.842687</td>\n",
       "      <td>0.444573</td>\n",
       "      <td>0.185238</td>\n",
       "      <td>1</td>\n",
       "      <td>1</td>\n",
       "      <td>0</td>\n",
       "      <td>0</td>\n",
       "      <td>0</td>\n",
       "      <td>0</td>\n",
       "      <td>0</td>\n",
       "      <td>0</td>\n",
       "      <td>0</td>\n",
       "    </tr>\n",
       "    <tr>\n",
       "      <th>980</th>\n",
       "      <td>1.0</td>\n",
       "      <td>1.0</td>\n",
       "      <td>1.242386</td>\n",
       "      <td>0.000000</td>\n",
       "      <td>-0.578155</td>\n",
       "      <td>-2.344480</td>\n",
       "      <td>1</td>\n",
       "      <td>0</td>\n",
       "      <td>0</td>\n",
       "      <td>0</td>\n",
       "      <td>0</td>\n",
       "      <td>0</td>\n",
       "      <td>1</td>\n",
       "      <td>0</td>\n",
       "      <td>0</td>\n",
       "    </tr>\n",
       "  </tbody>\n",
       "</table>\n",
       "<p>981 rows × 15 columns</p>\n",
       "</div>"
      ],
      "text/plain": [
       "     Credit_History  Loan_Status  ApplicantIncome_tranformed  \\\n",
       "0               1.0          1.0                    0.508348   \n",
       "1               1.0          0.0                    0.132815   \n",
       "2               1.0          1.0                   -0.488419   \n",
       "3               1.0          1.0                   -0.698749   \n",
       "4               1.0          1.0                    0.548373   \n",
       "..              ...          ...                         ...   \n",
       "976             1.0          1.0                   -0.067557   \n",
       "977             1.0          1.0                   -0.013303   \n",
       "978             1.0          1.0                   -0.374015   \n",
       "979             1.0          1.0                    0.265348   \n",
       "980             1.0          1.0                    1.242386   \n",
       "\n",
       "     exp_CoapplicantIncome  LoanAmount_tranformed  \\\n",
       "0                 0.000000               0.220665   \n",
       "1                15.037848              -0.010657   \n",
       "2                 0.000000              -1.397638   \n",
       "3                17.745584              -0.148814   \n",
       "4                 0.000000               0.197617   \n",
       "..                     ...                    ...   \n",
       "976              15.980411              -0.276897   \n",
       "977              11.370902              -0.239568   \n",
       "978              16.673998              -0.044429   \n",
       "979              17.842687               0.444573   \n",
       "980               0.000000              -0.578155   \n",
       "\n",
       "     Loan_Amount_Term_tranformed  G_Male  M_Yes  Dep_1  Dep_2  Dep_3+  \\\n",
       "0                       0.185238       1      0      0      0       0   \n",
       "1                       0.185238       1      1      1      0       0   \n",
       "2                       0.185238       1      1      0      0       0   \n",
       "3                       0.185238       1      1      0      0       0   \n",
       "4                       0.185238       1      0      0      0       0   \n",
       "..                           ...     ...    ...    ...    ...     ...   \n",
       "976                     0.185238       1      1      0      0       1   \n",
       "977                     0.185238       1      1      0      0       0   \n",
       "978                     0.185238       1      0      0      0       0   \n",
       "979                     0.185238       1      1      0      0       0   \n",
       "980                    -2.344480       1      0      0      0       0   \n",
       "\n",
       "     Edu_Not Graduate  S_emp_Yes  p_area_Semiurban  p_area_Urban  \n",
       "0                   0          0                 0             1  \n",
       "1                   0          0                 0             0  \n",
       "2                   0          1                 0             1  \n",
       "3                   1          0                 0             1  \n",
       "4                   0          0                 0             1  \n",
       "..                ...        ...               ...           ...  \n",
       "976                 1          1                 0             1  \n",
       "977                 0          0                 0             1  \n",
       "978                 0          0                 1             0  \n",
       "979                 0          0                 0             0  \n",
       "980                 0          1                 0             0  \n",
       "\n",
       "[981 rows x 15 columns]"
      ]
     },
     "execution_count": 118,
     "metadata": {},
     "output_type": "execute_result"
    }
   ],
   "source": [
    "df"
   ]
  },
  {
   "cell_type": "markdown",
   "id": "swedish-mechanism",
   "metadata": {},
   "source": [
    "### checking for non_numerical features"
   ]
  },
  {
   "cell_type": "code",
   "execution_count": 119,
   "id": "unsigned-notion",
   "metadata": {},
   "outputs": [
    {
     "data": {
      "text/plain": [
       "[]"
      ]
     },
     "execution_count": 119,
     "metadata": {},
     "output_type": "execute_result"
    }
   ],
   "source": [
    "non_num_features = [feature for feature in df.columns if df[feature].dtypes == 'O']\n",
    "non_num_features"
   ]
  },
  {
   "cell_type": "markdown",
   "id": "single-grove",
   "metadata": {},
   "source": [
    "#### spliting"
   ]
  },
  {
   "cell_type": "code",
   "execution_count": 120,
   "id": "clean-mattress",
   "metadata": {},
   "outputs": [],
   "source": [
    "train=df.iloc[:len(train)]"
   ]
  },
  {
   "cell_type": "markdown",
   "id": "tribal-hayes",
   "metadata": {},
   "source": [
    "### relationship"
   ]
  },
  {
   "cell_type": "code",
   "execution_count": 121,
   "id": "adaptive-economy",
   "metadata": {},
   "outputs": [],
   "source": [
    "c_matrix=train.corr()"
   ]
  },
  {
   "cell_type": "code",
   "execution_count": 122,
   "id": "international-sport",
   "metadata": {},
   "outputs": [
    {
     "data": {
      "text/plain": [
       "Loan_Status                    1.000000\n",
       "Credit_History                 0.540556\n",
       "p_area_Semiurban               0.136540\n",
       "M_Yes                          0.091478\n",
       "Dep_2                          0.062384\n",
       "exp_CoapplicantIncome          0.028266\n",
       "G_Male                         0.017987\n",
       "ApplicantIncome_tranformed     0.007713\n",
       "S_emp_Yes                     -0.003700\n",
       "Dep_3+                        -0.026123\n",
       "Dep_1                         -0.038740\n",
       "LoanAmount_tranformed         -0.041730\n",
       "p_area_Urban                  -0.043621\n",
       "Loan_Amount_Term_tranformed   -0.051074\n",
       "Edu_Not Graduate              -0.085884\n",
       "Name: Loan_Status, dtype: float64"
      ]
     },
     "execution_count": 122,
     "metadata": {},
     "output_type": "execute_result"
    }
   ],
   "source": [
    "c_matrix['Loan_Status'].sort_values(ascending=False)"
   ]
  },
  {
   "cell_type": "code",
   "execution_count": 123,
   "id": "dominican-change",
   "metadata": {},
   "outputs": [],
   "source": [
    "strong_relation_features=[]\n",
    "for feature in c_matrix['Loan_Status'].sort_values(ascending=False).keys():\n",
    "    if c_matrix['Loan_Status'][feature]>=0.04 or c_matrix['Loan_Status'][feature]<=-0.04:\n",
    "        strong_relation_features.append(feature) "
   ]
  },
  {
   "cell_type": "code",
   "execution_count": 124,
   "id": "precious-smart",
   "metadata": {},
   "outputs": [],
   "source": [
    "strong_relation_features.remove('Loan_Status')"
   ]
  },
  {
   "cell_type": "code",
   "execution_count": 125,
   "id": "loaded-trading",
   "metadata": {},
   "outputs": [
    {
     "data": {
      "text/plain": [
       "['Credit_History',\n",
       " 'p_area_Semiurban',\n",
       " 'M_Yes',\n",
       " 'Dep_2',\n",
       " 'LoanAmount_tranformed',\n",
       " 'p_area_Urban',\n",
       " 'Loan_Amount_Term_tranformed',\n",
       " 'Edu_Not Graduate']"
      ]
     },
     "execution_count": 125,
     "metadata": {},
     "output_type": "execute_result"
    }
   ],
   "source": [
    "strong_relation_features"
   ]
  },
  {
   "cell_type": "code",
   "execution_count": 126,
   "id": "wooden-participation",
   "metadata": {},
   "outputs": [],
   "source": [
    "df_strong=df[strong_relation_features]"
   ]
  },
  {
   "cell_type": "code",
   "execution_count": 127,
   "id": "electronic-piece",
   "metadata": {},
   "outputs": [],
   "source": [
    "import matplotlib.pyplot as plt\n",
    "import seaborn as sns"
   ]
  },
  {
   "cell_type": "code",
   "execution_count": 128,
   "id": "fancy-initial",
   "metadata": {},
   "outputs": [],
   "source": [
    "# for feature in strong_relation_features:\n",
    "#     sns.relplot(x=feature,y=\"Loan_Status\",data=df,kind='line')"
   ]
  },
  {
   "cell_type": "markdown",
   "id": "assisted-concord",
   "metadata": {},
   "source": [
    "### feature selection"
   ]
  },
  {
   "cell_type": "code",
   "execution_count": 129,
   "id": "caroline-river",
   "metadata": {},
   "outputs": [],
   "source": [
    "X=train[strong_relation_features]\n",
    "y=train['Loan_Status']"
   ]
  },
  {
   "cell_type": "code",
   "execution_count": 130,
   "id": "piano-folder",
   "metadata": {},
   "outputs": [],
   "source": [
    "# X=train.drop(['Loan_Status'],axis=1)\n",
    "# y=train['Loan_Status']"
   ]
  },
  {
   "cell_type": "code",
   "execution_count": 131,
   "id": "plain-timothy",
   "metadata": {},
   "outputs": [
    {
     "data": {
      "text/plain": [
       "ExtraTreesRegressor()"
      ]
     },
     "execution_count": 131,
     "metadata": {},
     "output_type": "execute_result"
    }
   ],
   "source": [
    "from sklearn.ensemble import ExtraTreesRegressor\n",
    "selection = ExtraTreesRegressor()\n",
    "selection.fit(X, y)"
   ]
  },
  {
   "cell_type": "code",
   "execution_count": 132,
   "id": "organized-college",
   "metadata": {},
   "outputs": [
    {
     "data": {
      "text/plain": [
       "array([0.31210756, 0.01675488, 0.01258115, 0.02552696, 0.53042005,\n",
       "       0.01603752, 0.06858485, 0.01798704])"
      ]
     },
     "execution_count": 132,
     "metadata": {},
     "output_type": "execute_result"
    }
   ],
   "source": [
    "selection.feature_importances_"
   ]
  },
  {
   "cell_type": "code",
   "execution_count": 133,
   "id": "cardiovascular-wildlife",
   "metadata": {},
   "outputs": [
    {
     "data": {
      "image/png": "[encoded data removed]",
      "text/plain": [
       "<Figure size 864x576 with 1 Axes>"
      ]
     },
     "metadata": {
      "needs_background": "light"
     },
     "output_type": "display_data"
    }
   ],
   "source": [
    "#plot graph of feature importances for better visualization\n",
    "\n",
    "plt.figure(figsize = (12,8))\n",
    "feat_importances = pd.Series(selection.feature_importances_, index=X.columns)\n",
    "feat_importances.nlargest(20).plot(kind='barh')\n",
    "plt.show()"
   ]
  },
  {
   "cell_type": "code",
   "execution_count": 134,
   "id": "adopted-knowing",
   "metadata": {},
   "outputs": [
    {
     "data": {
      "text/plain": [
       "['LoanAmount_tranformed',\n",
       " 'Credit_History',\n",
       " 'Loan_Amount_Term_tranformed',\n",
       " 'Dep_2',\n",
       " 'Edu_Not Graduate']"
      ]
     },
     "execution_count": 134,
     "metadata": {},
     "output_type": "execute_result"
    }
   ],
   "source": [
    "largest_imp_5=list(feat_importances.nlargest(5).keys())\n",
    "largest_imp_5"
   ]
  },
  {
   "cell_type": "code",
   "execution_count": 135,
   "id": "bridal-cuisine",
   "metadata": {},
   "outputs": [],
   "source": [
    "# X=train[largest_imp_5]"
   ]
  },
  {
   "cell_type": "code",
   "execution_count": 136,
   "id": "convinced-carolina",
   "metadata": {},
   "outputs": [
    {
     "data": {
      "text/plain": [
       "Index(['Credit_History', 'p_area_Semiurban', 'M_Yes', 'Dep_2',\n",
       "       'LoanAmount_tranformed', 'p_area_Urban', 'Loan_Amount_Term_tranformed',\n",
       "       'Edu_Not Graduate'],\n",
       "      dtype='object')"
      ]
     },
     "execution_count": 136,
     "metadata": {},
     "output_type": "execute_result"
    }
   ],
   "source": [
    "X.columns"
   ]
  },
  {
   "cell_type": "code",
   "execution_count": 137,
   "id": "monetary-gabriel",
   "metadata": {},
   "outputs": [
    {
     "data": {
      "text/plain": [
       "8"
      ]
     },
     "execution_count": 137,
     "metadata": {},
     "output_type": "execute_result"
    }
   ],
   "source": [
    "len(X.columns)"
   ]
  },
  {
   "cell_type": "markdown",
   "id": "swiss-municipality",
   "metadata": {},
   "source": [
    "### cross validation method to check accuracy of all models"
   ]
  },
  {
   "cell_type": "code",
   "execution_count": 138,
   "id": "recognized-count",
   "metadata": {},
   "outputs": [
    {
     "data": {
      "text/html": [
       "<div>\n",
       "<style scoped>\n",
       "    .dataframe tbody tr th:only-of-type {\n",
       "        vertical-align: middle;\n",
       "    }\n",
       "\n",
       "    .dataframe tbody tr th {\n",
       "        vertical-align: top;\n",
       "    }\n",
       "\n",
       "    .dataframe thead th {\n",
       "        text-align: right;\n",
       "    }\n",
       "</style>\n",
       "<table border=\"1\" class=\"dataframe\">\n",
       "  <thead>\n",
       "    <tr style=\"text-align: right;\">\n",
       "      <th></th>\n",
       "      <th>DecisionTreeClassifier()</th>\n",
       "      <th>LogisticRegression(max_iter=1000)</th>\n",
       "      <th>RandomForestClassifier()</th>\n",
       "      <th>SVC()</th>\n",
       "    </tr>\n",
       "  </thead>\n",
       "  <tbody>\n",
       "    <tr>\n",
       "      <th>0</th>\n",
       "      <td>0.689053</td>\n",
       "      <td>0.807959</td>\n",
       "      <td>0.724855</td>\n",
       "      <td>0.807932</td>\n",
       "    </tr>\n",
       "  </tbody>\n",
       "</table>\n",
       "</div>"
      ],
      "text/plain": [
       "   DecisionTreeClassifier()  LogisticRegression(max_iter=1000)  \\\n",
       "0                  0.689053                           0.807959   \n",
       "\n",
       "   RandomForestClassifier()     SVC()  \n",
       "0                  0.724855  0.807932  "
      ]
     },
     "execution_count": 138,
     "metadata": {},
     "output_type": "execute_result"
    }
   ],
   "source": [
    "from sklearn.model_selection import cross_val_score\n",
    "from sklearn.tree import DecisionTreeClassifier\n",
    "from sklearn.linear_model import LogisticRegression\n",
    "from sklearn.ensemble import RandomForestClassifier\n",
    "from sklearn.svm import SVC\n",
    "model_scoring={}\n",
    "def all_model_scores(model,X,y):\n",
    "    scores=cross_val_score(model,X,y,cv=10)\n",
    "    mean_score=scores.mean()\n",
    "    model_scoring.update({model:mean_score})\n",
    "    return model_scoring\n",
    "\n",
    "Model_list=[DecisionTreeClassifier(),LogisticRegression(solver='lbfgs', max_iter=1000),RandomForestClassifier(),SVC()]\n",
    "for model in Model_list:\n",
    "    score_dict=all_model_scores(model,X,y)\n",
    "df_Models_scores=pd.DataFrame(score_dict,index=[0])\n",
    "df_Models_scores"
   ]
  },
  {
   "cell_type": "markdown",
   "id": "experienced-appointment",
   "metadata": {},
   "source": [
    "### split data into train and test part to make prediction"
   ]
  },
  {
   "cell_type": "code",
   "execution_count": 139,
   "id": "understood-currency",
   "metadata": {},
   "outputs": [],
   "source": [
    "from sklearn.model_selection import train_test_split\n",
    "X_train, X_test, y_train, y_test = train_test_split(X, y, test_size=0.2,random_state=42)"
   ]
  },
  {
   "cell_type": "markdown",
   "id": "established-sleeve",
   "metadata": {},
   "source": [
    "### creating model"
   ]
  },
  {
   "cell_type": "code",
   "execution_count": 140,
   "id": "placed-blast",
   "metadata": {},
   "outputs": [],
   "source": [
    "# As Random Forest and logistic regression perform at high accuracy so i choose one of them\n",
    "\n",
    "# from sklearn.linear_model import LogisticRegression\n",
    "# model = LogisticRegression()\n",
    "# from sklearn.svm import SVC\n",
    "# model = SVC()\n",
    "\n",
    "from sklearn.ensemble import RandomForestClassifier\n",
    "model = RandomForestClassifier()\n"
   ]
  },
  {
   "cell_type": "markdown",
   "id": "turkish-comparison",
   "metadata": {},
   "source": [
    "### fitting data"
   ]
  },
  {
   "cell_type": "code",
   "execution_count": 141,
   "id": "prompt-passage",
   "metadata": {},
   "outputs": [
    {
     "data": {
      "text/plain": [
       "RandomForestClassifier()"
      ]
     },
     "execution_count": 141,
     "metadata": {},
     "output_type": "execute_result"
    }
   ],
   "source": [
    "model.fit(X_train,y_train)"
   ]
  },
  {
   "cell_type": "markdown",
   "id": "alleged-commercial",
   "metadata": {},
   "source": [
    "### saving model"
   ]
  },
  {
   "cell_type": "code",
   "execution_count": 142,
   "id": "found-belly",
   "metadata": {},
   "outputs": [],
   "source": [
    "# import pickle\n",
    "# pickle.dump(model, open('model_Loan_eligibility_predictions.pkl','wb'))"
   ]
  },
  {
   "cell_type": "markdown",
   "id": "oriental-liabilities",
   "metadata": {},
   "source": [
    "### percentage of accuracy"
   ]
  },
  {
   "cell_type": "code",
   "execution_count": 143,
   "id": "external-cassette",
   "metadata": {},
   "outputs": [
    {
     "data": {
      "text/plain": [
       "0.7317073170731707"
      ]
     },
     "execution_count": 143,
     "metadata": {},
     "output_type": "execute_result"
    }
   ],
   "source": [
    "model.score(X_test,y_test)"
   ]
  },
  {
   "cell_type": "code",
   "execution_count": 144,
   "id": "proved-collaboration",
   "metadata": {},
   "outputs": [
    {
     "data": {
      "text/plain": [
       "array([1., 1., 1., 1., 1.])"
      ]
     },
     "execution_count": 144,
     "metadata": {},
     "output_type": "execute_result"
    }
   ],
   "source": [
    "model.predict(X_test[:5])"
   ]
  },
  {
   "cell_type": "code",
   "execution_count": 145,
   "id": "entertaining-intro",
   "metadata": {},
   "outputs": [
    {
     "data": {
      "text/html": [
       "<div>\n",
       "<style scoped>\n",
       "    .dataframe tbody tr th:only-of-type {\n",
       "        vertical-align: middle;\n",
       "    }\n",
       "\n",
       "    .dataframe tbody tr th {\n",
       "        vertical-align: top;\n",
       "    }\n",
       "\n",
       "    .dataframe thead th {\n",
       "        text-align: right;\n",
       "    }\n",
       "</style>\n",
       "<table border=\"1\" class=\"dataframe\">\n",
       "  <thead>\n",
       "    <tr style=\"text-align: right;\">\n",
       "      <th></th>\n",
       "      <th>Credit_History</th>\n",
       "      <th>p_area_Semiurban</th>\n",
       "      <th>M_Yes</th>\n",
       "      <th>Dep_2</th>\n",
       "      <th>LoanAmount_tranformed</th>\n",
       "      <th>p_area_Urban</th>\n",
       "      <th>Loan_Amount_Term_tranformed</th>\n",
       "      <th>Edu_Not Graduate</th>\n",
       "    </tr>\n",
       "  </thead>\n",
       "  <tbody>\n",
       "    <tr>\n",
       "      <th>350</th>\n",
       "      <td>1.0</td>\n",
       "      <td>1</td>\n",
       "      <td>1</td>\n",
       "      <td>0</td>\n",
       "      <td>1.253785</td>\n",
       "      <td>0</td>\n",
       "      <td>0.185238</td>\n",
       "      <td>0</td>\n",
       "    </tr>\n",
       "    <tr>\n",
       "      <th>377</th>\n",
       "      <td>1.0</td>\n",
       "      <td>1</td>\n",
       "      <td>1</td>\n",
       "      <td>0</td>\n",
       "      <td>0.022628</td>\n",
       "      <td>0</td>\n",
       "      <td>0.185238</td>\n",
       "      <td>0</td>\n",
       "    </tr>\n",
       "    <tr>\n",
       "      <th>163</th>\n",
       "      <td>1.0</td>\n",
       "      <td>0</td>\n",
       "      <td>1</td>\n",
       "      <td>1</td>\n",
       "      <td>0.444573</td>\n",
       "      <td>0</td>\n",
       "      <td>0.185238</td>\n",
       "      <td>0</td>\n",
       "    </tr>\n",
       "    <tr>\n",
       "      <th>609</th>\n",
       "      <td>1.0</td>\n",
       "      <td>0</td>\n",
       "      <td>0</td>\n",
       "      <td>0</td>\n",
       "      <td>-1.248126</td>\n",
       "      <td>0</td>\n",
       "      <td>0.185238</td>\n",
       "      <td>0</td>\n",
       "    </tr>\n",
       "    <tr>\n",
       "      <th>132</th>\n",
       "      <td>1.0</td>\n",
       "      <td>1</td>\n",
       "      <td>0</td>\n",
       "      <td>0</td>\n",
       "      <td>-1.277235</td>\n",
       "      <td>0</td>\n",
       "      <td>0.185238</td>\n",
       "      <td>0</td>\n",
       "    </tr>\n",
       "  </tbody>\n",
       "</table>\n",
       "</div>"
      ],
      "text/plain": [
       "     Credit_History  p_area_Semiurban  M_Yes  Dep_2  LoanAmount_tranformed  \\\n",
       "350             1.0                 1      1      0               1.253785   \n",
       "377             1.0                 1      1      0               0.022628   \n",
       "163             1.0                 0      1      1               0.444573   \n",
       "609             1.0                 0      0      0              -1.248126   \n",
       "132             1.0                 1      0      0              -1.277235   \n",
       "\n",
       "     p_area_Urban  Loan_Amount_Term_tranformed  Edu_Not Graduate  \n",
       "350             0                     0.185238                 0  \n",
       "377             0                     0.185238                 0  \n",
       "163             0                     0.185238                 0  \n",
       "609             0                     0.185238                 0  \n",
       "132             0                     0.185238                 0  "
      ]
     },
     "execution_count": 145,
     "metadata": {},
     "output_type": "execute_result"
    }
   ],
   "source": [
    "X_test[:5]"
   ]
  },
  {
   "cell_type": "markdown",
   "id": "economic-jurisdiction",
   "metadata": {},
   "source": [
    "### Accuracy VS Precision VS Recall VS f1_score"
   ]
  },
  {
   "cell_type": "code",
   "execution_count": 146,
   "id": "radical-practice",
   "metadata": {},
   "outputs": [
    {
     "name": "stdout",
     "output_type": "stream",
     "text": [
      "Accuracy: 0.7317073170731707\n",
      "Precision: 0.7701149425287356\n",
      "Recall: 0.8375\n",
      "F1_score: 0.8023952095808383\n"
     ]
    }
   ],
   "source": [
    "from sklearn import metrics\n",
    "y_predicted=model.predict(X_test)\n",
    "print(\"Accuracy:\",metrics.accuracy_score(y_test, y_predicted))\n",
    "print(\"Precision:\",metrics.precision_score(y_test, y_predicted))\n",
    "print(\"Recall:\",metrics.recall_score(y_test, y_predicted))\n",
    "\n",
    "from sklearn import metrics\n",
    "score=metrics.accuracy_score(y_test,y_predicted)\n",
    "pre=metrics.precision_score(y_test, y_predicted)\n",
    "recall=metrics.recall_score(y_test, y_predicted)\n",
    "f1_score=2*pre*recall/(pre+recall)\n",
    "print(\"F1_score:\",f1_score)"
   ]
  },
  {
   "cell_type": "markdown",
   "id": "accredited-shape",
   "metadata": {},
   "source": [
    "### confusion matrix"
   ]
  },
  {
   "cell_type": "code",
   "execution_count": 147,
   "id": "featured-midnight",
   "metadata": {},
   "outputs": [
    {
     "name": "stdout",
     "output_type": "stream",
     "text": [
      "[[23 20]\n",
      " [13 67]]\n"
     ]
    }
   ],
   "source": [
    "y_predicted = model.predict(X_test)\n",
    "from sklearn.metrics import confusion_matrix\n",
    "cm = confusion_matrix(y_test, y_predicted)\n",
    "print(cm)"
   ]
  },
  {
   "cell_type": "markdown",
   "id": "sublime-mouth",
   "metadata": {},
   "source": [
    "### confusion matrix heatmap"
   ]
  },
  {
   "cell_type": "code",
   "execution_count": 148,
   "id": "authorized-teens",
   "metadata": {},
   "outputs": [
    {
     "data": {
      "text/plain": [
       "Text(69.0, 0.5, 'Truth')"
      ]
     },
     "execution_count": 148,
     "metadata": {},
     "output_type": "execute_result"
    },
    {
     "data": {
      "image/png": "[encoded data removed]",
      "text/plain": [
       "<Figure size 720x504 with 2 Axes>"
      ]
     },
     "metadata": {
      "needs_background": "light"
     },
     "output_type": "display_data"
    }
   ],
   "source": [
    "import seaborn as sn\n",
    "plt.figure(figsize = (10,7))\n",
    "sn.heatmap(cm, annot=True)\n",
    "plt.xlabel('Predicted')\n",
    "plt.ylabel('Truth')"
   ]
  },
  {
   "cell_type": "markdown",
   "id": "accompanied-routine",
   "metadata": {},
   "source": [
    "### classification report"
   ]
  },
  {
   "cell_type": "code",
   "execution_count": 150,
   "id": "remarkable-asbestos",
   "metadata": {},
   "outputs": [],
   "source": [
    "from sklearn.metrics import classification_report"
   ]
  },
  {
   "cell_type": "code",
   "execution_count": 151,
   "id": "headed-progress",
   "metadata": {},
   "outputs": [
    {
     "name": "stdout",
     "output_type": "stream",
     "text": [
      "              precision    recall  f1-score   support\n",
      "\n",
      "         0.0       0.64      0.53      0.58        43\n",
      "         1.0       0.77      0.84      0.80        80\n",
      "\n",
      "    accuracy                           0.73       123\n",
      "   macro avg       0.70      0.69      0.69       123\n",
      "weighted avg       0.72      0.73      0.73       123\n",
      "\n"
     ]
    }
   ],
   "source": [
    "print(classification_report(y_test,y_predicted))"
   ]
  },
  {
   "cell_type": "markdown",
   "id": "medium-disorder",
   "metadata": {},
   "source": [
    "### hyper_parameter_tuning "
   ]
  },
  {
   "cell_type": "markdown",
   "id": "tribal-field",
   "metadata": {},
   "source": [
    "#### random searchcv"
   ]
  },
  {
   "cell_type": "code",
   "execution_count": 139,
   "id": "short-brand",
   "metadata": {},
   "outputs": [],
   "source": [
    "from sklearn.model_selection import RandomizedSearchCV"
   ]
  },
  {
   "cell_type": "code",
   "execution_count": 140,
   "id": "stunning-detail",
   "metadata": {},
   "outputs": [],
   "source": [
    "n_estimators = [int(x) for x in np.linspace(start = 200, stop = 2000, num = 10)]"
   ]
  },
  {
   "cell_type": "code",
   "execution_count": 141,
   "id": "basic-device",
   "metadata": {},
   "outputs": [],
   "source": [
    "max_features = ['auto', 'sqrt','log2']"
   ]
  },
  {
   "cell_type": "code",
   "execution_count": 142,
   "id": "premium-bracket",
   "metadata": {},
   "outputs": [],
   "source": [
    "max_depth = [int(x) for x in np.linspace(10, 1000,10)]"
   ]
  },
  {
   "cell_type": "code",
   "execution_count": 143,
   "id": "lyric-romance",
   "metadata": {},
   "outputs": [],
   "source": [
    "min_samples_split = [2, 5, 10,14]"
   ]
  },
  {
   "cell_type": "code",
   "execution_count": 144,
   "id": "indirect-breach",
   "metadata": {},
   "outputs": [],
   "source": [
    "min_samples_leaf = [1, 2, 4,6,8]"
   ]
  },
  {
   "cell_type": "code",
   "execution_count": 145,
   "id": "special-liechtenstein",
   "metadata": {},
   "outputs": [
    {
     "name": "stdout",
     "output_type": "stream",
     "text": [
      "{'n_estimators': [200, 400, 600, 800, 1000, 1200, 1400, 1600, 1800, 2000], 'max_features': ['auto', 'sqrt', 'log2'], 'max_depth': [10, 120, 230, 340, 450, 560, 670, 780, 890, 1000], 'min_samples_split': [2, 5, 10, 14], 'min_samples_leaf': [1, 2, 4, 6, 8], 'criterion': ['entropy', 'gini']}\n"
     ]
    }
   ],
   "source": [
    "random_grid = {'n_estimators': n_estimators,\n",
    "               'max_features': max_features,\n",
    "               'max_depth': max_depth,\n",
    "               'min_samples_split': min_samples_split,\n",
    "               'min_samples_leaf': min_samples_leaf,\n",
    "              'criterion':['entropy','gini']}\n",
    "print(random_grid)"
   ]
  },
  {
   "cell_type": "code",
   "execution_count": 146,
   "id": "ancient-roads",
   "metadata": {},
   "outputs": [],
   "source": [
    "rf=RandomForestClassifier()\n",
    "rf_randomcv=RandomizedSearchCV(estimator=rf,param_distributions=random_grid,n_iter=10,cv=3,verbose=2,\n",
    "                               random_state=100,n_jobs=-1)"
   ]
  },
  {
   "cell_type": "code",
   "execution_count": 147,
   "id": "vulnerable-preview",
   "metadata": {},
   "outputs": [
    {
     "name": "stdout",
     "output_type": "stream",
     "text": [
      "Fitting 3 folds for each of 10 candidates, totalling 30 fits\n"
     ]
    },
    {
     "data": {
      "text/plain": [
       "RandomizedSearchCV(cv=3, estimator=RandomForestClassifier(), n_jobs=-1,\n",
       "                   param_distributions={'criterion': ['entropy', 'gini'],\n",
       "                                        'max_depth': [10, 120, 230, 340, 450,\n",
       "                                                      560, 670, 780, 890,\n",
       "                                                      1000],\n",
       "                                        'max_features': ['auto', 'sqrt',\n",
       "                                                         'log2'],\n",
       "                                        'min_samples_leaf': [1, 2, 4, 6, 8],\n",
       "                                        'min_samples_split': [2, 5, 10, 14],\n",
       "                                        'n_estimators': [200, 400, 600, 800,\n",
       "                                                         1000, 1200, 1400, 1600,\n",
       "                                                         1800, 2000]},\n",
       "                   random_state=100, verbose=2)"
      ]
     },
     "execution_count": 147,
     "metadata": {},
     "output_type": "execute_result"
    }
   ],
   "source": [
    "rf_randomcv.fit(X_train,y_train)"
   ]
  },
  {
   "cell_type": "code",
   "execution_count": 148,
   "id": "innocent-failing",
   "metadata": {},
   "outputs": [
    {
     "data": {
      "text/plain": [
       "{'n_estimators': 1400,\n",
       " 'min_samples_split': 5,\n",
       " 'min_samples_leaf': 6,\n",
       " 'max_features': 'sqrt',\n",
       " 'max_depth': 120,\n",
       " 'criterion': 'gini'}"
      ]
     },
     "execution_count": 148,
     "metadata": {},
     "output_type": "execute_result"
    }
   ],
   "source": [
    "rf_randomcv.best_params_"
   ]
  },
  {
   "cell_type": "code",
   "execution_count": 149,
   "id": "statutory-desert",
   "metadata": {},
   "outputs": [],
   "source": [
    "best_random_grid=rf_randomcv.best_estimator_"
   ]
  },
  {
   "cell_type": "code",
   "execution_count": 150,
   "id": "crazy-sample",
   "metadata": {},
   "outputs": [],
   "source": [
    "pred=best_random_grid.predict(X_test)"
   ]
  },
  {
   "cell_type": "code",
   "execution_count": 151,
   "id": "assured-exhibit",
   "metadata": {},
   "outputs": [],
   "source": [
    "y_predicted=best_random_grid.predict(X_test)"
   ]
  },
  {
   "cell_type": "code",
   "execution_count": 152,
   "id": "overall-february",
   "metadata": {},
   "outputs": [
    {
     "name": "stdout",
     "output_type": "stream",
     "text": [
      "              precision    recall  f1-score   support\n",
      "\n",
      "         0.0       0.95      0.42      0.58        43\n",
      "         1.0       0.76      0.99      0.86        80\n",
      "\n",
      "    accuracy                           0.79       123\n",
      "   macro avg       0.85      0.70      0.72       123\n",
      "weighted avg       0.83      0.79      0.76       123\n",
      "\n"
     ]
    }
   ],
   "source": [
    "from sklearn.metrics import confusion_matrix,classification_report,accuracy_score\n",
    "print(classification_report(y_test,pred))"
   ]
  },
  {
   "cell_type": "code",
   "execution_count": 153,
   "id": "interested-final",
   "metadata": {},
   "outputs": [
    {
     "name": "stdout",
     "output_type": "stream",
     "text": [
      "Accuracy: 0.7886178861788617\n",
      "Precision: 0.7596153846153846\n",
      "Recall: 0.9875\n",
      "F1_score: 0.8586956521739131\n"
     ]
    }
   ],
   "source": [
    "from sklearn import metrics\n",
    "print(\"Accuracy:\",metrics.accuracy_score(y_test, y_predicted))\n",
    "print(\"Precision:\",metrics.precision_score(y_test, y_predicted))\n",
    "print(\"Recall:\",metrics.recall_score(y_test, y_predicted))\n",
    "\n",
    "from sklearn import metrics\n",
    "score=metrics.accuracy_score(y_test,y_predicted)\n",
    "pre=metrics.precision_score(y_test, y_predicted)\n",
    "recall=metrics.recall_score(y_test, y_predicted)\n",
    "f1_score=2*pre*recall/(pre+recall)\n",
    "print(\"F1_score:\",f1_score)"
   ]
  },
  {
   "cell_type": "markdown",
   "id": "infinite-tobago",
   "metadata": {},
   "source": [
    "### Grid_search_cv"
   ]
  },
  {
   "cell_type": "code",
   "execution_count": 152,
   "id": "economic-briefs",
   "metadata": {},
   "outputs": [],
   "source": [
    "from sklearn import svm\n",
    "from sklearn.ensemble import RandomForestClassifier\n",
    "from sklearn.linear_model import LogisticRegression\n",
    "\n",
    "model_params = {\n",
    "    'svm': {\n",
    "        'model': svm.SVC(gamma='auto'),\n",
    "        'params' : {\n",
    "            'C': [1,10,20],\n",
    "            'kernel': ['rbf','linear']\n",
    "        }  \n",
    "    },\n",
    "    'random_forest': {\n",
    "        'model': RandomForestClassifier(),\n",
    "        'params' : {\n",
    "            'n_estimators': [1,5,10]\n",
    "        }\n",
    "    },\n",
    "    'logistic_regression' : {\n",
    "        'model': LogisticRegression(solver='liblinear',multi_class='auto'),\n",
    "        'params': {\n",
    "            'C': [1,5,10]\n",
    "        }\n",
    "    }\n",
    "}\n"
   ]
  },
  {
   "cell_type": "code",
   "execution_count": 153,
   "id": "seasonal-probability",
   "metadata": {},
   "outputs": [
    {
     "data": {
      "text/plain": [
       "GridSearchCV(cv=5, estimator=LogisticRegression(solver='liblinear'),\n",
       "             param_grid={'C': [1, 5, 10]})"
      ]
     },
     "execution_count": 153,
     "metadata": {},
     "output_type": "execute_result"
    }
   ],
   "source": [
    "from sklearn.model_selection import GridSearchCV\n",
    "clf = GridSearchCV(LogisticRegression(solver='liblinear',multi_class='auto'), {\n",
    "    'C': [1,5,10]\n",
    "}, cv=5, return_train_score=False)\n",
    "clf.fit(X_train,y_train)"
   ]
  },
  {
   "cell_type": "code",
   "execution_count": 154,
   "id": "challenging-equity",
   "metadata": {},
   "outputs": [
    {
     "data": {
      "text/plain": [
       "{'C': 1}"
      ]
     },
     "execution_count": 154,
     "metadata": {},
     "output_type": "execute_result"
    }
   ],
   "source": [
    "clf.best_params_"
   ]
  },
  {
   "cell_type": "code",
   "execution_count": 155,
   "id": "complex-grove",
   "metadata": {},
   "outputs": [
    {
     "data": {
      "text/plain": [
       "0.8125541125541125"
      ]
     },
     "execution_count": 155,
     "metadata": {},
     "output_type": "execute_result"
    }
   ],
   "source": [
    "clf.best_score_"
   ]
  },
  {
   "cell_type": "code",
   "execution_count": 157,
   "id": "italic-essence",
   "metadata": {},
   "outputs": [],
   "source": [
    "clf=clf.best_estimator_"
   ]
  },
  {
   "cell_type": "code",
   "execution_count": 159,
   "id": "hydraulic-costs",
   "metadata": {},
   "outputs": [],
   "source": [
    "y_predicted=clf.predict(X_test)"
   ]
  },
  {
   "cell_type": "code",
   "execution_count": 160,
   "id": "bound-nylon",
   "metadata": {},
   "outputs": [
    {
     "name": "stdout",
     "output_type": "stream",
     "text": [
      "Accuracy: 0.7886178861788617\n",
      "Precision: 0.7596153846153846\n",
      "Recall: 0.9875\n",
      "F1_score: 0.8586956521739131\n"
     ]
    }
   ],
   "source": [
    "from sklearn import metrics\n",
    "print(\"Accuracy:\",metrics.accuracy_score(y_test, y_predicted))\n",
    "print(\"Precision:\",metrics.precision_score(y_test, y_predicted))\n",
    "print(\"Recall:\",metrics.recall_score(y_test, y_predicted))\n",
    "\n",
    "from sklearn import metrics\n",
    "score=metrics.accuracy_score(y_test,y_predicted)\n",
    "pre=metrics.precision_score(y_test, y_predicted)\n",
    "recall=metrics.recall_score(y_test, y_predicted)\n",
    "f1_score=2*pre*recall/(pre+recall)\n",
    "print(\"F1_score:\",f1_score)"
   ]
  },
  {
   "cell_type": "markdown",
   "id": "affected-grass",
   "metadata": {},
   "source": [
    "******************************"
   ]
  },
  {
   "cell_type": "code",
   "execution_count": null,
   "id": "automotive-october",
   "metadata": {},
   "outputs": [],
   "source": []
  }
 ],
 "metadata": {
  "kernelspec": {
   "display_name": "Python 3 (ipykernel)",
   "language": "python",
   "name": "python3"
  },
  "language_info": {
   "codemirror_mode": {
    "name": "ipython",
    "version": 3
   },
   "file_extension": ".py",
   "mimetype": "text/x-python",
   "name": "python",
   "nbconvert_exporter": "python",
   "pygments_lexer": "ipython3",
   "version": "3.12.3"
  }
 },
 "nbformat": 4,
 "nbformat_minor": 5
}
