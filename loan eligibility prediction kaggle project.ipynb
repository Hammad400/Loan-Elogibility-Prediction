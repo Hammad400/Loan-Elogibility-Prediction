{
 "cells": [
  {
   "cell_type": "markdown",
   "id": "exotic-today",
   "metadata": {},
   "source": [
    "# loan eligibility prediction\n",
    "### https://www.kaggle.com/vikasukani/loan-eligible-dataset"
   ]
  },
  {
   "cell_type": "markdown",
   "id": "forty-liver",
   "metadata": {},
   "source": [
    "### loading data"
   ]
  },
  {
   "cell_type": "code",
   "execution_count": 1,
   "id": "intensive-format",
   "metadata": {},
   "outputs": [],
   "source": [
    "import pandas as pd\n",
    "import matplotlib.pyplot as plt\n",
    "import seaborn as sns"
   ]
  },
  {
   "cell_type": "code",
   "execution_count": 2,
   "id": "tight-bunny",
   "metadata": {},
   "outputs": [],
   "source": [
    "df=pd.read_csv('loan-train.csv')"
   ]
  },
  {
   "cell_type": "code",
   "execution_count": 3,
   "id": "democratic-oregon",
   "metadata": {},
   "outputs": [
    {
     "data": {
      "text/html": [
       "<div>\n",
       "<style scoped>\n",
       "    .dataframe tbody tr th:only-of-type {\n",
       "        vertical-align: middle;\n",
       "    }\n",
       "\n",
       "    .dataframe tbody tr th {\n",
       "        vertical-align: top;\n",
       "    }\n",
       "\n",
       "    .dataframe thead th {\n",
       "        text-align: right;\n",
       "    }\n",
       "</style>\n",
       "<table border=\"1\" class=\"dataframe\">\n",
       "  <thead>\n",
       "    <tr style=\"text-align: right;\">\n",
       "      <th></th>\n",
       "      <th>Loan_ID</th>\n",
       "      <th>Gender</th>\n",
       "      <th>Married</th>\n",
       "      <th>Dependents</th>\n",
       "      <th>Education</th>\n",
       "      <th>Self_Employed</th>\n",
       "      <th>ApplicantIncome</th>\n",
       "      <th>CoapplicantIncome</th>\n",
       "      <th>LoanAmount</th>\n",
       "      <th>Loan_Amount_Term</th>\n",
       "      <th>Credit_History</th>\n",
       "      <th>Property_Area</th>\n",
       "      <th>Loan_Status</th>\n",
       "    </tr>\n",
       "  </thead>\n",
       "  <tbody>\n",
       "    <tr>\n",
       "      <th>0</th>\n",
       "      <td>LP001002</td>\n",
       "      <td>Male</td>\n",
       "      <td>No</td>\n",
       "      <td>0</td>\n",
       "      <td>Graduate</td>\n",
       "      <td>No</td>\n",
       "      <td>5849</td>\n",
       "      <td>0.0</td>\n",
       "      <td>NaN</td>\n",
       "      <td>360.0</td>\n",
       "      <td>1.0</td>\n",
       "      <td>Urban</td>\n",
       "      <td>Y</td>\n",
       "    </tr>\n",
       "    <tr>\n",
       "      <th>1</th>\n",
       "      <td>LP001003</td>\n",
       "      <td>Male</td>\n",
       "      <td>Yes</td>\n",
       "      <td>1</td>\n",
       "      <td>Graduate</td>\n",
       "      <td>No</td>\n",
       "      <td>4583</td>\n",
       "      <td>1508.0</td>\n",
       "      <td>128.0</td>\n",
       "      <td>360.0</td>\n",
       "      <td>1.0</td>\n",
       "      <td>Rural</td>\n",
       "      <td>N</td>\n",
       "    </tr>\n",
       "    <tr>\n",
       "      <th>2</th>\n",
       "      <td>LP001005</td>\n",
       "      <td>Male</td>\n",
       "      <td>Yes</td>\n",
       "      <td>0</td>\n",
       "      <td>Graduate</td>\n",
       "      <td>Yes</td>\n",
       "      <td>3000</td>\n",
       "      <td>0.0</td>\n",
       "      <td>66.0</td>\n",
       "      <td>360.0</td>\n",
       "      <td>1.0</td>\n",
       "      <td>Urban</td>\n",
       "      <td>Y</td>\n",
       "    </tr>\n",
       "    <tr>\n",
       "      <th>3</th>\n",
       "      <td>LP001006</td>\n",
       "      <td>Male</td>\n",
       "      <td>Yes</td>\n",
       "      <td>0</td>\n",
       "      <td>Not Graduate</td>\n",
       "      <td>No</td>\n",
       "      <td>2583</td>\n",
       "      <td>2358.0</td>\n",
       "      <td>120.0</td>\n",
       "      <td>360.0</td>\n",
       "      <td>1.0</td>\n",
       "      <td>Urban</td>\n",
       "      <td>Y</td>\n",
       "    </tr>\n",
       "    <tr>\n",
       "      <th>4</th>\n",
       "      <td>LP001008</td>\n",
       "      <td>Male</td>\n",
       "      <td>No</td>\n",
       "      <td>0</td>\n",
       "      <td>Graduate</td>\n",
       "      <td>No</td>\n",
       "      <td>6000</td>\n",
       "      <td>0.0</td>\n",
       "      <td>141.0</td>\n",
       "      <td>360.0</td>\n",
       "      <td>1.0</td>\n",
       "      <td>Urban</td>\n",
       "      <td>Y</td>\n",
       "    </tr>\n",
       "  </tbody>\n",
       "</table>\n",
       "</div>"
      ],
      "text/plain": [
       "    Loan_ID Gender Married Dependents     Education Self_Employed  \\\n",
       "0  LP001002   Male      No          0      Graduate            No   \n",
       "1  LP001003   Male     Yes          1      Graduate            No   \n",
       "2  LP001005   Male     Yes          0      Graduate           Yes   \n",
       "3  LP001006   Male     Yes          0  Not Graduate            No   \n",
       "4  LP001008   Male      No          0      Graduate            No   \n",
       "\n",
       "   ApplicantIncome  CoapplicantIncome  LoanAmount  Loan_Amount_Term  \\\n",
       "0             5849                0.0         NaN             360.0   \n",
       "1             4583             1508.0       128.0             360.0   \n",
       "2             3000                0.0        66.0             360.0   \n",
       "3             2583             2358.0       120.0             360.0   \n",
       "4             6000                0.0       141.0             360.0   \n",
       "\n",
       "   Credit_History Property_Area Loan_Status  \n",
       "0             1.0         Urban           Y  \n",
       "1             1.0         Rural           N  \n",
       "2             1.0         Urban           Y  \n",
       "3             1.0         Urban           Y  \n",
       "4             1.0         Urban           Y  "
      ]
     },
     "execution_count": 3,
     "metadata": {},
     "output_type": "execute_result"
    }
   ],
   "source": [
    "df.head()"
   ]
  },
  {
   "cell_type": "markdown",
   "id": "mysterious-gardening",
   "metadata": {},
   "source": [
    "## EDA"
   ]
  },
  {
   "cell_type": "code",
   "execution_count": 4,
   "id": "genuine-necklace",
   "metadata": {},
   "outputs": [
    {
     "data": {
      "text/plain": [
       "(614, 13)"
      ]
     },
     "execution_count": 4,
     "metadata": {},
     "output_type": "execute_result"
    }
   ],
   "source": [
    "df.shape"
   ]
  },
  {
   "cell_type": "code",
   "execution_count": 5,
   "id": "insured-chance",
   "metadata": {},
   "outputs": [
    {
     "data": {
      "text/plain": [
       "Index(['Loan_ID', 'Gender', 'Married', 'Dependents', 'Education',\n",
       "       'Self_Employed', 'ApplicantIncome', 'CoapplicantIncome', 'LoanAmount',\n",
       "       'Loan_Amount_Term', 'Credit_History', 'Property_Area', 'Loan_Status'],\n",
       "      dtype='object')"
      ]
     },
     "execution_count": 5,
     "metadata": {},
     "output_type": "execute_result"
    }
   ],
   "source": [
    "df.columns"
   ]
  },
  {
   "cell_type": "code",
   "execution_count": 6,
   "id": "academic-joint",
   "metadata": {},
   "outputs": [
    {
     "data": {
      "text/plain": [
       "13"
      ]
     },
     "execution_count": 6,
     "metadata": {},
     "output_type": "execute_result"
    }
   ],
   "source": [
    "len(df.columns)"
   ]
  },
  {
   "cell_type": "code",
   "execution_count": 7,
   "id": "alleged-comfort",
   "metadata": {},
   "outputs": [
    {
     "data": {
      "text/plain": [
       "['ApplicantIncome',\n",
       " 'CoapplicantIncome',\n",
       " 'LoanAmount',\n",
       " 'Loan_Amount_Term',\n",
       " 'Credit_History']"
      ]
     },
     "execution_count": 7,
     "metadata": {},
     "output_type": "execute_result"
    }
   ],
   "source": [
    "numerical_features = [feature for feature in df.columns if df[feature].dtypes != 'O']\n",
    "numerical_features"
   ]
  },
  {
   "cell_type": "code",
   "execution_count": 8,
   "id": "analyzed-logistics",
   "metadata": {},
   "outputs": [
    {
     "data": {
      "text/plain": [
       "38.46153846153847"
      ]
     },
     "execution_count": 8,
     "metadata": {},
     "output_type": "execute_result"
    }
   ],
   "source": [
    "len(numerical_features)/df.shape[1]*100"
   ]
  },
  {
   "cell_type": "code",
   "execution_count": 9,
   "id": "dense-iceland",
   "metadata": {},
   "outputs": [
    {
     "data": {
      "text/plain": [
       "Loan_ID               0\n",
       "Gender               13\n",
       "Married               3\n",
       "Dependents           15\n",
       "Education             0\n",
       "Self_Employed        32\n",
       "ApplicantIncome       0\n",
       "CoapplicantIncome     0\n",
       "LoanAmount           22\n",
       "Loan_Amount_Term     14\n",
       "Credit_History       50\n",
       "Property_Area         0\n",
       "Loan_Status           0\n",
       "dtype: int64"
      ]
     },
     "execution_count": 9,
     "metadata": {},
     "output_type": "execute_result"
    }
   ],
   "source": [
    "df.isnull().sum()"
   ]
  },
  {
   "cell_type": "code",
   "execution_count": 10,
   "id": "historical-variation",
   "metadata": {},
   "outputs": [
    {
     "data": {
      "text/plain": [
       "['Gender',\n",
       " 'Married',\n",
       " 'Dependents',\n",
       " 'Self_Employed',\n",
       " 'LoanAmount',\n",
       " 'Loan_Amount_Term',\n",
       " 'Credit_History']"
      ]
     },
     "execution_count": 10,
     "metadata": {},
     "output_type": "execute_result"
    }
   ],
   "source": [
    "nan_features_df=[feature for feature in df.columns if (df[feature].isnull().sum())>0] \n",
    "nan_features_df"
   ]
  },
  {
   "cell_type": "code",
   "execution_count": 11,
   "id": "regulated-encounter",
   "metadata": {},
   "outputs": [
    {
     "data": {
      "text/plain": [
       "0.5384615384615384"
      ]
     },
     "execution_count": 11,
     "metadata": {},
     "output_type": "execute_result"
    }
   ],
   "source": [
    "len(nan_features_df)/df.shape[1] # nan columns percentage out of total"
   ]
  },
  {
   "cell_type": "code",
   "execution_count": 12,
   "id": "serious-newsletter",
   "metadata": {},
   "outputs": [
    {
     "data": {
      "text/html": [
       "<div>\n",
       "<style scoped>\n",
       "    .dataframe tbody tr th:only-of-type {\n",
       "        vertical-align: middle;\n",
       "    }\n",
       "\n",
       "    .dataframe tbody tr th {\n",
       "        vertical-align: top;\n",
       "    }\n",
       "\n",
       "    .dataframe thead th {\n",
       "        text-align: right;\n",
       "    }\n",
       "</style>\n",
       "<table border=\"1\" class=\"dataframe\">\n",
       "  <thead>\n",
       "    <tr style=\"text-align: right;\">\n",
       "      <th></th>\n",
       "      <th>Total</th>\n",
       "      <th>Percent</th>\n",
       "    </tr>\n",
       "  </thead>\n",
       "  <tbody>\n",
       "    <tr>\n",
       "      <th>Credit_History</th>\n",
       "      <td>50</td>\n",
       "      <td>0.081433</td>\n",
       "    </tr>\n",
       "    <tr>\n",
       "      <th>Self_Employed</th>\n",
       "      <td>32</td>\n",
       "      <td>0.052117</td>\n",
       "    </tr>\n",
       "    <tr>\n",
       "      <th>LoanAmount</th>\n",
       "      <td>22</td>\n",
       "      <td>0.035831</td>\n",
       "    </tr>\n",
       "    <tr>\n",
       "      <th>Dependents</th>\n",
       "      <td>15</td>\n",
       "      <td>0.024430</td>\n",
       "    </tr>\n",
       "    <tr>\n",
       "      <th>Loan_Amount_Term</th>\n",
       "      <td>14</td>\n",
       "      <td>0.022801</td>\n",
       "    </tr>\n",
       "    <tr>\n",
       "      <th>Gender</th>\n",
       "      <td>13</td>\n",
       "      <td>0.021173</td>\n",
       "    </tr>\n",
       "    <tr>\n",
       "      <th>Married</th>\n",
       "      <td>3</td>\n",
       "      <td>0.004886</td>\n",
       "    </tr>\n",
       "    <tr>\n",
       "      <th>Loan_ID</th>\n",
       "      <td>0</td>\n",
       "      <td>0.000000</td>\n",
       "    </tr>\n",
       "    <tr>\n",
       "      <th>Education</th>\n",
       "      <td>0</td>\n",
       "      <td>0.000000</td>\n",
       "    </tr>\n",
       "    <tr>\n",
       "      <th>ApplicantIncome</th>\n",
       "      <td>0</td>\n",
       "      <td>0.000000</td>\n",
       "    </tr>\n",
       "    <tr>\n",
       "      <th>CoapplicantIncome</th>\n",
       "      <td>0</td>\n",
       "      <td>0.000000</td>\n",
       "    </tr>\n",
       "    <tr>\n",
       "      <th>Property_Area</th>\n",
       "      <td>0</td>\n",
       "      <td>0.000000</td>\n",
       "    </tr>\n",
       "    <tr>\n",
       "      <th>Loan_Status</th>\n",
       "      <td>0</td>\n",
       "      <td>0.000000</td>\n",
       "    </tr>\n",
       "  </tbody>\n",
       "</table>\n",
       "</div>"
      ],
      "text/plain": [
       "                   Total   Percent\n",
       "Credit_History        50  0.081433\n",
       "Self_Employed         32  0.052117\n",
       "LoanAmount            22  0.035831\n",
       "Dependents            15  0.024430\n",
       "Loan_Amount_Term      14  0.022801\n",
       "Gender                13  0.021173\n",
       "Married                3  0.004886\n",
       "Loan_ID                0  0.000000\n",
       "Education              0  0.000000\n",
       "ApplicantIncome        0  0.000000\n",
       "CoapplicantIncome      0  0.000000\n",
       "Property_Area          0  0.000000\n",
       "Loan_Status            0  0.000000"
      ]
     },
     "execution_count": 12,
     "metadata": {},
     "output_type": "execute_result"
    }
   ],
   "source": [
    "# missing data from train dataset\n",
    "total = df.isnull().sum().sort_values(ascending=False)\n",
    "percent = (df.isnull().sum()/df.isnull().count()).sort_values(ascending=False)\n",
    "#percent = (train.isnull().sum()/len(train)).sort_values(ascending=False) we can do as\n",
    "missing_data = pd.concat([total,percent],axis=1,keys=['Total','Percent'])\n",
    "#print(missing_data['Percent'].mean())\n",
    "missing_data.head(30)"
   ]
  },
  {
   "cell_type": "code",
   "execution_count": 13,
   "id": "fancy-marijuana",
   "metadata": {},
   "outputs": [
    {
     "data": {
      "text/html": [
       "<div>\n",
       "<style scoped>\n",
       "    .dataframe tbody tr th:only-of-type {\n",
       "        vertical-align: middle;\n",
       "    }\n",
       "\n",
       "    .dataframe tbody tr th {\n",
       "        vertical-align: top;\n",
       "    }\n",
       "\n",
       "    .dataframe thead th {\n",
       "        text-align: right;\n",
       "    }\n",
       "</style>\n",
       "<table border=\"1\" class=\"dataframe\">\n",
       "  <thead>\n",
       "    <tr style=\"text-align: right;\">\n",
       "      <th></th>\n",
       "      <th>Total</th>\n",
       "      <th>Percent</th>\n",
       "    </tr>\n",
       "  </thead>\n",
       "  <tbody>\n",
       "    <tr>\n",
       "      <th>Credit_History</th>\n",
       "      <td>50</td>\n",
       "      <td>0.081433</td>\n",
       "    </tr>\n",
       "    <tr>\n",
       "      <th>Self_Employed</th>\n",
       "      <td>32</td>\n",
       "      <td>0.052117</td>\n",
       "    </tr>\n",
       "    <tr>\n",
       "      <th>LoanAmount</th>\n",
       "      <td>22</td>\n",
       "      <td>0.035831</td>\n",
       "    </tr>\n",
       "    <tr>\n",
       "      <th>Dependents</th>\n",
       "      <td>15</td>\n",
       "      <td>0.024430</td>\n",
       "    </tr>\n",
       "    <tr>\n",
       "      <th>Loan_Amount_Term</th>\n",
       "      <td>14</td>\n",
       "      <td>0.022801</td>\n",
       "    </tr>\n",
       "    <tr>\n",
       "      <th>Gender</th>\n",
       "      <td>13</td>\n",
       "      <td>0.021173</td>\n",
       "    </tr>\n",
       "    <tr>\n",
       "      <th>Married</th>\n",
       "      <td>3</td>\n",
       "      <td>0.004886</td>\n",
       "    </tr>\n",
       "  </tbody>\n",
       "</table>\n",
       "</div>"
      ],
      "text/plain": [
       "                  Total   Percent\n",
       "Credit_History       50  0.081433\n",
       "Self_Employed        32  0.052117\n",
       "LoanAmount           22  0.035831\n",
       "Dependents           15  0.024430\n",
       "Loan_Amount_Term     14  0.022801\n",
       "Gender               13  0.021173\n",
       "Married               3  0.004886"
      ]
     },
     "execution_count": 13,
     "metadata": {},
     "output_type": "execute_result"
    }
   ],
   "source": [
    "missing_data=missing_data[missing_data['Total']>0]\n",
    "missing_data"
   ]
  },
  {
   "cell_type": "code",
   "execution_count": 14,
   "id": "moderate-parts",
   "metadata": {},
   "outputs": [
    {
     "data": {
      "text/plain": [
       "0.03466728711028386"
      ]
     },
     "execution_count": 14,
     "metadata": {},
     "output_type": "execute_result"
    }
   ],
   "source": [
    "missing_data['Percent'].mean()"
   ]
  },
  {
   "cell_type": "markdown",
   "id": "mathematical-dining",
   "metadata": {},
   "source": [
    "***droping the nan values***"
   ]
  },
  {
   "cell_type": "code",
   "execution_count": 15,
   "id": "dimensional-detroit",
   "metadata": {},
   "outputs": [
    {
     "data": {
      "text/plain": [
       "78.17589576547232"
      ]
     },
     "execution_count": 15,
     "metadata": {},
     "output_type": "execute_result"
    }
   ],
   "source": [
    "df.dropna().shape[0]/len(df)*100"
   ]
  },
  {
   "cell_type": "code",
   "execution_count": 16,
   "id": "latter-witch",
   "metadata": {},
   "outputs": [],
   "source": [
    "df=df.dropna()"
   ]
  },
  {
   "cell_type": "code",
   "execution_count": 17,
   "id": "floating-ticket",
   "metadata": {},
   "outputs": [
    {
     "data": {
      "text/plain": [
       "(480, 13)"
      ]
     },
     "execution_count": 17,
     "metadata": {},
     "output_type": "execute_result"
    }
   ],
   "source": [
    "df.shape"
   ]
  },
  {
   "cell_type": "code",
   "execution_count": 18,
   "id": "structural-dallas",
   "metadata": {},
   "outputs": [
    {
     "data": {
      "text/plain": [
       "array(['N', 'Y'], dtype=object)"
      ]
     },
     "execution_count": 18,
     "metadata": {},
     "output_type": "execute_result"
    }
   ],
   "source": [
    "df['Loan_Status'].unique()"
   ]
  },
  {
   "cell_type": "code",
   "execution_count": 19,
   "id": "romance-college",
   "metadata": {},
   "outputs": [],
   "source": [
    "df['Loan_Status']=(df['Loan_Status']=='Y').astype(int)"
   ]
  },
  {
   "cell_type": "code",
   "execution_count": 20,
   "id": "academic-shelf",
   "metadata": {},
   "outputs": [
    {
     "data": {
      "text/plain": [
       "1    332\n",
       "0    148\n",
       "Name: Loan_Status, dtype: int64"
      ]
     },
     "execution_count": 20,
     "metadata": {},
     "output_type": "execute_result"
    }
   ],
   "source": [
    "df['Loan_Status'].value_counts()"
   ]
  },
  {
   "cell_type": "markdown",
   "id": "beginning-judge",
   "metadata": {},
   "source": [
    "### Eligble VS not eligble"
   ]
  },
  {
   "cell_type": "code",
   "execution_count": 21,
   "id": "signed-sense",
   "metadata": {},
   "outputs": [],
   "source": [
    "eligible=df.groupby('Loan_Status').get_group(1)\n"
   ]
  },
  {
   "cell_type": "code",
   "execution_count": 22,
   "id": "proprietary-truck",
   "metadata": {},
   "outputs": [],
   "source": [
    "non_eligible=df.groupby('Loan_Status').get_group(0)"
   ]
  },
  {
   "cell_type": "code",
   "execution_count": 23,
   "id": "technological-halifax",
   "metadata": {},
   "outputs": [
    {
     "data": {
      "text/plain": [
       "0     56.325301\n",
       "2     19.578313\n",
       "1     15.662651\n",
       "3+     8.433735\n",
       "Name: Dependents, dtype: float64"
      ]
     },
     "execution_count": 23,
     "metadata": {},
     "output_type": "execute_result"
    }
   ],
   "source": [
    "eligible['Dependents'].value_counts()/len(eligible)*100"
   ]
  },
  {
   "cell_type": "code",
   "execution_count": 24,
   "id": "specialized-temperature",
   "metadata": {},
   "outputs": [
    {
     "data": {
      "text/plain": [
       "0     58.783784\n",
       "1     18.918919\n",
       "2     13.513514\n",
       "3+     8.783784\n",
       "Name: Dependents, dtype: float64"
      ]
     },
     "execution_count": 24,
     "metadata": {},
     "output_type": "execute_result"
    }
   ],
   "source": [
    "non_eligible['Dependents'].value_counts()/len(non_eligible)*100"
   ]
  },
  {
   "cell_type": "code",
   "execution_count": 25,
   "id": "employed-prevention",
   "metadata": {},
   "outputs": [
    {
     "data": {
      "text/plain": [
       "Male      83.73494\n",
       "Female    16.26506\n",
       "Name: Gender, dtype: float64"
      ]
     },
     "execution_count": 25,
     "metadata": {},
     "output_type": "execute_result"
    }
   ],
   "source": [
    "eligible['Gender'].value_counts()/len(eligible)*100"
   ]
  },
  {
   "cell_type": "code",
   "execution_count": 26,
   "id": "fiscal-finnish",
   "metadata": {},
   "outputs": [
    {
     "data": {
      "text/plain": [
       "Male      78.378378\n",
       "Female    21.621622\n",
       "Name: Gender, dtype: float64"
      ]
     },
     "execution_count": 26,
     "metadata": {},
     "output_type": "execute_result"
    }
   ],
   "source": [
    "non_eligible['Gender'].value_counts()/len(non_eligible)*100"
   ]
  },
  {
   "cell_type": "code",
   "execution_count": 27,
   "id": "entire-filling",
   "metadata": {},
   "outputs": [
    {
     "data": {
      "text/plain": [
       "Yes    68.373494\n",
       "No     31.626506\n",
       "Name: Married, dtype: float64"
      ]
     },
     "execution_count": 27,
     "metadata": {},
     "output_type": "execute_result"
    }
   ],
   "source": [
    "eligible['Married'].value_counts()/len(eligible)*100"
   ]
  },
  {
   "cell_type": "code",
   "execution_count": 28,
   "id": "numerical-township",
   "metadata": {},
   "outputs": [
    {
     "data": {
      "text/plain": [
       "Yes    56.756757\n",
       "No     43.243243\n",
       "Name: Married, dtype: float64"
      ]
     },
     "execution_count": 28,
     "metadata": {},
     "output_type": "execute_result"
    }
   ],
   "source": [
    "non_eligible['Married'].value_counts()/len(non_eligible)*100"
   ]
  },
  {
   "cell_type": "code",
   "execution_count": 29,
   "id": "robust-orange",
   "metadata": {},
   "outputs": [
    {
     "data": {
      "text/plain": [
       "Graduate        81.626506\n",
       "Not Graduate    18.373494\n",
       "Name: Education, dtype: float64"
      ]
     },
     "execution_count": 29,
     "metadata": {},
     "output_type": "execute_result"
    }
   ],
   "source": [
    "eligible['Education'].value_counts()/len(eligible)*100"
   ]
  },
  {
   "cell_type": "code",
   "execution_count": 30,
   "id": "respective-russia",
   "metadata": {},
   "outputs": [
    {
     "data": {
      "text/plain": [
       "Graduate        75.675676\n",
       "Not Graduate    24.324324\n",
       "Name: Education, dtype: float64"
      ]
     },
     "execution_count": 30,
     "metadata": {},
     "output_type": "execute_result"
    }
   ],
   "source": [
    "non_eligible['Education'].value_counts()/len(non_eligible)*100"
   ]
  },
  {
   "cell_type": "code",
   "execution_count": 31,
   "id": "approximate-forum",
   "metadata": {},
   "outputs": [
    {
     "data": {
      "text/plain": [
       "No     87.048193\n",
       "Yes    12.951807\n",
       "Name: Self_Employed, dtype: float64"
      ]
     },
     "execution_count": 31,
     "metadata": {},
     "output_type": "execute_result"
    }
   ],
   "source": [
    "eligible['Self_Employed'].value_counts()/len(eligible)*100"
   ]
  },
  {
   "cell_type": "code",
   "execution_count": 32,
   "id": "behind-brunswick",
   "metadata": {},
   "outputs": [
    {
     "data": {
      "text/plain": [
       "No     84.459459\n",
       "Yes    15.540541\n",
       "Name: Self_Employed, dtype: float64"
      ]
     },
     "execution_count": 32,
     "metadata": {},
     "output_type": "execute_result"
    }
   ],
   "source": [
    "non_eligible['Self_Employed'].value_counts()/len(non_eligible)*100"
   ]
  },
  {
   "cell_type": "code",
   "execution_count": 33,
   "id": "alpha-listing",
   "metadata": {},
   "outputs": [
    {
     "data": {
      "text/plain": [
       "81000"
      ]
     },
     "execution_count": 33,
     "metadata": {},
     "output_type": "execute_result"
    }
   ],
   "source": [
    "df['ApplicantIncome'].max()"
   ]
  },
  {
   "cell_type": "code",
   "execution_count": 34,
   "id": "flush-prison",
   "metadata": {},
   "outputs": [
    {
     "data": {
      "text/plain": [
       "39999"
      ]
     },
     "execution_count": 34,
     "metadata": {},
     "output_type": "execute_result"
    }
   ],
   "source": [
    "eligible['ApplicantIncome'].max()"
   ]
  },
  {
   "cell_type": "code",
   "execution_count": 35,
   "id": "advanced-feeling",
   "metadata": {},
   "outputs": [
    {
     "data": {
      "text/plain": [
       "3859.0"
      ]
     },
     "execution_count": 35,
     "metadata": {},
     "output_type": "execute_result"
    }
   ],
   "source": [
    "med=df['ApplicantIncome'].median()\n",
    "med"
   ]
  },
  {
   "cell_type": "code",
   "execution_count": 36,
   "id": "taken-edinburgh",
   "metadata": {},
   "outputs": [
    {
     "data": {
      "text/plain": [
       "False    50.0\n",
       "True     50.0\n",
       "Name: ApplicantIncome, dtype: float64"
      ]
     },
     "execution_count": 36,
     "metadata": {},
     "output_type": "execute_result"
    }
   ],
   "source": [
    "(eligible['ApplicantIncome']<med).value_counts()/len(eligible)*100"
   ]
  },
  {
   "cell_type": "code",
   "execution_count": 37,
   "id": "fuzzy-latvia",
   "metadata": {},
   "outputs": [
    {
     "data": {
      "image/png": "[encoded data removed]",
      "text/plain": [
       "<Figure size 432x288 with 1 Axes>"
      ]
     },
     "metadata": {
      "needs_background": "light"
     },
     "output_type": "display_data"
    }
   ],
   "source": [
    "plt.hist(eligible['ApplicantIncome'],rwidth=0.95,bins=4)\n",
    "plt.show()"
   ]
  },
  {
   "cell_type": "code",
   "execution_count": 38,
   "id": "mysterious-mounting",
   "metadata": {},
   "outputs": [
    {
     "data": {
      "text/plain": [
       "81000"
      ]
     },
     "execution_count": 38,
     "metadata": {},
     "output_type": "execute_result"
    }
   ],
   "source": [
    "non_eligible['ApplicantIncome'].max()"
   ]
  },
  {
   "cell_type": "code",
   "execution_count": 39,
   "id": "square-heating",
   "metadata": {},
   "outputs": [
    {
     "data": {
      "text/plain": [
       "False    50.675676\n",
       "True     49.324324\n",
       "Name: ApplicantIncome, dtype: float64"
      ]
     },
     "execution_count": 39,
     "metadata": {},
     "output_type": "execute_result"
    }
   ],
   "source": [
    "(non_eligible['ApplicantIncome']<df['ApplicantIncome'].median()).value_counts()/len(non_eligible)*100"
   ]
  },
  {
   "cell_type": "code",
   "execution_count": 40,
   "id": "legislative-nepal",
   "metadata": {},
   "outputs": [
    {
     "data": {
      "image/png": "[encoded data removed]",
      "text/plain": [
       "<Figure size 432x288 with 1 Axes>"
      ]
     },
     "metadata": {
      "needs_background": "light"
     },
     "output_type": "display_data"
    }
   ],
   "source": [
    "plt.hist(non_eligible['ApplicantIncome'],rwidth=0.95,bins=4)\n",
    "plt.show()"
   ]
  },
  {
   "cell_type": "code",
   "execution_count": 41,
   "id": "thorough-tower",
   "metadata": {},
   "outputs": [
    {
     "data": {
      "text/plain": [
       "False    51.204819\n",
       "True     48.795181\n",
       "Name: CoapplicantIncome, dtype: float64"
      ]
     },
     "execution_count": 41,
     "metadata": {},
     "output_type": "execute_result"
    }
   ],
   "source": [
    "(eligible['CoapplicantIncome']<df['CoapplicantIncome'].median()).value_counts()/len(eligible)*100"
   ]
  },
  {
   "cell_type": "code",
   "execution_count": 42,
   "id": "written-detective",
   "metadata": {},
   "outputs": [
    {
     "data": {
      "image/png": "[encoded data removed]",
      "text/plain": [
       "<Figure size 432x288 with 1 Axes>"
      ]
     },
     "metadata": {
      "needs_background": "light"
     },
     "output_type": "display_data"
    }
   ],
   "source": [
    "plt.hist(non_eligible['CoapplicantIncome'],rwidth=0.95,bins=4)\n",
    "plt.show()"
   ]
  },
  {
   "cell_type": "code",
   "execution_count": 43,
   "id": "sought-literature",
   "metadata": {},
   "outputs": [
    {
     "data": {
      "text/plain": [
       "True     52.702703\n",
       "False    47.297297\n",
       "Name: CoapplicantIncome, dtype: float64"
      ]
     },
     "execution_count": 43,
     "metadata": {},
     "output_type": "execute_result"
    }
   ],
   "source": [
    "(non_eligible['CoapplicantIncome']<df['CoapplicantIncome'].median()).value_counts()/len(non_eligible)*100"
   ]
  },
  {
   "cell_type": "code",
   "execution_count": 44,
   "id": "unique-round",
   "metadata": {},
   "outputs": [
    {
     "data": {
      "image/png": "[encoded data removed]",
      "text/plain": [
       "<Figure size 432x288 with 1 Axes>"
      ]
     },
     "metadata": {
      "needs_background": "light"
     },
     "output_type": "display_data"
    }
   ],
   "source": [
    "plt.hist(eligible['LoanAmount'],rwidth=0.95,bins=4)\n",
    "plt.show()"
   ]
  },
  {
   "cell_type": "code",
   "execution_count": 45,
   "id": "precious-sweet",
   "metadata": {},
   "outputs": [
    {
     "data": {
      "text/plain": [
       "True     76.807229\n",
       "False    23.192771\n",
       "Name: LoanAmount, dtype: float64"
      ]
     },
     "execution_count": 45,
     "metadata": {},
     "output_type": "execute_result"
    }
   ],
   "source": [
    "(eligible['LoanAmount']<df['LoanAmount'].quantile(0.75)).value_counts()/len(eligible)*100"
   ]
  },
  {
   "cell_type": "code",
   "execution_count": 46,
   "id": "necessary-walnut",
   "metadata": {},
   "outputs": [
    {
     "data": {
      "image/png": "[encoded data removed]",
      "text/plain": [
       "<Figure size 432x288 with 1 Axes>"
      ]
     },
     "metadata": {
      "needs_background": "light"
     },
     "output_type": "display_data"
    }
   ],
   "source": [
    "plt.hist(non_eligible['LoanAmount'],rwidth=0.95,bins=4)\n",
    "plt.show()"
   ]
  },
  {
   "cell_type": "code",
   "execution_count": 47,
   "id": "contemporary-channel",
   "metadata": {},
   "outputs": [
    {
     "data": {
      "text/plain": [
       "True     69.594595\n",
       "False    30.405405\n",
       "Name: LoanAmount, dtype: float64"
      ]
     },
     "execution_count": 47,
     "metadata": {},
     "output_type": "execute_result"
    }
   ],
   "source": [
    "(non_eligible['LoanAmount']<df['LoanAmount'].quantile(0.75)).value_counts()/len(non_eligible)*100"
   ]
  },
  {
   "cell_type": "code",
   "execution_count": 48,
   "id": "metallic-elephant",
   "metadata": {},
   "outputs": [
    {
     "data": {
      "text/plain": [
       "360.0    87.951807\n",
       "180.0     7.228916\n",
       "300.0     1.204819\n",
       "480.0     1.204819\n",
       "120.0     0.903614\n",
       "84.0      0.602410\n",
       "60.0      0.602410\n",
       "240.0     0.301205\n",
       "Name: Loan_Amount_Term, dtype: float64"
      ]
     },
     "execution_count": 48,
     "metadata": {},
     "output_type": "execute_result"
    }
   ],
   "source": [
    "eligible['Loan_Amount_Term'].value_counts()/len(eligible)*100"
   ]
  },
  {
   "cell_type": "code",
   "execution_count": 49,
   "id": "another-branch",
   "metadata": {},
   "outputs": [
    {
     "data": {
      "text/plain": [
       "360.0    80.405405\n",
       "180.0     8.108108\n",
       "480.0     5.405405\n",
       "300.0     3.378378\n",
       "36.0      1.351351\n",
       "84.0      0.675676\n",
       "240.0     0.675676\n",
       "Name: Loan_Amount_Term, dtype: float64"
      ]
     },
     "execution_count": 49,
     "metadata": {},
     "output_type": "execute_result"
    }
   ],
   "source": [
    "non_eligible['Loan_Amount_Term'].value_counts()/len(non_eligible)*100"
   ]
  },
  {
   "cell_type": "code",
   "execution_count": 50,
   "id": "herbal-anxiety",
   "metadata": {},
   "outputs": [
    {
     "data": {
      "text/plain": [
       "False    89.156627\n",
       "True     10.843373\n",
       "Name: Loan_Amount_Term, dtype: float64"
      ]
     },
     "execution_count": 50,
     "metadata": {},
     "output_type": "execute_result"
    }
   ],
   "source": [
    "(eligible['Loan_Amount_Term']<df['Loan_Amount_Term'].median()).value_counts()/len(eligible)*100"
   ]
  },
  {
   "cell_type": "code",
   "execution_count": 51,
   "id": "minus-nutrition",
   "metadata": {},
   "outputs": [
    {
     "data": {
      "text/plain": [
       "False    85.810811\n",
       "True     14.189189\n",
       "Name: Loan_Amount_Term, dtype: float64"
      ]
     },
     "execution_count": 51,
     "metadata": {},
     "output_type": "execute_result"
    }
   ],
   "source": [
    "(non_eligible['Loan_Amount_Term']<df['Loan_Amount_Term'].median()).value_counts()/len(non_eligible)*100"
   ]
  },
  {
   "cell_type": "code",
   "execution_count": 52,
   "id": "rising-dynamics",
   "metadata": {},
   "outputs": [
    {
     "data": {
      "text/plain": [
       "1.0    97.891566\n",
       "0.0     2.108434\n",
       "Name: Credit_History, dtype: float64"
      ]
     },
     "execution_count": 52,
     "metadata": {},
     "output_type": "execute_result"
    }
   ],
   "source": [
    "eligible['Credit_History'].value_counts()/len(eligible)*100"
   ]
  },
  {
   "cell_type": "code",
   "execution_count": 53,
   "id": "velvet-infection",
   "metadata": {},
   "outputs": [
    {
     "data": {
      "text/plain": [
       "1.0    57.432432\n",
       "0.0    42.567568\n",
       "Name: Credit_History, dtype: float64"
      ]
     },
     "execution_count": 53,
     "metadata": {},
     "output_type": "execute_result"
    }
   ],
   "source": [
    "non_eligible['Credit_History'].value_counts()/len(non_eligible)*100"
   ]
  },
  {
   "cell_type": "code",
   "execution_count": 54,
   "id": "dried-barbados",
   "metadata": {},
   "outputs": [
    {
     "data": {
      "text/plain": [
       "Semiurban    44.879518\n",
       "Urban        29.518072\n",
       "Rural        25.602410\n",
       "Name: Property_Area, dtype: float64"
      ]
     },
     "execution_count": 54,
     "metadata": {},
     "output_type": "execute_result"
    }
   ],
   "source": [
    "eligible['Property_Area'].value_counts()/len(eligible)*100"
   ]
  },
  {
   "cell_type": "code",
   "execution_count": 55,
   "id": "thermal-calgary",
   "metadata": {},
   "outputs": [
    {
     "data": {
      "text/plain": [
       "Rural        36.486486\n",
       "Urban        35.135135\n",
       "Semiurban    28.378378\n",
       "Name: Property_Area, dtype: float64"
      ]
     },
     "execution_count": 55,
     "metadata": {},
     "output_type": "execute_result"
    }
   ],
   "source": [
    "non_eligible['Property_Area'].value_counts()/len(non_eligible)*100"
   ]
  },
  {
   "cell_type": "markdown",
   "id": "tight-significance",
   "metadata": {},
   "source": [
    "***converting catagarical data into 0 and 1***"
   ]
  },
  {
   "cell_type": "code",
   "execution_count": 56,
   "id": "administrative-intranet",
   "metadata": {},
   "outputs": [
    {
     "data": {
      "text/plain": [
       "['Loan_ID',\n",
       " 'Gender',\n",
       " 'Married',\n",
       " 'Dependents',\n",
       " 'Education',\n",
       " 'Self_Employed',\n",
       " 'Property_Area']"
      ]
     },
     "execution_count": 56,
     "metadata": {},
     "output_type": "execute_result"
    }
   ],
   "source": [
    "catagarical_features = [feature for feature in df.columns if df[feature].dtypes == 'O']\n",
    "catagarical_features"
   ]
  },
  {
   "cell_type": "code",
   "execution_count": 57,
   "id": "specified-corner",
   "metadata": {},
   "outputs": [
    {
     "data": {
      "text/plain": [
       "['Gender', 'Married', 'Education', 'Self_Employed']"
      ]
     },
     "execution_count": 57,
     "metadata": {},
     "output_type": "execute_result"
    }
   ],
   "source": [
    "catg_2_features=[]\n",
    "for feature in catagarical_features:\n",
    "    if len(df[feature].unique())==2:\n",
    "        catg_2_features.append(feature)\n",
    "catg_2_features"
   ]
  },
  {
   "cell_type": "code",
   "execution_count": 58,
   "id": "substantial-peeing",
   "metadata": {},
   "outputs": [
    {
     "data": {
      "text/plain": [
       "Graduate        383\n",
       "Not Graduate     97\n",
       "Name: Education, dtype: int64"
      ]
     },
     "execution_count": 58,
     "metadata": {},
     "output_type": "execute_result"
    }
   ],
   "source": [
    "df['Education'].value_counts()"
   ]
  },
  {
   "cell_type": "code",
   "execution_count": 59,
   "id": "noticed-reconstruction",
   "metadata": {},
   "outputs": [],
   "source": [
    "for feature in catg_2_features:\n",
    "    df[feature]=(df[feature]==df[feature].value_counts().keys()[0]).astype(int)"
   ]
  },
  {
   "cell_type": "code",
   "execution_count": 60,
   "id": "employed-perfume",
   "metadata": {},
   "outputs": [
    {
     "data": {
      "text/html": [
       "<div>\n",
       "<style scoped>\n",
       "    .dataframe tbody tr th:only-of-type {\n",
       "        vertical-align: middle;\n",
       "    }\n",
       "\n",
       "    .dataframe tbody tr th {\n",
       "        vertical-align: top;\n",
       "    }\n",
       "\n",
       "    .dataframe thead th {\n",
       "        text-align: right;\n",
       "    }\n",
       "</style>\n",
       "<table border=\"1\" class=\"dataframe\">\n",
       "  <thead>\n",
       "    <tr style=\"text-align: right;\">\n",
       "      <th></th>\n",
       "      <th>0</th>\n",
       "      <th>1</th>\n",
       "      <th>2</th>\n",
       "      <th>3+</th>\n",
       "    </tr>\n",
       "  </thead>\n",
       "  <tbody>\n",
       "    <tr>\n",
       "      <th>1</th>\n",
       "      <td>0</td>\n",
       "      <td>1</td>\n",
       "      <td>0</td>\n",
       "      <td>0</td>\n",
       "    </tr>\n",
       "    <tr>\n",
       "      <th>2</th>\n",
       "      <td>1</td>\n",
       "      <td>0</td>\n",
       "      <td>0</td>\n",
       "      <td>0</td>\n",
       "    </tr>\n",
       "    <tr>\n",
       "      <th>3</th>\n",
       "      <td>1</td>\n",
       "      <td>0</td>\n",
       "      <td>0</td>\n",
       "      <td>0</td>\n",
       "    </tr>\n",
       "    <tr>\n",
       "      <th>4</th>\n",
       "      <td>1</td>\n",
       "      <td>0</td>\n",
       "      <td>0</td>\n",
       "      <td>0</td>\n",
       "    </tr>\n",
       "    <tr>\n",
       "      <th>5</th>\n",
       "      <td>0</td>\n",
       "      <td>0</td>\n",
       "      <td>1</td>\n",
       "      <td>0</td>\n",
       "    </tr>\n",
       "    <tr>\n",
       "      <th>...</th>\n",
       "      <td>...</td>\n",
       "      <td>...</td>\n",
       "      <td>...</td>\n",
       "      <td>...</td>\n",
       "    </tr>\n",
       "    <tr>\n",
       "      <th>609</th>\n",
       "      <td>1</td>\n",
       "      <td>0</td>\n",
       "      <td>0</td>\n",
       "      <td>0</td>\n",
       "    </tr>\n",
       "    <tr>\n",
       "      <th>610</th>\n",
       "      <td>0</td>\n",
       "      <td>0</td>\n",
       "      <td>0</td>\n",
       "      <td>1</td>\n",
       "    </tr>\n",
       "    <tr>\n",
       "      <th>611</th>\n",
       "      <td>0</td>\n",
       "      <td>1</td>\n",
       "      <td>0</td>\n",
       "      <td>0</td>\n",
       "    </tr>\n",
       "    <tr>\n",
       "      <th>612</th>\n",
       "      <td>0</td>\n",
       "      <td>0</td>\n",
       "      <td>1</td>\n",
       "      <td>0</td>\n",
       "    </tr>\n",
       "    <tr>\n",
       "      <th>613</th>\n",
       "      <td>1</td>\n",
       "      <td>0</td>\n",
       "      <td>0</td>\n",
       "      <td>0</td>\n",
       "    </tr>\n",
       "  </tbody>\n",
       "</table>\n",
       "<p>480 rows × 4 columns</p>\n",
       "</div>"
      ],
      "text/plain": [
       "     0  1  2  3+\n",
       "1    0  1  0   0\n",
       "2    1  0  0   0\n",
       "3    1  0  0   0\n",
       "4    1  0  0   0\n",
       "5    0  0  1   0\n",
       "..  .. .. ..  ..\n",
       "609  1  0  0   0\n",
       "610  0  0  0   1\n",
       "611  0  1  0   0\n",
       "612  0  0  1   0\n",
       "613  1  0  0   0\n",
       "\n",
       "[480 rows x 4 columns]"
      ]
     },
     "execution_count": 60,
     "metadata": {},
     "output_type": "execute_result"
    }
   ],
   "source": [
    "dependents = pd.get_dummies(df['Dependents'])\n",
    "dependents"
   ]
  },
  {
   "cell_type": "code",
   "execution_count": 61,
   "id": "banned-launch",
   "metadata": {},
   "outputs": [],
   "source": [
    "area = pd.get_dummies(df['Property_Area'])"
   ]
  },
  {
   "cell_type": "code",
   "execution_count": 62,
   "id": "downtown-consumption",
   "metadata": {},
   "outputs": [
    {
     "data": {
      "text/plain": [
       "'Rural'"
      ]
     },
     "execution_count": 62,
     "metadata": {},
     "output_type": "execute_result"
    }
   ],
   "source": [
    "area.columns[0]"
   ]
  },
  {
   "cell_type": "code",
   "execution_count": 63,
   "id": "significant-strengthening",
   "metadata": {},
   "outputs": [
    {
     "data": {
      "text/html": [
       "<div>\n",
       "<style scoped>\n",
       "    .dataframe tbody tr th:only-of-type {\n",
       "        vertical-align: middle;\n",
       "    }\n",
       "\n",
       "    .dataframe tbody tr th {\n",
       "        vertical-align: top;\n",
       "    }\n",
       "\n",
       "    .dataframe thead th {\n",
       "        text-align: right;\n",
       "    }\n",
       "</style>\n",
       "<table border=\"1\" class=\"dataframe\">\n",
       "  <thead>\n",
       "    <tr style=\"text-align: right;\">\n",
       "      <th></th>\n",
       "      <th>Rural</th>\n",
       "      <th>Semiurban</th>\n",
       "      <th>Urban</th>\n",
       "    </tr>\n",
       "  </thead>\n",
       "  <tbody>\n",
       "    <tr>\n",
       "      <th>1</th>\n",
       "      <td>1</td>\n",
       "      <td>0</td>\n",
       "      <td>0</td>\n",
       "    </tr>\n",
       "    <tr>\n",
       "      <th>2</th>\n",
       "      <td>0</td>\n",
       "      <td>0</td>\n",
       "      <td>1</td>\n",
       "    </tr>\n",
       "    <tr>\n",
       "      <th>3</th>\n",
       "      <td>0</td>\n",
       "      <td>0</td>\n",
       "      <td>1</td>\n",
       "    </tr>\n",
       "    <tr>\n",
       "      <th>4</th>\n",
       "      <td>0</td>\n",
       "      <td>0</td>\n",
       "      <td>1</td>\n",
       "    </tr>\n",
       "    <tr>\n",
       "      <th>5</th>\n",
       "      <td>0</td>\n",
       "      <td>0</td>\n",
       "      <td>1</td>\n",
       "    </tr>\n",
       "    <tr>\n",
       "      <th>...</th>\n",
       "      <td>...</td>\n",
       "      <td>...</td>\n",
       "      <td>...</td>\n",
       "    </tr>\n",
       "    <tr>\n",
       "      <th>609</th>\n",
       "      <td>1</td>\n",
       "      <td>0</td>\n",
       "      <td>0</td>\n",
       "    </tr>\n",
       "    <tr>\n",
       "      <th>610</th>\n",
       "      <td>1</td>\n",
       "      <td>0</td>\n",
       "      <td>0</td>\n",
       "    </tr>\n",
       "    <tr>\n",
       "      <th>611</th>\n",
       "      <td>0</td>\n",
       "      <td>0</td>\n",
       "      <td>1</td>\n",
       "    </tr>\n",
       "    <tr>\n",
       "      <th>612</th>\n",
       "      <td>0</td>\n",
       "      <td>0</td>\n",
       "      <td>1</td>\n",
       "    </tr>\n",
       "    <tr>\n",
       "      <th>613</th>\n",
       "      <td>0</td>\n",
       "      <td>1</td>\n",
       "      <td>0</td>\n",
       "    </tr>\n",
       "  </tbody>\n",
       "</table>\n",
       "<p>480 rows × 3 columns</p>\n",
       "</div>"
      ],
      "text/plain": [
       "     Rural  Semiurban  Urban\n",
       "1        1          0      0\n",
       "2        0          0      1\n",
       "3        0          0      1\n",
       "4        0          0      1\n",
       "5        0          0      1\n",
       "..     ...        ...    ...\n",
       "609      1          0      0\n",
       "610      1          0      0\n",
       "611      0          0      1\n",
       "612      0          0      1\n",
       "613      0          1      0\n",
       "\n",
       "[480 rows x 3 columns]"
      ]
     },
     "execution_count": 63,
     "metadata": {},
     "output_type": "execute_result"
    }
   ],
   "source": [
    "area"
   ]
  },
  {
   "cell_type": "code",
   "execution_count": 64,
   "id": "considerable-solution",
   "metadata": {},
   "outputs": [
    {
     "data": {
      "text/html": [
       "<div>\n",
       "<style scoped>\n",
       "    .dataframe tbody tr th:only-of-type {\n",
       "        vertical-align: middle;\n",
       "    }\n",
       "\n",
       "    .dataframe tbody tr th {\n",
       "        vertical-align: top;\n",
       "    }\n",
       "\n",
       "    .dataframe thead th {\n",
       "        text-align: right;\n",
       "    }\n",
       "</style>\n",
       "<table border=\"1\" class=\"dataframe\">\n",
       "  <thead>\n",
       "    <tr style=\"text-align: right;\">\n",
       "      <th></th>\n",
       "      <th>Loan_ID</th>\n",
       "      <th>Gender</th>\n",
       "      <th>Married</th>\n",
       "      <th>Dependents</th>\n",
       "      <th>Education</th>\n",
       "      <th>Self_Employed</th>\n",
       "      <th>ApplicantIncome</th>\n",
       "      <th>CoapplicantIncome</th>\n",
       "      <th>LoanAmount</th>\n",
       "      <th>Loan_Amount_Term</th>\n",
       "      <th>Credit_History</th>\n",
       "      <th>Property_Area</th>\n",
       "      <th>Loan_Status</th>\n",
       "      <th>Rural</th>\n",
       "      <th>Semiurban</th>\n",
       "      <th>Urban</th>\n",
       "      <th>0</th>\n",
       "      <th>1</th>\n",
       "      <th>2</th>\n",
       "      <th>3+</th>\n",
       "    </tr>\n",
       "  </thead>\n",
       "  <tbody>\n",
       "    <tr>\n",
       "      <th>1</th>\n",
       "      <td>LP001003</td>\n",
       "      <td>1</td>\n",
       "      <td>1</td>\n",
       "      <td>1</td>\n",
       "      <td>1</td>\n",
       "      <td>1</td>\n",
       "      <td>4583</td>\n",
       "      <td>1508.0</td>\n",
       "      <td>128.0</td>\n",
       "      <td>360.0</td>\n",
       "      <td>1.0</td>\n",
       "      <td>Rural</td>\n",
       "      <td>0</td>\n",
       "      <td>1</td>\n",
       "      <td>0</td>\n",
       "      <td>0</td>\n",
       "      <td>0</td>\n",
       "      <td>1</td>\n",
       "      <td>0</td>\n",
       "      <td>0</td>\n",
       "    </tr>\n",
       "    <tr>\n",
       "      <th>2</th>\n",
       "      <td>LP001005</td>\n",
       "      <td>1</td>\n",
       "      <td>1</td>\n",
       "      <td>0</td>\n",
       "      <td>1</td>\n",
       "      <td>0</td>\n",
       "      <td>3000</td>\n",
       "      <td>0.0</td>\n",
       "      <td>66.0</td>\n",
       "      <td>360.0</td>\n",
       "      <td>1.0</td>\n",
       "      <td>Urban</td>\n",
       "      <td>1</td>\n",
       "      <td>0</td>\n",
       "      <td>0</td>\n",
       "      <td>1</td>\n",
       "      <td>1</td>\n",
       "      <td>0</td>\n",
       "      <td>0</td>\n",
       "      <td>0</td>\n",
       "    </tr>\n",
       "    <tr>\n",
       "      <th>3</th>\n",
       "      <td>LP001006</td>\n",
       "      <td>1</td>\n",
       "      <td>1</td>\n",
       "      <td>0</td>\n",
       "      <td>0</td>\n",
       "      <td>1</td>\n",
       "      <td>2583</td>\n",
       "      <td>2358.0</td>\n",
       "      <td>120.0</td>\n",
       "      <td>360.0</td>\n",
       "      <td>1.0</td>\n",
       "      <td>Urban</td>\n",
       "      <td>1</td>\n",
       "      <td>0</td>\n",
       "      <td>0</td>\n",
       "      <td>1</td>\n",
       "      <td>1</td>\n",
       "      <td>0</td>\n",
       "      <td>0</td>\n",
       "      <td>0</td>\n",
       "    </tr>\n",
       "    <tr>\n",
       "      <th>4</th>\n",
       "      <td>LP001008</td>\n",
       "      <td>1</td>\n",
       "      <td>0</td>\n",
       "      <td>0</td>\n",
       "      <td>1</td>\n",
       "      <td>1</td>\n",
       "      <td>6000</td>\n",
       "      <td>0.0</td>\n",
       "      <td>141.0</td>\n",
       "      <td>360.0</td>\n",
       "      <td>1.0</td>\n",
       "      <td>Urban</td>\n",
       "      <td>1</td>\n",
       "      <td>0</td>\n",
       "      <td>0</td>\n",
       "      <td>1</td>\n",
       "      <td>1</td>\n",
       "      <td>0</td>\n",
       "      <td>0</td>\n",
       "      <td>0</td>\n",
       "    </tr>\n",
       "    <tr>\n",
       "      <th>5</th>\n",
       "      <td>LP001011</td>\n",
       "      <td>1</td>\n",
       "      <td>1</td>\n",
       "      <td>2</td>\n",
       "      <td>1</td>\n",
       "      <td>0</td>\n",
       "      <td>5417</td>\n",
       "      <td>4196.0</td>\n",
       "      <td>267.0</td>\n",
       "      <td>360.0</td>\n",
       "      <td>1.0</td>\n",
       "      <td>Urban</td>\n",
       "      <td>1</td>\n",
       "      <td>0</td>\n",
       "      <td>0</td>\n",
       "      <td>1</td>\n",
       "      <td>0</td>\n",
       "      <td>0</td>\n",
       "      <td>1</td>\n",
       "      <td>0</td>\n",
       "    </tr>\n",
       "    <tr>\n",
       "      <th>...</th>\n",
       "      <td>...</td>\n",
       "      <td>...</td>\n",
       "      <td>...</td>\n",
       "      <td>...</td>\n",
       "      <td>...</td>\n",
       "      <td>...</td>\n",
       "      <td>...</td>\n",
       "      <td>...</td>\n",
       "      <td>...</td>\n",
       "      <td>...</td>\n",
       "      <td>...</td>\n",
       "      <td>...</td>\n",
       "      <td>...</td>\n",
       "      <td>...</td>\n",
       "      <td>...</td>\n",
       "      <td>...</td>\n",
       "      <td>...</td>\n",
       "      <td>...</td>\n",
       "      <td>...</td>\n",
       "      <td>...</td>\n",
       "    </tr>\n",
       "    <tr>\n",
       "      <th>609</th>\n",
       "      <td>LP002978</td>\n",
       "      <td>0</td>\n",
       "      <td>0</td>\n",
       "      <td>0</td>\n",
       "      <td>1</td>\n",
       "      <td>1</td>\n",
       "      <td>2900</td>\n",
       "      <td>0.0</td>\n",
       "      <td>71.0</td>\n",
       "      <td>360.0</td>\n",
       "      <td>1.0</td>\n",
       "      <td>Rural</td>\n",
       "      <td>1</td>\n",
       "      <td>1</td>\n",
       "      <td>0</td>\n",
       "      <td>0</td>\n",
       "      <td>1</td>\n",
       "      <td>0</td>\n",
       "      <td>0</td>\n",
       "      <td>0</td>\n",
       "    </tr>\n",
       "    <tr>\n",
       "      <th>610</th>\n",
       "      <td>LP002979</td>\n",
       "      <td>1</td>\n",
       "      <td>1</td>\n",
       "      <td>3+</td>\n",
       "      <td>1</td>\n",
       "      <td>1</td>\n",
       "      <td>4106</td>\n",
       "      <td>0.0</td>\n",
       "      <td>40.0</td>\n",
       "      <td>180.0</td>\n",
       "      <td>1.0</td>\n",
       "      <td>Rural</td>\n",
       "      <td>1</td>\n",
       "      <td>1</td>\n",
       "      <td>0</td>\n",
       "      <td>0</td>\n",
       "      <td>0</td>\n",
       "      <td>0</td>\n",
       "      <td>0</td>\n",
       "      <td>1</td>\n",
       "    </tr>\n",
       "    <tr>\n",
       "      <th>611</th>\n",
       "      <td>LP002983</td>\n",
       "      <td>1</td>\n",
       "      <td>1</td>\n",
       "      <td>1</td>\n",
       "      <td>1</td>\n",
       "      <td>1</td>\n",
       "      <td>8072</td>\n",
       "      <td>240.0</td>\n",
       "      <td>253.0</td>\n",
       "      <td>360.0</td>\n",
       "      <td>1.0</td>\n",
       "      <td>Urban</td>\n",
       "      <td>1</td>\n",
       "      <td>0</td>\n",
       "      <td>0</td>\n",
       "      <td>1</td>\n",
       "      <td>0</td>\n",
       "      <td>1</td>\n",
       "      <td>0</td>\n",
       "      <td>0</td>\n",
       "    </tr>\n",
       "    <tr>\n",
       "      <th>612</th>\n",
       "      <td>LP002984</td>\n",
       "      <td>1</td>\n",
       "      <td>1</td>\n",
       "      <td>2</td>\n",
       "      <td>1</td>\n",
       "      <td>1</td>\n",
       "      <td>7583</td>\n",
       "      <td>0.0</td>\n",
       "      <td>187.0</td>\n",
       "      <td>360.0</td>\n",
       "      <td>1.0</td>\n",
       "      <td>Urban</td>\n",
       "      <td>1</td>\n",
       "      <td>0</td>\n",
       "      <td>0</td>\n",
       "      <td>1</td>\n",
       "      <td>0</td>\n",
       "      <td>0</td>\n",
       "      <td>1</td>\n",
       "      <td>0</td>\n",
       "    </tr>\n",
       "    <tr>\n",
       "      <th>613</th>\n",
       "      <td>LP002990</td>\n",
       "      <td>0</td>\n",
       "      <td>0</td>\n",
       "      <td>0</td>\n",
       "      <td>1</td>\n",
       "      <td>0</td>\n",
       "      <td>4583</td>\n",
       "      <td>0.0</td>\n",
       "      <td>133.0</td>\n",
       "      <td>360.0</td>\n",
       "      <td>0.0</td>\n",
       "      <td>Semiurban</td>\n",
       "      <td>0</td>\n",
       "      <td>0</td>\n",
       "      <td>1</td>\n",
       "      <td>0</td>\n",
       "      <td>1</td>\n",
       "      <td>0</td>\n",
       "      <td>0</td>\n",
       "      <td>0</td>\n",
       "    </tr>\n",
       "  </tbody>\n",
       "</table>\n",
       "<p>480 rows × 20 columns</p>\n",
       "</div>"
      ],
      "text/plain": [
       "      Loan_ID  Gender  Married Dependents  Education  Self_Employed  \\\n",
       "1    LP001003       1        1          1          1              1   \n",
       "2    LP001005       1        1          0          1              0   \n",
       "3    LP001006       1        1          0          0              1   \n",
       "4    LP001008       1        0          0          1              1   \n",
       "5    LP001011       1        1          2          1              0   \n",
       "..        ...     ...      ...        ...        ...            ...   \n",
       "609  LP002978       0        0          0          1              1   \n",
       "610  LP002979       1        1         3+          1              1   \n",
       "611  LP002983       1        1          1          1              1   \n",
       "612  LP002984       1        1          2          1              1   \n",
       "613  LP002990       0        0          0          1              0   \n",
       "\n",
       "     ApplicantIncome  CoapplicantIncome  LoanAmount  Loan_Amount_Term  \\\n",
       "1               4583             1508.0       128.0             360.0   \n",
       "2               3000                0.0        66.0             360.0   \n",
       "3               2583             2358.0       120.0             360.0   \n",
       "4               6000                0.0       141.0             360.0   \n",
       "5               5417             4196.0       267.0             360.0   \n",
       "..               ...                ...         ...               ...   \n",
       "609             2900                0.0        71.0             360.0   \n",
       "610             4106                0.0        40.0             180.0   \n",
       "611             8072              240.0       253.0             360.0   \n",
       "612             7583                0.0       187.0             360.0   \n",
       "613             4583                0.0       133.0             360.0   \n",
       "\n",
       "     Credit_History Property_Area  Loan_Status  Rural  Semiurban  Urban  0  1  \\\n",
       "1               1.0         Rural            0      1          0      0  0  1   \n",
       "2               1.0         Urban            1      0          0      1  1  0   \n",
       "3               1.0         Urban            1      0          0      1  1  0   \n",
       "4               1.0         Urban            1      0          0      1  1  0   \n",
       "5               1.0         Urban            1      0          0      1  0  0   \n",
       "..              ...           ...          ...    ...        ...    ... .. ..   \n",
       "609             1.0         Rural            1      1          0      0  1  0   \n",
       "610             1.0         Rural            1      1          0      0  0  0   \n",
       "611             1.0         Urban            1      0          0      1  0  1   \n",
       "612             1.0         Urban            1      0          0      1  0  0   \n",
       "613             0.0     Semiurban            0      0          1      0  1  0   \n",
       "\n",
       "     2  3+  \n",
       "1    0   0  \n",
       "2    0   0  \n",
       "3    0   0  \n",
       "4    0   0  \n",
       "5    1   0  \n",
       "..  ..  ..  \n",
       "609  0   0  \n",
       "610  0   1  \n",
       "611  0   0  \n",
       "612  1   0  \n",
       "613  0   0  \n",
       "\n",
       "[480 rows x 20 columns]"
      ]
     },
     "execution_count": 64,
     "metadata": {},
     "output_type": "execute_result"
    }
   ],
   "source": [
    "area_dep_merged = pd.concat([df,area,dependents],axis='columns')\n",
    "area_dep_merged "
   ]
  },
  {
   "cell_type": "code",
   "execution_count": 65,
   "id": "rolled-least",
   "metadata": {},
   "outputs": [
    {
     "data": {
      "text/html": [
       "<div>\n",
       "<style scoped>\n",
       "    .dataframe tbody tr th:only-of-type {\n",
       "        vertical-align: middle;\n",
       "    }\n",
       "\n",
       "    .dataframe tbody tr th {\n",
       "        vertical-align: top;\n",
       "    }\n",
       "\n",
       "    .dataframe thead th {\n",
       "        text-align: right;\n",
       "    }\n",
       "</style>\n",
       "<table border=\"1\" class=\"dataframe\">\n",
       "  <thead>\n",
       "    <tr style=\"text-align: right;\">\n",
       "      <th></th>\n",
       "      <th>Loan_ID</th>\n",
       "      <th>Gender</th>\n",
       "      <th>Married</th>\n",
       "      <th>Education</th>\n",
       "      <th>Self_Employed</th>\n",
       "      <th>ApplicantIncome</th>\n",
       "      <th>CoapplicantIncome</th>\n",
       "      <th>LoanAmount</th>\n",
       "      <th>Loan_Amount_Term</th>\n",
       "      <th>Credit_History</th>\n",
       "      <th>Loan_Status</th>\n",
       "      <th>Rural</th>\n",
       "      <th>Urban</th>\n",
       "      <th>1</th>\n",
       "      <th>2</th>\n",
       "      <th>3+</th>\n",
       "    </tr>\n",
       "  </thead>\n",
       "  <tbody>\n",
       "    <tr>\n",
       "      <th>1</th>\n",
       "      <td>LP001003</td>\n",
       "      <td>1</td>\n",
       "      <td>1</td>\n",
       "      <td>1</td>\n",
       "      <td>1</td>\n",
       "      <td>4583</td>\n",
       "      <td>1508.0</td>\n",
       "      <td>128.0</td>\n",
       "      <td>360.0</td>\n",
       "      <td>1.0</td>\n",
       "      <td>0</td>\n",
       "      <td>1</td>\n",
       "      <td>0</td>\n",
       "      <td>1</td>\n",
       "      <td>0</td>\n",
       "      <td>0</td>\n",
       "    </tr>\n",
       "    <tr>\n",
       "      <th>2</th>\n",
       "      <td>LP001005</td>\n",
       "      <td>1</td>\n",
       "      <td>1</td>\n",
       "      <td>1</td>\n",
       "      <td>0</td>\n",
       "      <td>3000</td>\n",
       "      <td>0.0</td>\n",
       "      <td>66.0</td>\n",
       "      <td>360.0</td>\n",
       "      <td>1.0</td>\n",
       "      <td>1</td>\n",
       "      <td>0</td>\n",
       "      <td>1</td>\n",
       "      <td>0</td>\n",
       "      <td>0</td>\n",
       "      <td>0</td>\n",
       "    </tr>\n",
       "    <tr>\n",
       "      <th>3</th>\n",
       "      <td>LP001006</td>\n",
       "      <td>1</td>\n",
       "      <td>1</td>\n",
       "      <td>0</td>\n",
       "      <td>1</td>\n",
       "      <td>2583</td>\n",
       "      <td>2358.0</td>\n",
       "      <td>120.0</td>\n",
       "      <td>360.0</td>\n",
       "      <td>1.0</td>\n",
       "      <td>1</td>\n",
       "      <td>0</td>\n",
       "      <td>1</td>\n",
       "      <td>0</td>\n",
       "      <td>0</td>\n",
       "      <td>0</td>\n",
       "    </tr>\n",
       "    <tr>\n",
       "      <th>4</th>\n",
       "      <td>LP001008</td>\n",
       "      <td>1</td>\n",
       "      <td>0</td>\n",
       "      <td>1</td>\n",
       "      <td>1</td>\n",
       "      <td>6000</td>\n",
       "      <td>0.0</td>\n",
       "      <td>141.0</td>\n",
       "      <td>360.0</td>\n",
       "      <td>1.0</td>\n",
       "      <td>1</td>\n",
       "      <td>0</td>\n",
       "      <td>1</td>\n",
       "      <td>0</td>\n",
       "      <td>0</td>\n",
       "      <td>0</td>\n",
       "    </tr>\n",
       "    <tr>\n",
       "      <th>5</th>\n",
       "      <td>LP001011</td>\n",
       "      <td>1</td>\n",
       "      <td>1</td>\n",
       "      <td>1</td>\n",
       "      <td>0</td>\n",
       "      <td>5417</td>\n",
       "      <td>4196.0</td>\n",
       "      <td>267.0</td>\n",
       "      <td>360.0</td>\n",
       "      <td>1.0</td>\n",
       "      <td>1</td>\n",
       "      <td>0</td>\n",
       "      <td>1</td>\n",
       "      <td>0</td>\n",
       "      <td>1</td>\n",
       "      <td>0</td>\n",
       "    </tr>\n",
       "    <tr>\n",
       "      <th>...</th>\n",
       "      <td>...</td>\n",
       "      <td>...</td>\n",
       "      <td>...</td>\n",
       "      <td>...</td>\n",
       "      <td>...</td>\n",
       "      <td>...</td>\n",
       "      <td>...</td>\n",
       "      <td>...</td>\n",
       "      <td>...</td>\n",
       "      <td>...</td>\n",
       "      <td>...</td>\n",
       "      <td>...</td>\n",
       "      <td>...</td>\n",
       "      <td>...</td>\n",
       "      <td>...</td>\n",
       "      <td>...</td>\n",
       "    </tr>\n",
       "    <tr>\n",
       "      <th>609</th>\n",
       "      <td>LP002978</td>\n",
       "      <td>0</td>\n",
       "      <td>0</td>\n",
       "      <td>1</td>\n",
       "      <td>1</td>\n",
       "      <td>2900</td>\n",
       "      <td>0.0</td>\n",
       "      <td>71.0</td>\n",
       "      <td>360.0</td>\n",
       "      <td>1.0</td>\n",
       "      <td>1</td>\n",
       "      <td>1</td>\n",
       "      <td>0</td>\n",
       "      <td>0</td>\n",
       "      <td>0</td>\n",
       "      <td>0</td>\n",
       "    </tr>\n",
       "    <tr>\n",
       "      <th>610</th>\n",
       "      <td>LP002979</td>\n",
       "      <td>1</td>\n",
       "      <td>1</td>\n",
       "      <td>1</td>\n",
       "      <td>1</td>\n",
       "      <td>4106</td>\n",
       "      <td>0.0</td>\n",
       "      <td>40.0</td>\n",
       "      <td>180.0</td>\n",
       "      <td>1.0</td>\n",
       "      <td>1</td>\n",
       "      <td>1</td>\n",
       "      <td>0</td>\n",
       "      <td>0</td>\n",
       "      <td>0</td>\n",
       "      <td>1</td>\n",
       "    </tr>\n",
       "    <tr>\n",
       "      <th>611</th>\n",
       "      <td>LP002983</td>\n",
       "      <td>1</td>\n",
       "      <td>1</td>\n",
       "      <td>1</td>\n",
       "      <td>1</td>\n",
       "      <td>8072</td>\n",
       "      <td>240.0</td>\n",
       "      <td>253.0</td>\n",
       "      <td>360.0</td>\n",
       "      <td>1.0</td>\n",
       "      <td>1</td>\n",
       "      <td>0</td>\n",
       "      <td>1</td>\n",
       "      <td>1</td>\n",
       "      <td>0</td>\n",
       "      <td>0</td>\n",
       "    </tr>\n",
       "    <tr>\n",
       "      <th>612</th>\n",
       "      <td>LP002984</td>\n",
       "      <td>1</td>\n",
       "      <td>1</td>\n",
       "      <td>1</td>\n",
       "      <td>1</td>\n",
       "      <td>7583</td>\n",
       "      <td>0.0</td>\n",
       "      <td>187.0</td>\n",
       "      <td>360.0</td>\n",
       "      <td>1.0</td>\n",
       "      <td>1</td>\n",
       "      <td>0</td>\n",
       "      <td>1</td>\n",
       "      <td>0</td>\n",
       "      <td>1</td>\n",
       "      <td>0</td>\n",
       "    </tr>\n",
       "    <tr>\n",
       "      <th>613</th>\n",
       "      <td>LP002990</td>\n",
       "      <td>0</td>\n",
       "      <td>0</td>\n",
       "      <td>1</td>\n",
       "      <td>0</td>\n",
       "      <td>4583</td>\n",
       "      <td>0.0</td>\n",
       "      <td>133.0</td>\n",
       "      <td>360.0</td>\n",
       "      <td>0.0</td>\n",
       "      <td>0</td>\n",
       "      <td>0</td>\n",
       "      <td>0</td>\n",
       "      <td>0</td>\n",
       "      <td>0</td>\n",
       "      <td>0</td>\n",
       "    </tr>\n",
       "  </tbody>\n",
       "</table>\n",
       "<p>480 rows × 16 columns</p>\n",
       "</div>"
      ],
      "text/plain": [
       "      Loan_ID  Gender  Married  Education  Self_Employed  ApplicantIncome  \\\n",
       "1    LP001003       1        1          1              1             4583   \n",
       "2    LP001005       1        1          1              0             3000   \n",
       "3    LP001006       1        1          0              1             2583   \n",
       "4    LP001008       1        0          1              1             6000   \n",
       "5    LP001011       1        1          1              0             5417   \n",
       "..        ...     ...      ...        ...            ...              ...   \n",
       "609  LP002978       0        0          1              1             2900   \n",
       "610  LP002979       1        1          1              1             4106   \n",
       "611  LP002983       1        1          1              1             8072   \n",
       "612  LP002984       1        1          1              1             7583   \n",
       "613  LP002990       0        0          1              0             4583   \n",
       "\n",
       "     CoapplicantIncome  LoanAmount  Loan_Amount_Term  Credit_History  \\\n",
       "1               1508.0       128.0             360.0             1.0   \n",
       "2                  0.0        66.0             360.0             1.0   \n",
       "3               2358.0       120.0             360.0             1.0   \n",
       "4                  0.0       141.0             360.0             1.0   \n",
       "5               4196.0       267.0             360.0             1.0   \n",
       "..                 ...         ...               ...             ...   \n",
       "609                0.0        71.0             360.0             1.0   \n",
       "610                0.0        40.0             180.0             1.0   \n",
       "611              240.0       253.0             360.0             1.0   \n",
       "612                0.0       187.0             360.0             1.0   \n",
       "613                0.0       133.0             360.0             0.0   \n",
       "\n",
       "     Loan_Status  Rural  Urban  1  2  3+  \n",
       "1              0      1      0  1  0   0  \n",
       "2              1      0      1  0  0   0  \n",
       "3              1      0      1  0  0   0  \n",
       "4              1      0      1  0  0   0  \n",
       "5              1      0      1  0  1   0  \n",
       "..           ...    ...    ... .. ..  ..  \n",
       "609            1      1      0  0  0   0  \n",
       "610            1      1      0  0  0   1  \n",
       "611            1      0      1  1  0   0  \n",
       "612            1      0      1  0  1   0  \n",
       "613            0      0      0  0  0   0  \n",
       "\n",
       "[480 rows x 16 columns]"
      ]
     },
     "execution_count": 65,
     "metadata": {},
     "output_type": "execute_result"
    }
   ],
   "source": [
    "df =area_dep_merged.drop(['Property_Area','Semiurban','Dependents','0'], axis='columns')\n",
    "df"
   ]
  },
  {
   "cell_type": "code",
   "execution_count": 66,
   "id": "moving-subdivision",
   "metadata": {},
   "outputs": [
    {
     "data": {
      "text/plain": [
       "['Gender',\n",
       " 'Married',\n",
       " 'Education',\n",
       " 'Self_Employed',\n",
       " 'ApplicantIncome',\n",
       " 'CoapplicantIncome',\n",
       " 'LoanAmount',\n",
       " 'Loan_Amount_Term',\n",
       " 'Credit_History',\n",
       " 'Loan_Status',\n",
       " 'Rural',\n",
       " 'Urban',\n",
       " '1',\n",
       " '2',\n",
       " '3+']"
      ]
     },
     "execution_count": 66,
     "metadata": {},
     "output_type": "execute_result"
    }
   ],
   "source": [
    "numerical_features_2 = [feature for feature in df.columns if df[feature].dtypes != 'O']\n",
    "numerical_features_2 "
   ]
  },
  {
   "cell_type": "markdown",
   "id": "trained-portugal",
   "metadata": {},
   "source": [
    "### relationship bw features"
   ]
  },
  {
   "cell_type": "code",
   "execution_count": 67,
   "id": "adaptive-economy",
   "metadata": {},
   "outputs": [],
   "source": [
    "c_matrix=df.corr()"
   ]
  },
  {
   "cell_type": "code",
   "execution_count": 68,
   "id": "international-sport",
   "metadata": {},
   "outputs": [
    {
     "data": {
      "text/plain": [
       "Loan_Status          1.000000\n",
       "Credit_History       0.529390\n",
       "Married              0.112321\n",
       "2                    0.073368\n",
       "Education            0.068437\n",
       "Gender               0.064504\n",
       "Self_Employed        0.034715\n",
       "3+                  -0.005784\n",
       "Loan_Amount_Term    -0.007798\n",
       "1                   -0.040350\n",
       "ApplicantIncome     -0.043152\n",
       "CoapplicantIncome   -0.049020\n",
       "Urban               -0.055964\n",
       "LoanAmount          -0.071753\n",
       "Rural               -0.110817\n",
       "Name: Loan_Status, dtype: float64"
      ]
     },
     "execution_count": 68,
     "metadata": {},
     "output_type": "execute_result"
    }
   ],
   "source": [
    "c_matrix['Loan_Status'].sort_values(ascending=False)"
   ]
  },
  {
   "cell_type": "code",
   "execution_count": 69,
   "id": "dominican-change",
   "metadata": {},
   "outputs": [],
   "source": [
    "strong_relation_features=[]\n",
    "for feature in c_matrix['Loan_Status'].sort_values(ascending=False).keys():\n",
    "    if c_matrix['Loan_Status'][feature]>=0.04 or c_matrix['Loan_Status'][feature]<=-0.04:\n",
    "        strong_relation_features.append(feature) "
   ]
  },
  {
   "cell_type": "code",
   "execution_count": 70,
   "id": "precious-smart",
   "metadata": {},
   "outputs": [],
   "source": [
    "strong_relation_features.remove('Loan_Status')"
   ]
  },
  {
   "cell_type": "code",
   "execution_count": 71,
   "id": "loaded-trading",
   "metadata": {},
   "outputs": [
    {
     "data": {
      "text/plain": [
       "['Credit_History',\n",
       " 'Married',\n",
       " '2',\n",
       " 'Education',\n",
       " 'Gender',\n",
       " '1',\n",
       " 'ApplicantIncome',\n",
       " 'CoapplicantIncome',\n",
       " 'Urban',\n",
       " 'LoanAmount',\n",
       " 'Rural']"
      ]
     },
     "execution_count": 71,
     "metadata": {},
     "output_type": "execute_result"
    }
   ],
   "source": [
    "strong_relation_features"
   ]
  },
  {
   "cell_type": "code",
   "execution_count": 72,
   "id": "wooden-participation",
   "metadata": {},
   "outputs": [],
   "source": [
    "df_strong=df[strong_relation_features]"
   ]
  },
  {
   "cell_type": "code",
   "execution_count": 73,
   "id": "electronic-piece",
   "metadata": {},
   "outputs": [],
   "source": [
    "import matplotlib.pyplot as plt\n",
    "import seaborn as sns"
   ]
  },
  {
   "cell_type": "code",
   "execution_count": 74,
   "id": "fifteen-energy",
   "metadata": {},
   "outputs": [
    {
     "data": {
      "image/png": "[encoded data removed]",
      "text/plain": [
       "<Figure size 360x360 with 1 Axes>"
      ]
     },
     "metadata": {
      "needs_background": "light"
     },
     "output_type": "display_data"
    },
    {
     "data": {
      "image/png": "[encoded data removed]",
      "text/plain": [
       "<Figure size 360x360 with 1 Axes>"
      ]
     },
     "metadata": {
      "needs_background": "light"
     },
     "output_type": "display_data"
    },
    {
     "data": {
      "image/png": "[encoded data removed]",
      "text/plain": [
       "<Figure size 360x360 with 1 Axes>"
      ]
     },
     "metadata": {
      "needs_background": "light"
     },
     "output_type": "display_data"
    },
    {
     "data": {
      "image/png": "[encoded data removed]",
      "text/plain": [
       "<Figure size 360x360 with 1 Axes>"
      ]
     },
     "metadata": {
      "needs_background": "light"
     },
     "output_type": "display_data"
    },
    {
     "data": {
      "image/png": "[encoded data removed]",
      "text/plain": [
       "<Figure size 360x360 with 1 Axes>"
      ]
     },
     "metadata": {
      "needs_background": "light"
     },
     "output_type": "display_data"
    },
    {
     "data": {
      "image/png": "[encoded data removed]",
      "text/plain": [
       "<Figure size 360x360 with 1 Axes>"
      ]
     },
     "metadata": {
      "needs_background": "light"
     },
     "output_type": "display_data"
    },
    {
     "data": {
      "image/png": "[encoded data removed]",
      "text/plain": [
       "<Figure size 360x360 with 1 Axes>"
      ]
     },
     "metadata": {
      "needs_background": "light"
     },
     "output_type": "display_data"
    },
    {
     "data": {
      "image/png": "[encoded data removed]",
      "text/plain": [
       "<Figure size 360x360 with 1 Axes>"
      ]
     },
     "metadata": {
      "needs_background": "light"
     },
     "output_type": "display_data"
    },
    {
     "data": {
      "image/png": "[encoded data removed]",
      "text/plain": [
       "<Figure size 360x360 with 1 Axes>"
      ]
     },
     "metadata": {
      "needs_background": "light"
     },
     "output_type": "display_data"
    },
    {
     "data": {
      "image/png": "[encoded data removed]",
      "text/plain": [
       "<Figure size 360x360 with 1 Axes>"
      ]
     },
     "metadata": {
      "needs_background": "light"
     },
     "output_type": "display_data"
    },
    {
     "data": {
      "image/png": "[encoded data removed]",
      "text/plain": [
       "<Figure size 360x360 with 1 Axes>"
      ]
     },
     "metadata": {
      "needs_background": "light"
     },
     "output_type": "display_data"
    }
   ],
   "source": [
    "for feature in strong_relation_features:\n",
    "    sns.relplot(x=feature,y=\"Loan_Status\",data=df,kind='line')"
   ]
  },
  {
   "cell_type": "code",
   "execution_count": 75,
   "id": "fewer-silly",
   "metadata": {},
   "outputs": [],
   "source": [
    "# import seaborn as sns\n",
    "# sns.pairplot(df_strong)"
   ]
  },
  {
   "cell_type": "code",
   "execution_count": 76,
   "id": "aboriginal-hamilton",
   "metadata": {},
   "outputs": [],
   "source": [
    "#sns.relplot(x=\"Credit_History\",y=\"Loan_Status\",data=df,kind='line')"
   ]
  },
  {
   "cell_type": "code",
   "execution_count": 77,
   "id": "identical-individual",
   "metadata": {},
   "outputs": [],
   "source": [
    "#sns.relplot(x=\"Dependents\",y=\"Loan_Status\",data=df,kind='line')"
   ]
  },
  {
   "cell_type": "code",
   "execution_count": 78,
   "id": "involved-flavor",
   "metadata": {},
   "outputs": [],
   "source": [
    "#sns.relplot(x=\"Property_Area\",y=\"Loan_Status\",data=df,kind='line')"
   ]
  },
  {
   "cell_type": "code",
   "execution_count": 79,
   "id": "geographic-liechtenstein",
   "metadata": {},
   "outputs": [],
   "source": [
    "#sns.relplot(x=\"Education\",y=\"Loan_Status\",data=df,kind='line')"
   ]
  },
  {
   "cell_type": "code",
   "execution_count": 80,
   "id": "hybrid-research",
   "metadata": {},
   "outputs": [],
   "source": [
    "#sns.relplot(x=\"Self_Employed\",y=\"Loan_Status\",data=df,kind='line')"
   ]
  },
  {
   "cell_type": "code",
   "execution_count": 81,
   "id": "cooperative-income",
   "metadata": {},
   "outputs": [],
   "source": [
    "#sns.relplot(x=\"ApplicantIncome\",y=\"Loan_Status\",data=df)"
   ]
  },
  {
   "cell_type": "code",
   "execution_count": 82,
   "id": "careful-replica",
   "metadata": {},
   "outputs": [],
   "source": [
    "#sns.relplot(x=\"ApplicantIncome\",y=\"Loan_Status\",data=df,kind='line')"
   ]
  },
  {
   "cell_type": "code",
   "execution_count": 83,
   "id": "approximate-vietnamese",
   "metadata": {},
   "outputs": [],
   "source": [
    "#sns.relplot(x=\"CoapplicantIncome\",y=\"Loan_Status\",data=df)"
   ]
  },
  {
   "cell_type": "code",
   "execution_count": 84,
   "id": "numeric-wheat",
   "metadata": {},
   "outputs": [],
   "source": [
    "#sns.relplot(x=\"CoapplicantIncome\",y=\"Loan_Status\",data=df,kind='line')"
   ]
  },
  {
   "cell_type": "code",
   "execution_count": 85,
   "id": "special-memorabilia",
   "metadata": {},
   "outputs": [],
   "source": [
    "#sns.relplot(x=\"LoanAmount\",y=\"Loan_Status\",data=df)"
   ]
  },
  {
   "cell_type": "code",
   "execution_count": 86,
   "id": "liable-outreach",
   "metadata": {},
   "outputs": [],
   "source": [
    "#sns.relplot(x=\"LoanAmount\",y=\"Loan_Status\",data=df,kind='line')"
   ]
  },
  {
   "cell_type": "code",
   "execution_count": 87,
   "id": "complicated-master",
   "metadata": {},
   "outputs": [],
   "source": [
    "#sns.relplot(x=\"Loan_Amount_Term\",y=\"Loan_Status\",data=df)"
   ]
  },
  {
   "cell_type": "code",
   "execution_count": 88,
   "id": "widespread-tiffany",
   "metadata": {},
   "outputs": [],
   "source": [
    "#sns.relplot(x=\"Loan_Amount_Term\",y=\"Loan_Status\",data=df,kind='line')"
   ]
  },
  {
   "cell_type": "code",
   "execution_count": 89,
   "id": "painful-cardiff",
   "metadata": {},
   "outputs": [],
   "source": [
    "#sns.relplot(x=\"Property_Area\",y=\"Loan_Status\",data=df,kind='line')"
   ]
  },
  {
   "cell_type": "markdown",
   "id": "assisted-concord",
   "metadata": {},
   "source": [
    "### dropped un relevant columns"
   ]
  },
  {
   "cell_type": "code",
   "execution_count": 90,
   "id": "intellectual-plane",
   "metadata": {},
   "outputs": [
    {
     "data": {
      "text/plain": [
       "Index(['Loan_ID', 'Gender', 'Married', 'Education', 'Self_Employed',\n",
       "       'ApplicantIncome', 'CoapplicantIncome', 'LoanAmount',\n",
       "       'Loan_Amount_Term', 'Credit_History', 'Loan_Status', 'Rural', 'Urban',\n",
       "       '1', '2', '3+'],\n",
       "      dtype='object')"
      ]
     },
     "execution_count": 90,
     "metadata": {},
     "output_type": "execute_result"
    }
   ],
   "source": [
    "df.columns"
   ]
  },
  {
   "cell_type": "code",
   "execution_count": 91,
   "id": "dependent-james",
   "metadata": {},
   "outputs": [],
   "source": [
    "# X=df.drop(['Loan_ID','Loan_Status','3+'],axis='columns')\n",
    "# y=df['Loan_Status']"
   ]
  },
  {
   "cell_type": "code",
   "execution_count": 92,
   "id": "caroline-river",
   "metadata": {},
   "outputs": [],
   "source": [
    "X=df[strong_relation_features]\n",
    "y=df['Loan_Status']"
   ]
  },
  {
   "cell_type": "code",
   "execution_count": 93,
   "id": "convinced-carolina",
   "metadata": {},
   "outputs": [
    {
     "data": {
      "text/plain": [
       "Index(['Credit_History', 'Married', '2', 'Education', 'Gender', '1',\n",
       "       'ApplicantIncome', 'CoapplicantIncome', 'Urban', 'LoanAmount', 'Rural'],\n",
       "      dtype='object')"
      ]
     },
     "execution_count": 93,
     "metadata": {},
     "output_type": "execute_result"
    }
   ],
   "source": [
    "X.columns"
   ]
  },
  {
   "cell_type": "code",
   "execution_count": 94,
   "id": "parallel-supplier",
   "metadata": {},
   "outputs": [],
   "source": [
    "X=X.rename(columns={\"2\": \"two_dependant\", \"1\": \"one_dependant\"})"
   ]
  },
  {
   "cell_type": "code",
   "execution_count": 95,
   "id": "disciplinary-second",
   "metadata": {},
   "outputs": [
    {
     "data": {
      "text/plain": [
       "Index(['Credit_History', 'Married', 'two_dependant', 'Education', 'Gender',\n",
       "       'one_dependant', 'ApplicantIncome', 'CoapplicantIncome', 'Urban',\n",
       "       'LoanAmount', 'Rural'],\n",
       "      dtype='object')"
      ]
     },
     "execution_count": 95,
     "metadata": {},
     "output_type": "execute_result"
    }
   ],
   "source": [
    "X.columns"
   ]
  },
  {
   "cell_type": "markdown",
   "id": "swiss-municipality",
   "metadata": {},
   "source": [
    "### cross validation method to check accuracy of all models"
   ]
  },
  {
   "cell_type": "code",
   "execution_count": 96,
   "id": "recognized-count",
   "metadata": {},
   "outputs": [
    {
     "data": {
      "text/html": [
       "<div>\n",
       "<style scoped>\n",
       "    .dataframe tbody tr th:only-of-type {\n",
       "        vertical-align: middle;\n",
       "    }\n",
       "\n",
       "    .dataframe tbody tr th {\n",
       "        vertical-align: top;\n",
       "    }\n",
       "\n",
       "    .dataframe thead th {\n",
       "        text-align: right;\n",
       "    }\n",
       "</style>\n",
       "<table border=\"1\" class=\"dataframe\">\n",
       "  <thead>\n",
       "    <tr style=\"text-align: right;\">\n",
       "      <th></th>\n",
       "      <th>DecisionTreeClassifier()</th>\n",
       "      <th>LogisticRegression(max_iter=1000)</th>\n",
       "      <th>RandomForestClassifier()</th>\n",
       "      <th>SVC()</th>\n",
       "    </tr>\n",
       "  </thead>\n",
       "  <tbody>\n",
       "    <tr>\n",
       "      <th>0</th>\n",
       "      <td>0.727083</td>\n",
       "      <td>0.80625</td>\n",
       "      <td>0.7875</td>\n",
       "      <td>0.689583</td>\n",
       "    </tr>\n",
       "  </tbody>\n",
       "</table>\n",
       "</div>"
      ],
      "text/plain": [
       "   DecisionTreeClassifier()  LogisticRegression(max_iter=1000)  \\\n",
       "0                  0.727083                            0.80625   \n",
       "\n",
       "   RandomForestClassifier()     SVC()  \n",
       "0                    0.7875  0.689583  "
      ]
     },
     "execution_count": 96,
     "metadata": {},
     "output_type": "execute_result"
    }
   ],
   "source": [
    "from sklearn.model_selection import cross_val_score\n",
    "from sklearn.tree import DecisionTreeClassifier\n",
    "from sklearn.linear_model import LogisticRegression\n",
    "from sklearn.ensemble import RandomForestClassifier\n",
    "from sklearn.svm import SVC\n",
    "model_scoring={}\n",
    "def all_model_scores(model,X,y):\n",
    "    scores=cross_val_score(model,X,y,cv=10)\n",
    "    mean_score=scores.mean()\n",
    "    model_scoring.update({model:mean_score})\n",
    "    return model_scoring\n",
    "\n",
    "Model_list=[DecisionTreeClassifier(),LogisticRegression(solver='lbfgs', max_iter=1000),RandomForestClassifier(),SVC()]\n",
    "for model in Model_list:\n",
    "    score_dict=all_model_scores(model,X,y)\n",
    "df_Models_scores=pd.DataFrame(score_dict,index=[0])\n",
    "df_Models_scores"
   ]
  },
  {
   "cell_type": "markdown",
   "id": "experienced-appointment",
   "metadata": {},
   "source": [
    "### split data into train and test part to make prediction"
   ]
  },
  {
   "cell_type": "code",
   "execution_count": 97,
   "id": "understood-currency",
   "metadata": {},
   "outputs": [],
   "source": [
    "\n",
    "from sklearn.model_selection import train_test_split\n",
    "X_train, X_test, y_train, y_test = train_test_split(X, y, test_size=0.2,random_state=42)"
   ]
  },
  {
   "cell_type": "markdown",
   "id": "established-sleeve",
   "metadata": {},
   "source": [
    "### creating model"
   ]
  },
  {
   "cell_type": "code",
   "execution_count": 98,
   "id": "placed-blast",
   "metadata": {},
   "outputs": [],
   "source": [
    "# As Random Forest and logistic regression perform at high accuracy so i choose one of them\n",
    "\n",
    "from sklearn.linear_model import LogisticRegression\n",
    "model = LogisticRegression()\n",
    "\n",
    "# from sklearn.ensemble import RandomForestClassifier\n",
    "# model = RandomForestClassifier(n_estimators=20)\n"
   ]
  },
  {
   "cell_type": "markdown",
   "id": "turkish-comparison",
   "metadata": {},
   "source": [
    "### fitting data"
   ]
  },
  {
   "cell_type": "code",
   "execution_count": 99,
   "id": "prompt-passage",
   "metadata": {},
   "outputs": [
    {
     "data": {
      "text/plain": [
       "LogisticRegression()"
      ]
     },
     "execution_count": 99,
     "metadata": {},
     "output_type": "execute_result"
    }
   ],
   "source": [
    "model.fit(X_train,y_train)"
   ]
  },
  {
   "cell_type": "markdown",
   "id": "alleged-commercial",
   "metadata": {},
   "source": [
    "### saving model"
   ]
  },
  {
   "cell_type": "code",
   "execution_count": 100,
   "id": "found-belly",
   "metadata": {},
   "outputs": [],
   "source": [
    "import pickle\n",
    "pickle.dump(model, open('model_Loan_eligibility_predictions.pkl','wb'))"
   ]
  },
  {
   "cell_type": "markdown",
   "id": "oriental-liabilities",
   "metadata": {},
   "source": [
    "### percentage of accuracy"
   ]
  },
  {
   "cell_type": "code",
   "execution_count": 101,
   "id": "external-cassette",
   "metadata": {},
   "outputs": [
    {
     "data": {
      "text/plain": [
       "0.8333333333333334"
      ]
     },
     "execution_count": 101,
     "metadata": {},
     "output_type": "execute_result"
    }
   ],
   "source": [
    "model.score(X_test,y_test)"
   ]
  },
  {
   "cell_type": "code",
   "execution_count": 102,
   "id": "proved-collaboration",
   "metadata": {},
   "outputs": [
    {
     "data": {
      "text/plain": [
       "array([1, 1, 1, 0, 1])"
      ]
     },
     "execution_count": 102,
     "metadata": {},
     "output_type": "execute_result"
    }
   ],
   "source": [
    "model.predict(X_test[:5])"
   ]
  },
  {
   "cell_type": "code",
   "execution_count": 103,
   "id": "entertaining-intro",
   "metadata": {},
   "outputs": [
    {
     "data": {
      "text/html": [
       "<div>\n",
       "<style scoped>\n",
       "    .dataframe tbody tr th:only-of-type {\n",
       "        vertical-align: middle;\n",
       "    }\n",
       "\n",
       "    .dataframe tbody tr th {\n",
       "        vertical-align: top;\n",
       "    }\n",
       "\n",
       "    .dataframe thead th {\n",
       "        text-align: right;\n",
       "    }\n",
       "</style>\n",
       "<table border=\"1\" class=\"dataframe\">\n",
       "  <thead>\n",
       "    <tr style=\"text-align: right;\">\n",
       "      <th></th>\n",
       "      <th>Credit_History</th>\n",
       "      <th>Married</th>\n",
       "      <th>two_dependant</th>\n",
       "      <th>Education</th>\n",
       "      <th>Gender</th>\n",
       "      <th>one_dependant</th>\n",
       "      <th>ApplicantIncome</th>\n",
       "      <th>CoapplicantIncome</th>\n",
       "      <th>Urban</th>\n",
       "      <th>LoanAmount</th>\n",
       "      <th>Rural</th>\n",
       "    </tr>\n",
       "  </thead>\n",
       "  <tbody>\n",
       "    <tr>\n",
       "      <th>92</th>\n",
       "      <td>1.0</td>\n",
       "      <td>1</td>\n",
       "      <td>1</td>\n",
       "      <td>0</td>\n",
       "      <td>1</td>\n",
       "      <td>0</td>\n",
       "      <td>3273</td>\n",
       "      <td>1820.0</td>\n",
       "      <td>1</td>\n",
       "      <td>81.0</td>\n",
       "      <td>0</td>\n",
       "    </tr>\n",
       "    <tr>\n",
       "      <th>529</th>\n",
       "      <td>1.0</td>\n",
       "      <td>0</td>\n",
       "      <td>0</td>\n",
       "      <td>0</td>\n",
       "      <td>1</td>\n",
       "      <td>0</td>\n",
       "      <td>6783</td>\n",
       "      <td>0.0</td>\n",
       "      <td>0</td>\n",
       "      <td>130.0</td>\n",
       "      <td>0</td>\n",
       "    </tr>\n",
       "    <tr>\n",
       "      <th>505</th>\n",
       "      <td>1.0</td>\n",
       "      <td>1</td>\n",
       "      <td>1</td>\n",
       "      <td>1</td>\n",
       "      <td>1</td>\n",
       "      <td>0</td>\n",
       "      <td>3510</td>\n",
       "      <td>4416.0</td>\n",
       "      <td>0</td>\n",
       "      <td>243.0</td>\n",
       "      <td>1</td>\n",
       "    </tr>\n",
       "    <tr>\n",
       "      <th>358</th>\n",
       "      <td>0.0</td>\n",
       "      <td>1</td>\n",
       "      <td>0</td>\n",
       "      <td>0</td>\n",
       "      <td>1</td>\n",
       "      <td>0</td>\n",
       "      <td>3000</td>\n",
       "      <td>1666.0</td>\n",
       "      <td>1</td>\n",
       "      <td>100.0</td>\n",
       "      <td>0</td>\n",
       "    </tr>\n",
       "    <tr>\n",
       "      <th>512</th>\n",
       "      <td>1.0</td>\n",
       "      <td>1</td>\n",
       "      <td>1</td>\n",
       "      <td>1</td>\n",
       "      <td>1</td>\n",
       "      <td>0</td>\n",
       "      <td>3283</td>\n",
       "      <td>2035.0</td>\n",
       "      <td>1</td>\n",
       "      <td>148.0</td>\n",
       "      <td>0</td>\n",
       "    </tr>\n",
       "  </tbody>\n",
       "</table>\n",
       "</div>"
      ],
      "text/plain": [
       "     Credit_History  Married  two_dependant  Education  Gender  one_dependant  \\\n",
       "92              1.0        1              1          0       1              0   \n",
       "529             1.0        0              0          0       1              0   \n",
       "505             1.0        1              1          1       1              0   \n",
       "358             0.0        1              0          0       1              0   \n",
       "512             1.0        1              1          1       1              0   \n",
       "\n",
       "     ApplicantIncome  CoapplicantIncome  Urban  LoanAmount  Rural  \n",
       "92              3273             1820.0      1        81.0      0  \n",
       "529             6783                0.0      0       130.0      0  \n",
       "505             3510             4416.0      0       243.0      1  \n",
       "358             3000             1666.0      1       100.0      0  \n",
       "512             3283             2035.0      1       148.0      0  "
      ]
     },
     "execution_count": 103,
     "metadata": {},
     "output_type": "execute_result"
    }
   ],
   "source": [
    "X_test[:5]"
   ]
  },
  {
   "cell_type": "markdown",
   "id": "economic-jurisdiction",
   "metadata": {},
   "source": [
    "### Accuracy VS Precision VS Recall VS f1_score"
   ]
  },
  {
   "cell_type": "code",
   "execution_count": 104,
   "id": "radical-practice",
   "metadata": {},
   "outputs": [
    {
     "name": "stdout",
     "output_type": "stream",
     "text": [
      "Accuracy: 0.8333333333333334\n",
      "Precision: 0.8095238095238095\n",
      "Recall: 1.0\n",
      "F1_score: 0.8947368421052632\n"
     ]
    }
   ],
   "source": [
    "from sklearn import metrics\n",
    "y_predicted=model.predict(X_test)\n",
    "print(\"Accuracy:\",metrics.accuracy_score(y_test, y_predicted))\n",
    "print(\"Precision:\",metrics.precision_score(y_test, y_predicted))\n",
    "print(\"Recall:\",metrics.recall_score(y_test, y_predicted))\n",
    "\n",
    "from sklearn import metrics\n",
    "score=metrics.accuracy_score(y_test,y_predicted)\n",
    "pre=metrics.precision_score(y_test, y_predicted)\n",
    "recall=metrics.recall_score(y_test, y_predicted)\n",
    "f1_score=2*pre*recall/(pre+recall)\n",
    "print(\"F1_score:\",f1_score)"
   ]
  },
  {
   "cell_type": "raw",
   "id": "racial-postage",
   "metadata": {},
   "source": [
    "Accuracy,Precision,Recall and F1_score of all classifications models\n",
    "\n",
    "LogisticRegression:\n",
    "    \n",
    "Accuracy: 0.8229166666666666\n",
    "Precision: 0.8\n",
    "Recall: 1.0\n",
    "F1_score: 0.888888888888889\n",
    "\n",
    "DecisionTreeClassifier:\n",
    "\n",
    "Accuracy: 0.78125\n",
    "Precision: 0.8309859154929577\n",
    "Recall: 0.8676470588235294\n",
    "F1_score: 0.8489208633093526\n",
    "\n",
    "RandomForestClassifier:\n",
    "\n",
    "Accuracy: 0.8229166666666666\n",
    "Precision: 0.8227848101265823\n",
    "Recall: 0.9558823529411765\n",
    "F1_score: 0.8843537414965986\n",
    "    \n",
    "SVC:\n",
    "    \n",
    "Accuracy: 0.7083333333333334\n",
    "Precision: 0.7083333333333334\n",
    "Recall: 1.0\n",
    "F1_score: 0.8292682926829268\n",
    "\n"
   ]
  },
  {
   "cell_type": "markdown",
   "id": "accredited-shape",
   "metadata": {},
   "source": [
    "### confusion matrix"
   ]
  },
  {
   "cell_type": "code",
   "execution_count": 105,
   "id": "featured-midnight",
   "metadata": {},
   "outputs": [
    {
     "name": "stdout",
     "output_type": "stream",
     "text": [
      "[[12 16]\n",
      " [ 0 68]]\n"
     ]
    }
   ],
   "source": [
    "y_predicted = model.predict(X_test)\n",
    "from sklearn.metrics import confusion_matrix\n",
    "cm = confusion_matrix(y_test, y_predicted)\n",
    "print(cm)"
   ]
  },
  {
   "cell_type": "markdown",
   "id": "sublime-mouth",
   "metadata": {},
   "source": [
    "### confusion matrix heatmap"
   ]
  },
  {
   "cell_type": "code",
   "execution_count": 106,
   "id": "authorized-teens",
   "metadata": {},
   "outputs": [
    {
     "data": {
      "text/plain": [
       "Text(69.0, 0.5, 'Truth')"
      ]
     },
     "execution_count": 106,
     "metadata": {},
     "output_type": "execute_result"
    },
    {
     "data": {
      "image/png": "[encoded data removed]",
      "text/plain": [
       "<Figure size 720x504 with 2 Axes>"
      ]
     },
     "metadata": {
      "needs_background": "light"
     },
     "output_type": "display_data"
    }
   ],
   "source": [
    "import seaborn as sn\n",
    "plt.figure(figsize = (10,7))\n",
    "sn.heatmap(cm, annot=True)\n",
    "plt.xlabel('Predicted')\n",
    "plt.ylabel('Truth')"
   ]
  },
  {
   "cell_type": "markdown",
   "id": "critical-occasions",
   "metadata": {},
   "source": [
    "# working on test.csv"
   ]
  },
  {
   "cell_type": "markdown",
   "id": "neural-claim",
   "metadata": {},
   "source": [
    "***loading test data***"
   ]
  },
  {
   "cell_type": "code",
   "execution_count": 107,
   "id": "elementary-picnic",
   "metadata": {},
   "outputs": [],
   "source": [
    "df_test=pd.read_csv('loan-test.csv')"
   ]
  },
  {
   "cell_type": "markdown",
   "id": "built-spirituality",
   "metadata": {},
   "source": [
    "***cheking for Null values***"
   ]
  },
  {
   "cell_type": "code",
   "execution_count": 108,
   "id": "colonial-surface",
   "metadata": {},
   "outputs": [
    {
     "data": {
      "text/plain": [
       "Loan_ID               0\n",
       "Gender               11\n",
       "Married               0\n",
       "Dependents           10\n",
       "Education             0\n",
       "Self_Employed        23\n",
       "ApplicantIncome       0\n",
       "CoapplicantIncome     0\n",
       "LoanAmount            5\n",
       "Loan_Amount_Term      6\n",
       "Credit_History       29\n",
       "Property_Area         0\n",
       "dtype: int64"
      ]
     },
     "execution_count": 108,
     "metadata": {},
     "output_type": "execute_result"
    }
   ],
   "source": [
    "df_test.isnull().sum()"
   ]
  },
  {
   "cell_type": "markdown",
   "id": "printable-antigua",
   "metadata": {},
   "source": [
    "***as total rows are 367 including null values***"
   ]
  },
  {
   "cell_type": "code",
   "execution_count": 109,
   "id": "egyptian-bloom",
   "metadata": {},
   "outputs": [
    {
     "data": {
      "text/plain": [
       "(367, 12)"
      ]
     },
     "execution_count": 109,
     "metadata": {},
     "output_type": "execute_result"
    }
   ],
   "source": [
    "df_test.shape"
   ]
  },
  {
   "cell_type": "markdown",
   "id": "athletic-reporter",
   "metadata": {},
   "source": [
    "***removing rows having Null values***"
   ]
  },
  {
   "cell_type": "code",
   "execution_count": 110,
   "id": "moral-graduate",
   "metadata": {},
   "outputs": [],
   "source": [
    "df_test=df_test.dropna()"
   ]
  },
  {
   "cell_type": "markdown",
   "id": "charming-sunrise",
   "metadata": {},
   "source": [
    "***making a copy of df_test for making changes not affected actual copy***"
   ]
  },
  {
   "cell_type": "code",
   "execution_count": 111,
   "id": "asian-secret",
   "metadata": {},
   "outputs": [],
   "source": [
    "df=df_test.copy()"
   ]
  },
  {
   "cell_type": "markdown",
   "id": "median-legislation",
   "metadata": {},
   "source": [
    "### conversion of strings into integers of form 1 and 0"
   ]
  },
  {
   "cell_type": "code",
   "execution_count": 112,
   "id": "incoming-movement",
   "metadata": {},
   "outputs": [],
   "source": [
    "for feature in df.columns:\n",
    "    if df[feature].dtypes == 'O':\n",
    "        if len(df[feature].unique())==2:\n",
    "            df[feature]=(df[feature]==df[feature].value_counts().keys()[0]).astype(int)    "
   ]
  },
  {
   "cell_type": "code",
   "execution_count": 113,
   "id": "dramatic-privilege",
   "metadata": {},
   "outputs": [
    {
     "data": {
      "text/plain": [
       "['Gender',\n",
       " 'Married',\n",
       " 'Education',\n",
       " 'Self_Employed',\n",
       " 'ApplicantIncome',\n",
       " 'CoapplicantIncome',\n",
       " 'LoanAmount',\n",
       " 'Loan_Amount_Term',\n",
       " 'Credit_History']"
      ]
     },
     "execution_count": 113,
     "metadata": {},
     "output_type": "execute_result"
    }
   ],
   "source": [
    "numerical_features_2 = [feature for feature in df.columns if df[feature].dtypes != 'O']\n",
    "numerical_features_2"
   ]
  },
  {
   "cell_type": "code",
   "execution_count": 114,
   "id": "planned-morgan",
   "metadata": {},
   "outputs": [
    {
     "data": {
      "text/html": [
       "<div>\n",
       "<style scoped>\n",
       "    .dataframe tbody tr th:only-of-type {\n",
       "        vertical-align: middle;\n",
       "    }\n",
       "\n",
       "    .dataframe tbody tr th {\n",
       "        vertical-align: top;\n",
       "    }\n",
       "\n",
       "    .dataframe thead th {\n",
       "        text-align: right;\n",
       "    }\n",
       "</style>\n",
       "<table border=\"1\" class=\"dataframe\">\n",
       "  <thead>\n",
       "    <tr style=\"text-align: right;\">\n",
       "      <th></th>\n",
       "      <th>0</th>\n",
       "      <th>1</th>\n",
       "      <th>2</th>\n",
       "      <th>3+</th>\n",
       "    </tr>\n",
       "  </thead>\n",
       "  <tbody>\n",
       "    <tr>\n",
       "      <th>0</th>\n",
       "      <td>1</td>\n",
       "      <td>0</td>\n",
       "      <td>0</td>\n",
       "      <td>0</td>\n",
       "    </tr>\n",
       "    <tr>\n",
       "      <th>1</th>\n",
       "      <td>0</td>\n",
       "      <td>1</td>\n",
       "      <td>0</td>\n",
       "      <td>0</td>\n",
       "    </tr>\n",
       "    <tr>\n",
       "      <th>2</th>\n",
       "      <td>0</td>\n",
       "      <td>0</td>\n",
       "      <td>1</td>\n",
       "      <td>0</td>\n",
       "    </tr>\n",
       "    <tr>\n",
       "      <th>4</th>\n",
       "      <td>1</td>\n",
       "      <td>0</td>\n",
       "      <td>0</td>\n",
       "      <td>0</td>\n",
       "    </tr>\n",
       "    <tr>\n",
       "      <th>5</th>\n",
       "      <td>1</td>\n",
       "      <td>0</td>\n",
       "      <td>0</td>\n",
       "      <td>0</td>\n",
       "    </tr>\n",
       "    <tr>\n",
       "      <th>...</th>\n",
       "      <td>...</td>\n",
       "      <td>...</td>\n",
       "      <td>...</td>\n",
       "      <td>...</td>\n",
       "    </tr>\n",
       "    <tr>\n",
       "      <th>361</th>\n",
       "      <td>0</td>\n",
       "      <td>1</td>\n",
       "      <td>0</td>\n",
       "      <td>0</td>\n",
       "    </tr>\n",
       "    <tr>\n",
       "      <th>362</th>\n",
       "      <td>0</td>\n",
       "      <td>0</td>\n",
       "      <td>0</td>\n",
       "      <td>1</td>\n",
       "    </tr>\n",
       "    <tr>\n",
       "      <th>363</th>\n",
       "      <td>1</td>\n",
       "      <td>0</td>\n",
       "      <td>0</td>\n",
       "      <td>0</td>\n",
       "    </tr>\n",
       "    <tr>\n",
       "      <th>365</th>\n",
       "      <td>1</td>\n",
       "      <td>0</td>\n",
       "      <td>0</td>\n",
       "      <td>0</td>\n",
       "    </tr>\n",
       "    <tr>\n",
       "      <th>366</th>\n",
       "      <td>1</td>\n",
       "      <td>0</td>\n",
       "      <td>0</td>\n",
       "      <td>0</td>\n",
       "    </tr>\n",
       "  </tbody>\n",
       "</table>\n",
       "<p>289 rows × 4 columns</p>\n",
       "</div>"
      ],
      "text/plain": [
       "     0  1  2  3+\n",
       "0    1  0  0   0\n",
       "1    0  1  0   0\n",
       "2    0  0  1   0\n",
       "4    1  0  0   0\n",
       "5    1  0  0   0\n",
       "..  .. .. ..  ..\n",
       "361  0  1  0   0\n",
       "362  0  0  0   1\n",
       "363  1  0  0   0\n",
       "365  1  0  0   0\n",
       "366  1  0  0   0\n",
       "\n",
       "[289 rows x 4 columns]"
      ]
     },
     "execution_count": 114,
     "metadata": {},
     "output_type": "execute_result"
    }
   ],
   "source": [
    "dependents = pd.get_dummies(df['Dependents'])\n",
    "dependents"
   ]
  },
  {
   "cell_type": "code",
   "execution_count": 115,
   "id": "existing-nightlife",
   "metadata": {},
   "outputs": [],
   "source": [
    "area = pd.get_dummies(df['Property_Area'])"
   ]
  },
  {
   "cell_type": "code",
   "execution_count": 116,
   "id": "wanted-denial",
   "metadata": {},
   "outputs": [
    {
     "data": {
      "text/html": [
       "<div>\n",
       "<style scoped>\n",
       "    .dataframe tbody tr th:only-of-type {\n",
       "        vertical-align: middle;\n",
       "    }\n",
       "\n",
       "    .dataframe tbody tr th {\n",
       "        vertical-align: top;\n",
       "    }\n",
       "\n",
       "    .dataframe thead th {\n",
       "        text-align: right;\n",
       "    }\n",
       "</style>\n",
       "<table border=\"1\" class=\"dataframe\">\n",
       "  <thead>\n",
       "    <tr style=\"text-align: right;\">\n",
       "      <th></th>\n",
       "      <th>Loan_ID</th>\n",
       "      <th>Gender</th>\n",
       "      <th>Married</th>\n",
       "      <th>Dependents</th>\n",
       "      <th>Education</th>\n",
       "      <th>Self_Employed</th>\n",
       "      <th>ApplicantIncome</th>\n",
       "      <th>CoapplicantIncome</th>\n",
       "      <th>LoanAmount</th>\n",
       "      <th>Loan_Amount_Term</th>\n",
       "      <th>Credit_History</th>\n",
       "      <th>Property_Area</th>\n",
       "      <th>Rural</th>\n",
       "      <th>Semiurban</th>\n",
       "      <th>Urban</th>\n",
       "      <th>0</th>\n",
       "      <th>1</th>\n",
       "      <th>2</th>\n",
       "      <th>3+</th>\n",
       "    </tr>\n",
       "  </thead>\n",
       "  <tbody>\n",
       "    <tr>\n",
       "      <th>0</th>\n",
       "      <td>LP001015</td>\n",
       "      <td>1</td>\n",
       "      <td>1</td>\n",
       "      <td>0</td>\n",
       "      <td>1</td>\n",
       "      <td>1</td>\n",
       "      <td>5720</td>\n",
       "      <td>0</td>\n",
       "      <td>110.0</td>\n",
       "      <td>360.0</td>\n",
       "      <td>1.0</td>\n",
       "      <td>Urban</td>\n",
       "      <td>0</td>\n",
       "      <td>0</td>\n",
       "      <td>1</td>\n",
       "      <td>1</td>\n",
       "      <td>0</td>\n",
       "      <td>0</td>\n",
       "      <td>0</td>\n",
       "    </tr>\n",
       "    <tr>\n",
       "      <th>1</th>\n",
       "      <td>LP001022</td>\n",
       "      <td>1</td>\n",
       "      <td>1</td>\n",
       "      <td>1</td>\n",
       "      <td>1</td>\n",
       "      <td>1</td>\n",
       "      <td>3076</td>\n",
       "      <td>1500</td>\n",
       "      <td>126.0</td>\n",
       "      <td>360.0</td>\n",
       "      <td>1.0</td>\n",
       "      <td>Urban</td>\n",
       "      <td>0</td>\n",
       "      <td>0</td>\n",
       "      <td>1</td>\n",
       "      <td>0</td>\n",
       "      <td>1</td>\n",
       "      <td>0</td>\n",
       "      <td>0</td>\n",
       "    </tr>\n",
       "    <tr>\n",
       "      <th>2</th>\n",
       "      <td>LP001031</td>\n",
       "      <td>1</td>\n",
       "      <td>1</td>\n",
       "      <td>2</td>\n",
       "      <td>1</td>\n",
       "      <td>1</td>\n",
       "      <td>5000</td>\n",
       "      <td>1800</td>\n",
       "      <td>208.0</td>\n",
       "      <td>360.0</td>\n",
       "      <td>1.0</td>\n",
       "      <td>Urban</td>\n",
       "      <td>0</td>\n",
       "      <td>0</td>\n",
       "      <td>1</td>\n",
       "      <td>0</td>\n",
       "      <td>0</td>\n",
       "      <td>1</td>\n",
       "      <td>0</td>\n",
       "    </tr>\n",
       "    <tr>\n",
       "      <th>4</th>\n",
       "      <td>LP001051</td>\n",
       "      <td>1</td>\n",
       "      <td>0</td>\n",
       "      <td>0</td>\n",
       "      <td>0</td>\n",
       "      <td>1</td>\n",
       "      <td>3276</td>\n",
       "      <td>0</td>\n",
       "      <td>78.0</td>\n",
       "      <td>360.0</td>\n",
       "      <td>1.0</td>\n",
       "      <td>Urban</td>\n",
       "      <td>0</td>\n",
       "      <td>0</td>\n",
       "      <td>1</td>\n",
       "      <td>1</td>\n",
       "      <td>0</td>\n",
       "      <td>0</td>\n",
       "      <td>0</td>\n",
       "    </tr>\n",
       "    <tr>\n",
       "      <th>5</th>\n",
       "      <td>LP001054</td>\n",
       "      <td>1</td>\n",
       "      <td>1</td>\n",
       "      <td>0</td>\n",
       "      <td>0</td>\n",
       "      <td>0</td>\n",
       "      <td>2165</td>\n",
       "      <td>3422</td>\n",
       "      <td>152.0</td>\n",
       "      <td>360.0</td>\n",
       "      <td>1.0</td>\n",
       "      <td>Urban</td>\n",
       "      <td>0</td>\n",
       "      <td>0</td>\n",
       "      <td>1</td>\n",
       "      <td>1</td>\n",
       "      <td>0</td>\n",
       "      <td>0</td>\n",
       "      <td>0</td>\n",
       "    </tr>\n",
       "    <tr>\n",
       "      <th>...</th>\n",
       "      <td>...</td>\n",
       "      <td>...</td>\n",
       "      <td>...</td>\n",
       "      <td>...</td>\n",
       "      <td>...</td>\n",
       "      <td>...</td>\n",
       "      <td>...</td>\n",
       "      <td>...</td>\n",
       "      <td>...</td>\n",
       "      <td>...</td>\n",
       "      <td>...</td>\n",
       "      <td>...</td>\n",
       "      <td>...</td>\n",
       "      <td>...</td>\n",
       "      <td>...</td>\n",
       "      <td>...</td>\n",
       "      <td>...</td>\n",
       "      <td>...</td>\n",
       "      <td>...</td>\n",
       "    </tr>\n",
       "    <tr>\n",
       "      <th>361</th>\n",
       "      <td>LP002969</td>\n",
       "      <td>1</td>\n",
       "      <td>1</td>\n",
       "      <td>1</td>\n",
       "      <td>1</td>\n",
       "      <td>1</td>\n",
       "      <td>2269</td>\n",
       "      <td>2167</td>\n",
       "      <td>99.0</td>\n",
       "      <td>360.0</td>\n",
       "      <td>1.0</td>\n",
       "      <td>Semiurban</td>\n",
       "      <td>0</td>\n",
       "      <td>1</td>\n",
       "      <td>0</td>\n",
       "      <td>0</td>\n",
       "      <td>1</td>\n",
       "      <td>0</td>\n",
       "      <td>0</td>\n",
       "    </tr>\n",
       "    <tr>\n",
       "      <th>362</th>\n",
       "      <td>LP002971</td>\n",
       "      <td>1</td>\n",
       "      <td>1</td>\n",
       "      <td>3+</td>\n",
       "      <td>0</td>\n",
       "      <td>0</td>\n",
       "      <td>4009</td>\n",
       "      <td>1777</td>\n",
       "      <td>113.0</td>\n",
       "      <td>360.0</td>\n",
       "      <td>1.0</td>\n",
       "      <td>Urban</td>\n",
       "      <td>0</td>\n",
       "      <td>0</td>\n",
       "      <td>1</td>\n",
       "      <td>0</td>\n",
       "      <td>0</td>\n",
       "      <td>0</td>\n",
       "      <td>1</td>\n",
       "    </tr>\n",
       "    <tr>\n",
       "      <th>363</th>\n",
       "      <td>LP002975</td>\n",
       "      <td>1</td>\n",
       "      <td>1</td>\n",
       "      <td>0</td>\n",
       "      <td>1</td>\n",
       "      <td>1</td>\n",
       "      <td>4158</td>\n",
       "      <td>709</td>\n",
       "      <td>115.0</td>\n",
       "      <td>360.0</td>\n",
       "      <td>1.0</td>\n",
       "      <td>Urban</td>\n",
       "      <td>0</td>\n",
       "      <td>0</td>\n",
       "      <td>1</td>\n",
       "      <td>1</td>\n",
       "      <td>0</td>\n",
       "      <td>0</td>\n",
       "      <td>0</td>\n",
       "    </tr>\n",
       "    <tr>\n",
       "      <th>365</th>\n",
       "      <td>LP002986</td>\n",
       "      <td>1</td>\n",
       "      <td>1</td>\n",
       "      <td>0</td>\n",
       "      <td>1</td>\n",
       "      <td>1</td>\n",
       "      <td>5000</td>\n",
       "      <td>2393</td>\n",
       "      <td>158.0</td>\n",
       "      <td>360.0</td>\n",
       "      <td>1.0</td>\n",
       "      <td>Rural</td>\n",
       "      <td>1</td>\n",
       "      <td>0</td>\n",
       "      <td>0</td>\n",
       "      <td>1</td>\n",
       "      <td>0</td>\n",
       "      <td>0</td>\n",
       "      <td>0</td>\n",
       "    </tr>\n",
       "    <tr>\n",
       "      <th>366</th>\n",
       "      <td>LP002989</td>\n",
       "      <td>1</td>\n",
       "      <td>0</td>\n",
       "      <td>0</td>\n",
       "      <td>1</td>\n",
       "      <td>0</td>\n",
       "      <td>9200</td>\n",
       "      <td>0</td>\n",
       "      <td>98.0</td>\n",
       "      <td>180.0</td>\n",
       "      <td>1.0</td>\n",
       "      <td>Rural</td>\n",
       "      <td>1</td>\n",
       "      <td>0</td>\n",
       "      <td>0</td>\n",
       "      <td>1</td>\n",
       "      <td>0</td>\n",
       "      <td>0</td>\n",
       "      <td>0</td>\n",
       "    </tr>\n",
       "  </tbody>\n",
       "</table>\n",
       "<p>289 rows × 19 columns</p>\n",
       "</div>"
      ],
      "text/plain": [
       "      Loan_ID  Gender  Married Dependents  Education  Self_Employed  \\\n",
       "0    LP001015       1        1          0          1              1   \n",
       "1    LP001022       1        1          1          1              1   \n",
       "2    LP001031       1        1          2          1              1   \n",
       "4    LP001051       1        0          0          0              1   \n",
       "5    LP001054       1        1          0          0              0   \n",
       "..        ...     ...      ...        ...        ...            ...   \n",
       "361  LP002969       1        1          1          1              1   \n",
       "362  LP002971       1        1         3+          0              0   \n",
       "363  LP002975       1        1          0          1              1   \n",
       "365  LP002986       1        1          0          1              1   \n",
       "366  LP002989       1        0          0          1              0   \n",
       "\n",
       "     ApplicantIncome  CoapplicantIncome  LoanAmount  Loan_Amount_Term  \\\n",
       "0               5720                  0       110.0             360.0   \n",
       "1               3076               1500       126.0             360.0   \n",
       "2               5000               1800       208.0             360.0   \n",
       "4               3276                  0        78.0             360.0   \n",
       "5               2165               3422       152.0             360.0   \n",
       "..               ...                ...         ...               ...   \n",
       "361             2269               2167        99.0             360.0   \n",
       "362             4009               1777       113.0             360.0   \n",
       "363             4158                709       115.0             360.0   \n",
       "365             5000               2393       158.0             360.0   \n",
       "366             9200                  0        98.0             180.0   \n",
       "\n",
       "     Credit_History Property_Area  Rural  Semiurban  Urban  0  1  2  3+  \n",
       "0               1.0         Urban      0          0      1  1  0  0   0  \n",
       "1               1.0         Urban      0          0      1  0  1  0   0  \n",
       "2               1.0         Urban      0          0      1  0  0  1   0  \n",
       "4               1.0         Urban      0          0      1  1  0  0   0  \n",
       "5               1.0         Urban      0          0      1  1  0  0   0  \n",
       "..              ...           ...    ...        ...    ... .. .. ..  ..  \n",
       "361             1.0     Semiurban      0          1      0  0  1  0   0  \n",
       "362             1.0         Urban      0          0      1  0  0  0   1  \n",
       "363             1.0         Urban      0          0      1  1  0  0   0  \n",
       "365             1.0         Rural      1          0      0  1  0  0   0  \n",
       "366             1.0         Rural      1          0      0  1  0  0   0  \n",
       "\n",
       "[289 rows x 19 columns]"
      ]
     },
     "execution_count": 116,
     "metadata": {},
     "output_type": "execute_result"
    }
   ],
   "source": [
    "area_dep_merged = pd.concat([df,area,dependents],axis='columns')\n",
    "area_dep_merged "
   ]
  },
  {
   "cell_type": "code",
   "execution_count": 117,
   "id": "instrumental-wildlife",
   "metadata": {},
   "outputs": [
    {
     "data": {
      "text/html": [
       "<div>\n",
       "<style scoped>\n",
       "    .dataframe tbody tr th:only-of-type {\n",
       "        vertical-align: middle;\n",
       "    }\n",
       "\n",
       "    .dataframe tbody tr th {\n",
       "        vertical-align: top;\n",
       "    }\n",
       "\n",
       "    .dataframe thead th {\n",
       "        text-align: right;\n",
       "    }\n",
       "</style>\n",
       "<table border=\"1\" class=\"dataframe\">\n",
       "  <thead>\n",
       "    <tr style=\"text-align: right;\">\n",
       "      <th></th>\n",
       "      <th>Loan_ID</th>\n",
       "      <th>Gender</th>\n",
       "      <th>Married</th>\n",
       "      <th>Education</th>\n",
       "      <th>Self_Employed</th>\n",
       "      <th>ApplicantIncome</th>\n",
       "      <th>CoapplicantIncome</th>\n",
       "      <th>LoanAmount</th>\n",
       "      <th>Loan_Amount_Term</th>\n",
       "      <th>Credit_History</th>\n",
       "      <th>Rural</th>\n",
       "      <th>Urban</th>\n",
       "      <th>1</th>\n",
       "      <th>2</th>\n",
       "      <th>3+</th>\n",
       "    </tr>\n",
       "  </thead>\n",
       "  <tbody>\n",
       "    <tr>\n",
       "      <th>0</th>\n",
       "      <td>LP001015</td>\n",
       "      <td>1</td>\n",
       "      <td>1</td>\n",
       "      <td>1</td>\n",
       "      <td>1</td>\n",
       "      <td>5720</td>\n",
       "      <td>0</td>\n",
       "      <td>110.0</td>\n",
       "      <td>360.0</td>\n",
       "      <td>1.0</td>\n",
       "      <td>0</td>\n",
       "      <td>1</td>\n",
       "      <td>0</td>\n",
       "      <td>0</td>\n",
       "      <td>0</td>\n",
       "    </tr>\n",
       "    <tr>\n",
       "      <th>1</th>\n",
       "      <td>LP001022</td>\n",
       "      <td>1</td>\n",
       "      <td>1</td>\n",
       "      <td>1</td>\n",
       "      <td>1</td>\n",
       "      <td>3076</td>\n",
       "      <td>1500</td>\n",
       "      <td>126.0</td>\n",
       "      <td>360.0</td>\n",
       "      <td>1.0</td>\n",
       "      <td>0</td>\n",
       "      <td>1</td>\n",
       "      <td>1</td>\n",
       "      <td>0</td>\n",
       "      <td>0</td>\n",
       "    </tr>\n",
       "    <tr>\n",
       "      <th>2</th>\n",
       "      <td>LP001031</td>\n",
       "      <td>1</td>\n",
       "      <td>1</td>\n",
       "      <td>1</td>\n",
       "      <td>1</td>\n",
       "      <td>5000</td>\n",
       "      <td>1800</td>\n",
       "      <td>208.0</td>\n",
       "      <td>360.0</td>\n",
       "      <td>1.0</td>\n",
       "      <td>0</td>\n",
       "      <td>1</td>\n",
       "      <td>0</td>\n",
       "      <td>1</td>\n",
       "      <td>0</td>\n",
       "    </tr>\n",
       "    <tr>\n",
       "      <th>4</th>\n",
       "      <td>LP001051</td>\n",
       "      <td>1</td>\n",
       "      <td>0</td>\n",
       "      <td>0</td>\n",
       "      <td>1</td>\n",
       "      <td>3276</td>\n",
       "      <td>0</td>\n",
       "      <td>78.0</td>\n",
       "      <td>360.0</td>\n",
       "      <td>1.0</td>\n",
       "      <td>0</td>\n",
       "      <td>1</td>\n",
       "      <td>0</td>\n",
       "      <td>0</td>\n",
       "      <td>0</td>\n",
       "    </tr>\n",
       "    <tr>\n",
       "      <th>5</th>\n",
       "      <td>LP001054</td>\n",
       "      <td>1</td>\n",
       "      <td>1</td>\n",
       "      <td>0</td>\n",
       "      <td>0</td>\n",
       "      <td>2165</td>\n",
       "      <td>3422</td>\n",
       "      <td>152.0</td>\n",
       "      <td>360.0</td>\n",
       "      <td>1.0</td>\n",
       "      <td>0</td>\n",
       "      <td>1</td>\n",
       "      <td>0</td>\n",
       "      <td>0</td>\n",
       "      <td>0</td>\n",
       "    </tr>\n",
       "    <tr>\n",
       "      <th>...</th>\n",
       "      <td>...</td>\n",
       "      <td>...</td>\n",
       "      <td>...</td>\n",
       "      <td>...</td>\n",
       "      <td>...</td>\n",
       "      <td>...</td>\n",
       "      <td>...</td>\n",
       "      <td>...</td>\n",
       "      <td>...</td>\n",
       "      <td>...</td>\n",
       "      <td>...</td>\n",
       "      <td>...</td>\n",
       "      <td>...</td>\n",
       "      <td>...</td>\n",
       "      <td>...</td>\n",
       "    </tr>\n",
       "    <tr>\n",
       "      <th>361</th>\n",
       "      <td>LP002969</td>\n",
       "      <td>1</td>\n",
       "      <td>1</td>\n",
       "      <td>1</td>\n",
       "      <td>1</td>\n",
       "      <td>2269</td>\n",
       "      <td>2167</td>\n",
       "      <td>99.0</td>\n",
       "      <td>360.0</td>\n",
       "      <td>1.0</td>\n",
       "      <td>0</td>\n",
       "      <td>0</td>\n",
       "      <td>1</td>\n",
       "      <td>0</td>\n",
       "      <td>0</td>\n",
       "    </tr>\n",
       "    <tr>\n",
       "      <th>362</th>\n",
       "      <td>LP002971</td>\n",
       "      <td>1</td>\n",
       "      <td>1</td>\n",
       "      <td>0</td>\n",
       "      <td>0</td>\n",
       "      <td>4009</td>\n",
       "      <td>1777</td>\n",
       "      <td>113.0</td>\n",
       "      <td>360.0</td>\n",
       "      <td>1.0</td>\n",
       "      <td>0</td>\n",
       "      <td>1</td>\n",
       "      <td>0</td>\n",
       "      <td>0</td>\n",
       "      <td>1</td>\n",
       "    </tr>\n",
       "    <tr>\n",
       "      <th>363</th>\n",
       "      <td>LP002975</td>\n",
       "      <td>1</td>\n",
       "      <td>1</td>\n",
       "      <td>1</td>\n",
       "      <td>1</td>\n",
       "      <td>4158</td>\n",
       "      <td>709</td>\n",
       "      <td>115.0</td>\n",
       "      <td>360.0</td>\n",
       "      <td>1.0</td>\n",
       "      <td>0</td>\n",
       "      <td>1</td>\n",
       "      <td>0</td>\n",
       "      <td>0</td>\n",
       "      <td>0</td>\n",
       "    </tr>\n",
       "    <tr>\n",
       "      <th>365</th>\n",
       "      <td>LP002986</td>\n",
       "      <td>1</td>\n",
       "      <td>1</td>\n",
       "      <td>1</td>\n",
       "      <td>1</td>\n",
       "      <td>5000</td>\n",
       "      <td>2393</td>\n",
       "      <td>158.0</td>\n",
       "      <td>360.0</td>\n",
       "      <td>1.0</td>\n",
       "      <td>1</td>\n",
       "      <td>0</td>\n",
       "      <td>0</td>\n",
       "      <td>0</td>\n",
       "      <td>0</td>\n",
       "    </tr>\n",
       "    <tr>\n",
       "      <th>366</th>\n",
       "      <td>LP002989</td>\n",
       "      <td>1</td>\n",
       "      <td>0</td>\n",
       "      <td>1</td>\n",
       "      <td>0</td>\n",
       "      <td>9200</td>\n",
       "      <td>0</td>\n",
       "      <td>98.0</td>\n",
       "      <td>180.0</td>\n",
       "      <td>1.0</td>\n",
       "      <td>1</td>\n",
       "      <td>0</td>\n",
       "      <td>0</td>\n",
       "      <td>0</td>\n",
       "      <td>0</td>\n",
       "    </tr>\n",
       "  </tbody>\n",
       "</table>\n",
       "<p>289 rows × 15 columns</p>\n",
       "</div>"
      ],
      "text/plain": [
       "      Loan_ID  Gender  Married  Education  Self_Employed  ApplicantIncome  \\\n",
       "0    LP001015       1        1          1              1             5720   \n",
       "1    LP001022       1        1          1              1             3076   \n",
       "2    LP001031       1        1          1              1             5000   \n",
       "4    LP001051       1        0          0              1             3276   \n",
       "5    LP001054       1        1          0              0             2165   \n",
       "..        ...     ...      ...        ...            ...              ...   \n",
       "361  LP002969       1        1          1              1             2269   \n",
       "362  LP002971       1        1          0              0             4009   \n",
       "363  LP002975       1        1          1              1             4158   \n",
       "365  LP002986       1        1          1              1             5000   \n",
       "366  LP002989       1        0          1              0             9200   \n",
       "\n",
       "     CoapplicantIncome  LoanAmount  Loan_Amount_Term  Credit_History  Rural  \\\n",
       "0                    0       110.0             360.0             1.0      0   \n",
       "1                 1500       126.0             360.0             1.0      0   \n",
       "2                 1800       208.0             360.0             1.0      0   \n",
       "4                    0        78.0             360.0             1.0      0   \n",
       "5                 3422       152.0             360.0             1.0      0   \n",
       "..                 ...         ...               ...             ...    ...   \n",
       "361               2167        99.0             360.0             1.0      0   \n",
       "362               1777       113.0             360.0             1.0      0   \n",
       "363                709       115.0             360.0             1.0      0   \n",
       "365               2393       158.0             360.0             1.0      1   \n",
       "366                  0        98.0             180.0             1.0      1   \n",
       "\n",
       "     Urban  1  2  3+  \n",
       "0        1  0  0   0  \n",
       "1        1  1  0   0  \n",
       "2        1  0  1   0  \n",
       "4        1  0  0   0  \n",
       "5        1  0  0   0  \n",
       "..     ... .. ..  ..  \n",
       "361      0  1  0   0  \n",
       "362      1  0  0   1  \n",
       "363      1  0  0   0  \n",
       "365      0  0  0   0  \n",
       "366      0  0  0   0  \n",
       "\n",
       "[289 rows x 15 columns]"
      ]
     },
     "execution_count": 117,
     "metadata": {},
     "output_type": "execute_result"
    }
   ],
   "source": [
    "df =area_dep_merged.drop(['Property_Area','Semiurban','Dependents','0'], axis='columns')\n",
    "df"
   ]
  },
  {
   "cell_type": "markdown",
   "id": "alpha-buddy",
   "metadata": {},
   "source": [
    "***droping two columns as that are not involved in predictions***"
   ]
  },
  {
   "cell_type": "code",
   "execution_count": 118,
   "id": "suited-spanking",
   "metadata": {},
   "outputs": [],
   "source": [
    "#test_x=df.drop(['Loan_ID','Dependents'],axis='columns')"
   ]
  },
  {
   "cell_type": "code",
   "execution_count": 119,
   "id": "transsexual-tenant",
   "metadata": {},
   "outputs": [],
   "source": [
    "test_x=df[strong_relation_features]"
   ]
  },
  {
   "cell_type": "markdown",
   "id": "western-connectivity",
   "metadata": {},
   "source": [
    "***make predictions on the basis of model used***"
   ]
  },
  {
   "cell_type": "code",
   "execution_count": 120,
   "id": "passive-diamond",
   "metadata": {},
   "outputs": [],
   "source": [
    "test_pred=model.predict(test_x)"
   ]
  },
  {
   "cell_type": "markdown",
   "id": "north-fisher",
   "metadata": {},
   "source": [
    "***adding predictions to actual test dataset***"
   ]
  },
  {
   "cell_type": "code",
   "execution_count": 121,
   "id": "guilty-pavilion",
   "metadata": {},
   "outputs": [],
   "source": [
    "df_test['Loan Eligibility']=test_pred"
   ]
  },
  {
   "cell_type": "markdown",
   "id": "still-belle",
   "metadata": {},
   "source": [
    "***replacing 1,0 in the form of Yes and No in predictions column***"
   ]
  },
  {
   "cell_type": "code",
   "execution_count": 122,
   "id": "final-share",
   "metadata": {},
   "outputs": [],
   "source": [
    "df_test['Loan Eligibility']=df_test['Loan Eligibility'].replace([1,0],['Yes','No'])"
   ]
  },
  {
   "cell_type": "markdown",
   "id": "entertaining-harmony",
   "metadata": {},
   "source": [
    "***finally test_dataset is ready with predictions***"
   ]
  },
  {
   "cell_type": "code",
   "execution_count": 123,
   "id": "fossil-plumbing",
   "metadata": {},
   "outputs": [],
   "source": [
    "#df_test.to_csv('loan eligibility predictions.csv')"
   ]
  },
  {
   "cell_type": "markdown",
   "id": "atlantic-provider",
   "metadata": {},
   "source": [
    "### using saved model for predictions"
   ]
  },
  {
   "cell_type": "code",
   "execution_count": 124,
   "id": "animated-romania",
   "metadata": {},
   "outputs": [],
   "source": [
    "model_ = pickle.load(open('model_Loan_eligibility_predictions.pkl','rb'))"
   ]
  },
  {
   "cell_type": "code",
   "execution_count": 125,
   "id": "southern-electric",
   "metadata": {},
   "outputs": [
    {
     "data": {
      "text/html": [
       "<div>\n",
       "<style scoped>\n",
       "    .dataframe tbody tr th:only-of-type {\n",
       "        vertical-align: middle;\n",
       "    }\n",
       "\n",
       "    .dataframe tbody tr th {\n",
       "        vertical-align: top;\n",
       "    }\n",
       "\n",
       "    .dataframe thead th {\n",
       "        text-align: right;\n",
       "    }\n",
       "</style>\n",
       "<table border=\"1\" class=\"dataframe\">\n",
       "  <thead>\n",
       "    <tr style=\"text-align: right;\">\n",
       "      <th></th>\n",
       "      <th>Credit_History</th>\n",
       "      <th>Married</th>\n",
       "      <th>two_dependant</th>\n",
       "      <th>Education</th>\n",
       "      <th>Gender</th>\n",
       "      <th>one_dependant</th>\n",
       "      <th>ApplicantIncome</th>\n",
       "      <th>CoapplicantIncome</th>\n",
       "      <th>Urban</th>\n",
       "      <th>LoanAmount</th>\n",
       "      <th>Rural</th>\n",
       "    </tr>\n",
       "  </thead>\n",
       "  <tbody>\n",
       "    <tr>\n",
       "      <th>92</th>\n",
       "      <td>1.0</td>\n",
       "      <td>1</td>\n",
       "      <td>1</td>\n",
       "      <td>0</td>\n",
       "      <td>1</td>\n",
       "      <td>0</td>\n",
       "      <td>3273</td>\n",
       "      <td>1820.0</td>\n",
       "      <td>1</td>\n",
       "      <td>81.0</td>\n",
       "      <td>0</td>\n",
       "    </tr>\n",
       "    <tr>\n",
       "      <th>529</th>\n",
       "      <td>1.0</td>\n",
       "      <td>0</td>\n",
       "      <td>0</td>\n",
       "      <td>0</td>\n",
       "      <td>1</td>\n",
       "      <td>0</td>\n",
       "      <td>6783</td>\n",
       "      <td>0.0</td>\n",
       "      <td>0</td>\n",
       "      <td>130.0</td>\n",
       "      <td>0</td>\n",
       "    </tr>\n",
       "    <tr>\n",
       "      <th>505</th>\n",
       "      <td>1.0</td>\n",
       "      <td>1</td>\n",
       "      <td>1</td>\n",
       "      <td>1</td>\n",
       "      <td>1</td>\n",
       "      <td>0</td>\n",
       "      <td>3510</td>\n",
       "      <td>4416.0</td>\n",
       "      <td>0</td>\n",
       "      <td>243.0</td>\n",
       "      <td>1</td>\n",
       "    </tr>\n",
       "    <tr>\n",
       "      <th>358</th>\n",
       "      <td>0.0</td>\n",
       "      <td>1</td>\n",
       "      <td>0</td>\n",
       "      <td>0</td>\n",
       "      <td>1</td>\n",
       "      <td>0</td>\n",
       "      <td>3000</td>\n",
       "      <td>1666.0</td>\n",
       "      <td>1</td>\n",
       "      <td>100.0</td>\n",
       "      <td>0</td>\n",
       "    </tr>\n",
       "    <tr>\n",
       "      <th>512</th>\n",
       "      <td>1.0</td>\n",
       "      <td>1</td>\n",
       "      <td>1</td>\n",
       "      <td>1</td>\n",
       "      <td>1</td>\n",
       "      <td>0</td>\n",
       "      <td>3283</td>\n",
       "      <td>2035.0</td>\n",
       "      <td>1</td>\n",
       "      <td>148.0</td>\n",
       "      <td>0</td>\n",
       "    </tr>\n",
       "    <tr>\n",
       "      <th>...</th>\n",
       "      <td>...</td>\n",
       "      <td>...</td>\n",
       "      <td>...</td>\n",
       "      <td>...</td>\n",
       "      <td>...</td>\n",
       "      <td>...</td>\n",
       "      <td>...</td>\n",
       "      <td>...</td>\n",
       "      <td>...</td>\n",
       "      <td>...</td>\n",
       "      <td>...</td>\n",
       "    </tr>\n",
       "    <tr>\n",
       "      <th>281</th>\n",
       "      <td>1.0</td>\n",
       "      <td>1</td>\n",
       "      <td>0</td>\n",
       "      <td>1</td>\n",
       "      <td>1</td>\n",
       "      <td>0</td>\n",
       "      <td>3927</td>\n",
       "      <td>800.0</td>\n",
       "      <td>0</td>\n",
       "      <td>112.0</td>\n",
       "      <td>0</td>\n",
       "    </tr>\n",
       "    <tr>\n",
       "      <th>299</th>\n",
       "      <td>1.0</td>\n",
       "      <td>1</td>\n",
       "      <td>0</td>\n",
       "      <td>1</td>\n",
       "      <td>1</td>\n",
       "      <td>1</td>\n",
       "      <td>2014</td>\n",
       "      <td>2925.0</td>\n",
       "      <td>1</td>\n",
       "      <td>113.0</td>\n",
       "      <td>0</td>\n",
       "    </tr>\n",
       "    <tr>\n",
       "      <th>522</th>\n",
       "      <td>1.0</td>\n",
       "      <td>1</td>\n",
       "      <td>0</td>\n",
       "      <td>1</td>\n",
       "      <td>1</td>\n",
       "      <td>0</td>\n",
       "      <td>5677</td>\n",
       "      <td>1424.0</td>\n",
       "      <td>0</td>\n",
       "      <td>100.0</td>\n",
       "      <td>1</td>\n",
       "    </tr>\n",
       "    <tr>\n",
       "      <th>33</th>\n",
       "      <td>1.0</td>\n",
       "      <td>1</td>\n",
       "      <td>0</td>\n",
       "      <td>1</td>\n",
       "      <td>1</td>\n",
       "      <td>0</td>\n",
       "      <td>3500</td>\n",
       "      <td>1667.0</td>\n",
       "      <td>0</td>\n",
       "      <td>114.0</td>\n",
       "      <td>0</td>\n",
       "    </tr>\n",
       "    <tr>\n",
       "      <th>537</th>\n",
       "      <td>1.0</td>\n",
       "      <td>0</td>\n",
       "      <td>1</td>\n",
       "      <td>1</td>\n",
       "      <td>1</td>\n",
       "      <td>0</td>\n",
       "      <td>3617</td>\n",
       "      <td>0.0</td>\n",
       "      <td>0</td>\n",
       "      <td>107.0</td>\n",
       "      <td>0</td>\n",
       "    </tr>\n",
       "  </tbody>\n",
       "</table>\n",
       "<p>96 rows × 11 columns</p>\n",
       "</div>"
      ],
      "text/plain": [
       "     Credit_History  Married  two_dependant  Education  Gender  one_dependant  \\\n",
       "92              1.0        1              1          0       1              0   \n",
       "529             1.0        0              0          0       1              0   \n",
       "505             1.0        1              1          1       1              0   \n",
       "358             0.0        1              0          0       1              0   \n",
       "512             1.0        1              1          1       1              0   \n",
       "..              ...      ...            ...        ...     ...            ...   \n",
       "281             1.0        1              0          1       1              0   \n",
       "299             1.0        1              0          1       1              1   \n",
       "522             1.0        1              0          1       1              0   \n",
       "33              1.0        1              0          1       1              0   \n",
       "537             1.0        0              1          1       1              0   \n",
       "\n",
       "     ApplicantIncome  CoapplicantIncome  Urban  LoanAmount  Rural  \n",
       "92              3273             1820.0      1        81.0      0  \n",
       "529             6783                0.0      0       130.0      0  \n",
       "505             3510             4416.0      0       243.0      1  \n",
       "358             3000             1666.0      1       100.0      0  \n",
       "512             3283             2035.0      1       148.0      0  \n",
       "..               ...                ...    ...         ...    ...  \n",
       "281             3927              800.0      0       112.0      0  \n",
       "299             2014             2925.0      1       113.0      0  \n",
       "522             5677             1424.0      0       100.0      1  \n",
       "33              3500             1667.0      0       114.0      0  \n",
       "537             3617                0.0      0       107.0      0  \n",
       "\n",
       "[96 rows x 11 columns]"
      ]
     },
     "execution_count": 125,
     "metadata": {},
     "output_type": "execute_result"
    }
   ],
   "source": [
    "X_test"
   ]
  },
  {
   "cell_type": "code",
   "execution_count": 126,
   "id": "compound-filling",
   "metadata": {},
   "outputs": [
    {
     "name": "stdout",
     "output_type": "stream",
     "text": [
      "[1]\n"
     ]
    }
   ],
   "source": [
    "print(model_.predict([[1,1,1,0,1,1,3273,1820,1,81,0]]))"
   ]
  },
  {
   "cell_type": "code",
   "execution_count": 127,
   "id": "freelance-wilderness",
   "metadata": {},
   "outputs": [
    {
     "data": {
      "text/plain": [
       "1"
      ]
     },
     "execution_count": 127,
     "metadata": {},
     "output_type": "execute_result"
    }
   ],
   "source": [
    "(model.predict(X_test))[0]"
   ]
  },
  {
   "cell_type": "code",
   "execution_count": 132,
   "id": "japanese-stomach",
   "metadata": {},
   "outputs": [
    {
     "data": {
      "text/plain": [
       "0"
      ]
     },
     "execution_count": 132,
     "metadata": {},
     "output_type": "execute_result"
    }
   ],
   "source": [
    "(model.predict(X_test))[3]"
   ]
  },
  {
   "cell_type": "code",
   "execution_count": null,
   "id": "differential-soundtrack",
   "metadata": {},
   "outputs": [],
   "source": []
  }
 ],
 "metadata": {
  "kernelspec": {
   "display_name": "Python 3 (ipykernel)",
   "language": "python",
   "name": "python3"
  },
  "language_info": {
   "codemirror_mode": {
    "name": "ipython",
    "version": 3
   },
   "file_extension": ".py",
   "mimetype": "text/x-python",
   "name": "python",
   "nbconvert_exporter": "python",
   "pygments_lexer": "ipython3",
   "version": "3.12.3"
  }
 },
 "nbformat": 4,
 "nbformat_minor": 5
}
